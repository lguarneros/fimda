{
 "cells": [
  {
   "cell_type": "markdown",
   "metadata": {},
   "source": [
    "# FIMDA\n",
    "## Script que realiza el análisis de dinámica para una trayectoria con 2 puentes di sulfuro.\n",
    "\n",
    "#### El presente script genera los archivos resultantes del análisis de una trayectoria haciendo uso:\n",
    "- Gromacs 5 y Gromacs 4\n",
    "- Xmgrace\n",
    "- VMD\n",
    "- Chimera\n",
    "- catdcd\n",
    "- trjconv.\n",
    "#### Se deberá contar con  la trayectoria que contenga el rmsd más bajo para realizar el análisis sobre ella.\n"
   ]
  },
  {
   "cell_type": "markdown",
   "metadata": {},
   "source": [
    "\n",
    "---\n",
    "\n",
    "# Librerías a utilizar \n",
    "\n",
    "---"
   ]
  },
  {
   "cell_type": "code",
   "execution_count": null,
   "metadata": {
    "collapsed": false
   },
   "outputs": [],
   "source": [
    "%matplotlib inline\n",
    "import numpy as np\n",
    "import pylab as pl\n",
    "import matplotlib.patches as mpatches\n",
    "import matplotlib.ticker as ticker\n",
    "import os\n",
    "import shutil\n",
    "from IPython.display import Image\n",
    "from matplotlib.ticker import FormatStrFormatter"
   ]
  },
  {
   "cell_type": "markdown",
   "metadata": {},
   "source": [
    "\n",
    "---\n",
    "\n",
    "# Ruta de la trayectoria\n",
    "\n",
    "---\n",
    "\n",
    "Escribir después de la diagonal, la ruta de la trayectoria seleccionada con el rmsd más bajo."
   ]
  },
  {
   "cell_type": "code",
   "execution_count": null,
   "metadata": {
    "collapsed": false
   },
   "outputs": [],
   "source": [
    "ruta=os.getcwd()\n",
    "c=input('Nombre de la trayectoria para realizar el análisis... Ejemplo: run001....')\n",
    "if os.path.isdir(c):\n",
    "    indir = '/'+c\n",
    "    print (indir)\n",
    "    ruta_old_traj=ruta+indir\n",
    "    print (ruta)\n",
    "    print (ruta_old_traj)\n",
    "else:\n",
    "    print ('La carpetac'+c+' no existe...')\n"
   ]
  },
  {
   "cell_type": "code",
   "execution_count": null,
   "metadata": {
    "collapsed": false
   },
   "outputs": [],
   "source": [
    "#\n",
    "ruta_scripts=ruta+'/scripts_fimda'\n",
    "print (ruta_scripts)\n",
    "if os.path.exists(ruta_scripts): \n",
    "    print ('Ruta identificada para búsqueda de scripst adicionales  ===>',ruta_scripts)\n",
    "else:\n",
    "        print ('La carpeta de scripst adicionales no existe, copiar en '+ruta_scripts+' ..!!!')"
   ]
  },
  {
   "cell_type": "markdown",
   "metadata": {},
   "source": [
    "\n",
    "---\n",
    "\n",
    "# Convirtiendo la trayectoria DCD -> XTC\n",
    "\n",
    "---\n",
    "\n",
    "Los siguientes comandos convierten la trayectoria DCD contenida en la carpeta seleccionada a formato de XTC\n"
   ]
  },
  {
   "cell_type": "markdown",
   "metadata": {},
   "source": [
    "## Crear la nueva ruta para enviar las trayectorias convertidas"
   ]
  },
  {
   "cell_type": "code",
   "execution_count": null,
   "metadata": {
    "collapsed": false
   },
   "outputs": [],
   "source": [
    "#Verificando que exista la nueva carpeta para la conversión de trayectorias\n",
    "#nuevaruta = ruta+'/'+indir+'_XTC'\n",
    "nuevaruta = ruta+indir+'_Dinamica'\n",
    "print ( nuevaruta )\n",
    "if not os.path.exists(nuevaruta): \n",
    "    os.makedirs(nuevaruta)\n",
    "    print ('Se ha creado la ruta ===>',nuevaruta)\n",
    "else:\n",
    "        print (\"La ruta \"+nuevaruta+\" existe..!!!\")\n",
    "    "
   ]
  },
  {
   "cell_type": "markdown",
   "metadata": {},
   "source": [
    "## Realizando la conversión de la trayectoria"
   ]
  },
  {
   "cell_type": "code",
   "execution_count": null,
   "metadata": {
    "collapsed": false
   },
   "outputs": [],
   "source": [
    "\n",
    "print ('Obtenemos los archivos a convertir')\n",
    "#Buscamos el archivo DCD, PDB y PSF para realizar las operaciones\n",
    "for filename in os.listdir(ruta_old_traj):\n",
    "    if filename.endswith('.dcd'):\n",
    "        dcd_file=filename\n",
    "    if filename.endswith('.psf'):\n",
    "        psf_file=filename\n",
    "    if filename.endswith('.pdb'):\n",
    "        pdb_file=filename\n",
    "\n",
    "print ('pdb file =>', pdb_file)\n",
    "print ('psf file =>', psf_file)\n",
    "print ('dcd file =>', dcd_file)\n",
    "\n",
    "\n",
    "print ( 'Nos vemos a ....', ruta_old_traj )\n",
    "os.chdir( ruta_old_traj )\n",
    "print ('\\nEjecutando CATDCD para convertir la trayectoria....')\n",
    "output_catdcd=!catdcd -otype trr -o output.trr $dcd_file \n",
    "print (output_catdcd.n)\n",
    "\n",
    "print ('\\nEjecutando TRJCONV para convertir la trayectoria....')\n",
    "output_trjconv=!trjconv -f output.trr -o output.xtc -timestep 20\n",
    "#print (output_trjconv.n)\n",
    "\n",
    "print ('\\nBorrando archivos temporales de conversión...')\n",
    "output_rm=!rm output.trr\n",
    "\n",
    "print ('\\nMoviendo los archivos de salida al directorio '+nuevaruta)\n",
    "source_file=ruta_old_traj+'/output.xtc'\n",
    "dest_file=nuevaruta+'/output.xtc'\n",
    "shutil.move(source_file,dest_file)\n",
    "\n",
    "print ('\\Copiando el archivo ionized.pdb a '+nuevaruta)\n",
    "source_file=ruta_old_traj+'/ionized.pdb'\n",
    "dest_file=nuevaruta+'/ionized.pdb'\n",
    "shutil.copy(source_file,dest_file)\n",
    "\n",
    "print ('\\nCopiando el archivo ionized.psf a '+nuevaruta)\n",
    "source_file=ruta_old_traj+'/ionized.psf'\n",
    "dest_file=nuevaruta+'/ionized.psf'\n",
    "shutil.copy(source_file,dest_file)\n",
    "\n",
    "\n",
    "print('\\nTrayectoria convertida, regresando a '+ruta)\n",
    "os.chdir( ruta )"
   ]
  },
  {
   "cell_type": "markdown",
   "metadata": {},
   "source": [
    "## Cargando la nueva trayectoria en VMD para su revisión"
   ]
  },
  {
   "cell_type": "code",
   "execution_count": null,
   "metadata": {
    "collapsed": false
   },
   "outputs": [],
   "source": [
    "print ('Visualizando la nueva trayectoria')\n",
    "file_psf=nuevaruta+'/'+psf_file\n",
    "traj = nuevaruta+'/output.xtc'\n",
    "!vmd $file_psf $traj"
   ]
  },
  {
   "cell_type": "markdown",
   "metadata": {},
   "source": [
    "\n",
    "---\n",
    "\n",
    "# Calculando el RMSD con Gromacs 5                             \n",
    "\n",
    "---\n",
    "\n",
    "El siguiente script obtiene el RMSD de la trayectoria haciendo uso de Gromacs 5\n"
   ]
  },
  {
   "cell_type": "markdown",
   "metadata": {},
   "source": [
    "## Creando la carpeta de RMSD"
   ]
  },
  {
   "cell_type": "code",
   "execution_count": null,
   "metadata": {
    "collapsed": false
   },
   "outputs": [],
   "source": [
    "### Creando el directorio para el análisis del RMSD\n",
    "#Verificando que exista la nueva carpeta para la conversión de trayectorias\n",
    "#nuevaruta = ruta+'/'+indir+'_XTC'\n",
    "ruta_rmsd = nuevaruta+'/rmsd'\n",
    "print ( ruta_rmsd )\n",
    "if not os.path.exists(ruta_rmsd): \n",
    "    os.makedirs(ruta_rmsd)\n",
    "    print ('Se ha creado la ruta ===>',ruta_rmsd)\n",
    "else:\n",
    "        print (\"La ruta \"+ruta_rmsd+\" existe..!!!\")\n",
    "    \n",
    "print ( 'Nos vamos a ....', ruta_rmsd )\n",
    "os.chdir( ruta_rmsd )"
   ]
  },
  {
   "cell_type": "markdown",
   "metadata": {},
   "source": [
    "## Calculando el RMSD con la opción 3 'C-Alpha'\n",
    "Select group for least squares fit\n",
    "\n",
    "Group     3 (        C-alpha)\n",
    "Select a group: 3\n",
    "\n",
    "Selected 3: 'C-alpha'\n",
    "\n",
    "Select group for RMSD calculation\n",
    "Group     3 (        C-alpha)\n",
    "\n",
    "Select a group: 3\n",
    "Selected 3: 'C-alpha'"
   ]
  },
  {
   "cell_type": "code",
   "execution_count": null,
   "metadata": {
    "collapsed": false
   },
   "outputs": [],
   "source": [
    "\n",
    "print ('Ejecutando el análisis de rmsd...')\n",
    "!echo 3 3 | g_rms -f ../output.xtc -s ../ionized.pdb -a avgrp.xvg"
   ]
  },
  {
   "cell_type": "markdown",
   "metadata": {},
   "source": [
    "## Creando archivo rmsd.dat para su visualización en XMGRACE\n",
    "Se genera el archivo de salida rmsd.dat, éste se deberá visualizar con Xmgrace para guardarlo en formato PNG."
   ]
  },
  {
   "cell_type": "code",
   "execution_count": null,
   "metadata": {
    "collapsed": false
   },
   "outputs": [],
   "source": [
    "#Inicializando vector\n",
    "rmsd=[]\n",
    "\n",
    "try:\n",
    "     archivo = open( 'rmsd.xvg' )\n",
    "except IOError:\n",
    "     print ('No se pudo abrir el archivo o no existe·..')\n",
    "\n",
    "i=0\n",
    "for linea in archivo.readlines():\n",
    "    fila = linea.strip()\n",
    "    sl = fila.split()\n",
    "    cadena=sl[0]\n",
    "    if (not '#' in cadena) and (not '@' in cadena):\n",
    "        num=float(sl[0])\n",
    "        #num2=float(sl[1])\n",
    "        num=num/1000\n",
    "        rmsd.append(repr(num)+'\\t'+sl[1]+'\\n')\n",
    "        i=i+1\n",
    "\n",
    "\n",
    "#Escribiendo el archivo RMSD\n",
    "f = open('rmsd.dat', 'w')\n",
    "#f.write('@    title \"RMSD\" \\n')\n",
    "f.write('@    xaxis  label \" Time (ns)\" \\n')\n",
    "f.write('@    xaxis  label char size 1.480000\\n')\n",
    "f.write('@    xaxis  bar linewidth 3.0\\n')\n",
    "f.write('@    xaxis  ticklabel char size 1.480000\\n')\n",
    "f.write('@    yaxis  label \" RMSD (nm)\" \\n')\n",
    "f.write('@    yaxis  label char size 1.480000\\n')\n",
    "f.write('@    yaxis  bar linewidth 3.0\\n')\n",
    "f.write('@    yaxis  ticklabel char size 1.480000\\n')\n",
    "f.write('@    s0 line linewidth 1.5\\n')\n",
    "\n",
    "f.write('@TYPE xy \\n')\n",
    "#f.write('@ subtitle \"C-alpha after lsq fit to C-alpha\" \\n')\n",
    "f.write(\"\".join(rmsd))\n",
    "f.close()\n"
   ]
  },
  {
   "cell_type": "code",
   "execution_count": null,
   "metadata": {
    "collapsed": true
   },
   "outputs": [],
   "source": [
    "#Cargando el archivo para visualizar en xmgrace\n",
    "!xmgrace rmsd.dat\n"
   ]
  },
  {
   "cell_type": "code",
   "execution_count": null,
   "metadata": {
    "collapsed": false
   },
   "outputs": [],
   "source": [
    "#Cargando la imagen generada en xmgrace\n",
    "Image(filename='rmsd.png')"
   ]
  },
  {
   "cell_type": "markdown",
   "metadata": {},
   "source": [
    "## Creando el archivo rmsd_residue.dat para visualizar con xmgrace\n",
    "Se crea el archivo rmsd_residue.dat formateado para su visualización en Xmgrace, en donde se deberá guardar como imagen PNG."
   ]
  },
  {
   "cell_type": "code",
   "execution_count": null,
   "metadata": {
    "collapsed": false
   },
   "outputs": [],
   "source": [
    "#Inicializando vector\n",
    "rmsd_residue=[]\n",
    "\n",
    "try:\n",
    "     archivo_rmsd = open( 'aver.xvg' )\n",
    "except IOError:\n",
    "     print ('No se pudo abrir el archivo o no existe·..')\n",
    "\n",
    "i=1\n",
    "for linea in archivo_rmsd.readlines():\n",
    "    fila = linea.strip()\n",
    "    sl = fila.split()\n",
    "    cadena=sl[0]\n",
    "    if (not '#' in cadena) and (not '@' in cadena):\n",
    "        num=int(sl[0])\n",
    "        print ('Residuo =>',num+1)\n",
    "        rmsd_residue.append(repr(num+1)+'\\t'+sl[1]+'\\n')\n",
    "        i=i+1\n",
    "\n",
    "#Escribiendo el archivo RMSD_RESIDUE\n",
    "f = open('rmsd_residue.dat', 'w')\n",
    "#f.write('@    title \"C-alpha\" \\n')\n",
    "f.write('@    xaxis  label \"Residue\" \\n')\n",
    "f.write('@    xaxis  label char size 1.480000\\n')\n",
    "f.write('@    xaxis  bar linewidth 3.0\\n')\n",
    "f.write('@    xaxis  ticklabel char size 1.480000\\n')\n",
    "f.write('@    yaxis  label \" RMSD (nm)\" \\n')\n",
    "f.write('@    yaxis  label char size 1.480000\\n')\n",
    "f.write('@    yaxis  bar linewidth 3.0\\n')\n",
    "f.write('@    yaxis  ticklabel char size 1.480000\\n')\n",
    "f.write('@    s0 line linewidth 2.5\\n')\n",
    "f.write('@    s0 symbol 1\\n')\n",
    "f.write('@    s0 symbol size 1.000000\\n')\n",
    "f.write('@    s0 symbol color 1\\n')\n",
    "f.write('@    s0 symbol pattern 1\\n')\n",
    "f.write('@    s0 symbol fill color 2\\n')\n",
    "f.write('@    s0 symbol fill pattern 1\\n')\n",
    "f.write('@    s0 symbol linewidth 1.0\\n')\n",
    "f.write('@TYPE xy \\n')\n",
    "f.write(\"\".join(rmsd_residue))\n",
    "f.close()\n",
    "\n",
    "\n",
    "          \n"
   ]
  },
  {
   "cell_type": "code",
   "execution_count": null,
   "metadata": {
    "collapsed": true
   },
   "outputs": [],
   "source": [
    "!xmgrace rmsd_residue.dat"
   ]
  },
  {
   "cell_type": "code",
   "execution_count": null,
   "metadata": {
    "collapsed": false
   },
   "outputs": [],
   "source": [
    "#Cargando la imagen generada en xmgrace\n",
    "Image(filename='rmsd_residue.png')"
   ]
  },
  {
   "cell_type": "markdown",
   "metadata": {},
   "source": [
    "## Creando archivo rmsd.dat para su visualización en Matplotlib\n",
    "Se genera el gráfico de salida para matplotlib"
   ]
  },
  {
   "cell_type": "code",
   "execution_count": null,
   "metadata": {
    "collapsed": false
   },
   "outputs": [],
   "source": [
    "\n",
    "\n",
    "data_rmsd=np.loadtxt('rmsd.xvg',comments=['#', '@'])\n",
    "\n",
    "#Engrosar marco    \n",
    "fig=pl.figure(figsize=(20, 12), dpi=100, linewidth=3.0)\n",
    "ax = fig.add_subplot(111)\n",
    "for axis in ['top','bottom','left','right']:\n",
    "  ax.spines[axis].set_linewidth(4)\n",
    "\n",
    "#Formateando los valores de los ejes\n",
    "ax.yaxis.set_major_formatter(FormatStrFormatter('%.2f'))\n",
    "\n",
    "\n",
    "pl.plot(data_rmsd[:,0]/1000, data_rmsd[:,1], linewidth = 2, markeredgewidth=3, color='black')\n",
    "pl.xlabel(\"Time (ns)\", fontsize = 40)\n",
    "pl.ylabel('RMSD (nm)', fontsize = 40)\n",
    "#pl.suptitle('RMSD', fontsize=50)\n",
    "#pl.title('C-alpha after lsq fit to C-alpha', fontsize=30)\n",
    "pl.xticks(fontsize=30) \n",
    "pl.yticks(fontsize=30) \n",
    "\n",
    "\n"
   ]
  },
  {
   "cell_type": "markdown",
   "metadata": {},
   "source": [
    "## Creando archivo rmsd_residue.dat para su visualización en Matplotlib\n",
    "Se genera el gráfico de salida para matplotlib"
   ]
  },
  {
   "cell_type": "code",
   "execution_count": null,
   "metadata": {
    "collapsed": false
   },
   "outputs": [],
   "source": [
    "data_rmsd_res=np.loadtxt('aver.xvg',comments=['#', '@'])\n",
    "\n",
    "    \n",
    "#Engrosar marco    \n",
    "fig=pl.figure(figsize=(20, 12), dpi=100, linewidth=3.0)\n",
    "ax = fig.add_subplot(111)\n",
    "for axis in ['top','bottom','left','right']:\n",
    "  ax.spines[axis].set_linewidth(4)\n",
    "\n",
    "#Formateando los valores de los ejes\n",
    "ax.yaxis.set_major_formatter(FormatStrFormatter('%.2f'))\n",
    "\n",
    "pl.plot(data_rmsd_res[:,0]+1, data_rmsd_res[:,1],  '-o', color='black', markersize=25,\n",
    "        markerfacecolor='red',markeredgecolor='black',markeredgewidth=3, linewidth = 4, )\n",
    "pl.xlabel(\"Residue\", fontsize = 40)\n",
    "pl.ylabel('RMSD (nm)', fontsize = 40)\n",
    "#pl.title('C-alpha', fontsize=40)\n",
    "pl.xticks(fontsize=30) \n",
    "pl.yticks(fontsize=30) \n",
    "pl.xlim(0, len(data_rmsd_res[:,1]))"
   ]
  },
  {
   "cell_type": "markdown",
   "metadata": {},
   "source": [
    "\n",
    "---\n",
    "\n",
    "# RMSF\n",
    "\n",
    "---\n",
    "\n",
    "Se crea una carpeta RMSF para guardar los archivos generados."
   ]
  },
  {
   "cell_type": "code",
   "execution_count": null,
   "metadata": {
    "collapsed": false
   },
   "outputs": [],
   "source": [
    "### Creando el directorio para el análisis del RMSF\n",
    "#Verificando que exista la nueva carpeta para la conversión de trayectorias\n",
    "ruta_rmsf = nuevaruta+'/rmsf'\n",
    "print ( ruta_rmsf )\n",
    "if not os.path.exists(ruta_rmsf): \n",
    "    os.makedirs(ruta_rmsf)\n",
    "    print ('Se ha creado la ruta ===>',ruta_rmsf)\n",
    "else:\n",
    "        print (\"La ruta \"+ruta_rmsf+\" existe..!!!\")\n",
    "\n",
    "print ( 'Nos vamos a ....', ruta_rmsf )\n",
    "os.chdir( ruta_rmsf )"
   ]
  },
  {
   "cell_type": "markdown",
   "metadata": {},
   "source": [
    "## Calculando el RMSF con la opción 3 'C-Alpha'\n",
    "\n"
   ]
  },
  {
   "cell_type": "code",
   "execution_count": null,
   "metadata": {
    "collapsed": false
   },
   "outputs": [],
   "source": [
    "\n",
    "print ('Ejecutando el análisis de rmsf...')\n",
    "!echo 3 | g_rmsf -f ../output.xtc -s ../ionized.pdb -oq bfac.pdb -o rmsf.xvg -res"
   ]
  },
  {
   "cell_type": "markdown",
   "metadata": {},
   "source": [
    "## Creando archivo rmsf.dat para su visualización en XMGRACE\n",
    "Se genera el archivo de salida rmsf.dat, éste se deberá visualizar con Xmgrace para guardarlo en formato PNG."
   ]
  },
  {
   "cell_type": "code",
   "execution_count": null,
   "metadata": {
    "collapsed": false,
    "scrolled": true
   },
   "outputs": [],
   "source": [
    "#Inicializando vector\n",
    "rmsf=[]\n",
    "rmsf_x=[]\n",
    "rmsf_y=[]\n",
    "try:\n",
    "     file_rmsf = open( 'rmsf.xvg' )\n",
    "except IOError:\n",
    "     print ('No se pudo abrir el archivo o no existe·..')\n",
    "\n",
    "i=0\n",
    "for linea in file_rmsf.readlines():\n",
    "    fila = linea.strip()\n",
    "    sl = fila.split()\n",
    "    cadena=sl[0]\n",
    "    if (not '#' in cadena) and (not '@' in cadena):\n",
    "        print ('Residue =>',cadena)\n",
    "        rmsf.append(sl[0]+'\\t'+sl[1]+'\\n')\n",
    "        rmsf_x.append(int(sl[0]))\n",
    "        rmsf_y.append(float(sl[1]))\n",
    "        i=i+1\n",
    "\n",
    "file_rmsf.close()\n",
    "#Escribiendo el archivo RMSD\n",
    "f = open('rmsf.dat', 'w')\n",
    "#f.write('@    title \"RMSF fluctuation\" \\n')\n",
    "f.write('@    xaxis  label \" Residue\" \\n')\n",
    "f.write('@    xaxis  label char size 1.480000\\n')\n",
    "f.write('@    xaxis  bar linewidth 3.0\\n')\n",
    "f.write('@    xaxis  ticklabel char size 1.480000\\n')\n",
    "f.write('@    yaxis  label \"RMSF (nm)\" \\n')\n",
    "f.write('@    yaxis  label char size 1.480000\\n')\n",
    "f.write('@    yaxis  bar linewidth 3.0\\n')\n",
    "f.write('@    yaxis  ticklabel char size 1.480000\\n')\n",
    "f.write('@    s0 line linewidth 2.5\\n')\n",
    "f.write('@    s0 symbol 1\\n')\n",
    "f.write('@    s0 symbol size 1.000000\\n')\n",
    "f.write('@    s0 symbol color 1\\n')\n",
    "f.write('@    s0 symbol pattern 1\\n')\n",
    "f.write('@    s0 symbol fill color 2\\n')\n",
    "f.write('@    s0 symbol fill pattern 1\\n')\n",
    "f.write('@    s0 symbol linewidth 1.0\\n')\n",
    "\n",
    "f.write('@TYPE xy \\n')\n",
    "f.write(\"\".join(rmsf))\n",
    "f.close()\n"
   ]
  },
  {
   "cell_type": "code",
   "execution_count": null,
   "metadata": {
    "collapsed": true
   },
   "outputs": [],
   "source": [
    "!xmgrace rmsf.dat"
   ]
  },
  {
   "cell_type": "code",
   "execution_count": null,
   "metadata": {
    "collapsed": false
   },
   "outputs": [],
   "source": [
    "#Cargando la imagen generada en xmgrace\n",
    "Image(filename='rmsf.png')"
   ]
  },
  {
   "cell_type": "markdown",
   "metadata": {},
   "source": [
    "## Creando archivo rmsf.dat para su visualización en Matplotlib\n",
    "Se genera el gráfico de salida para matplotlib"
   ]
  },
  {
   "cell_type": "code",
   "execution_count": null,
   "metadata": {
    "collapsed": false
   },
   "outputs": [],
   "source": [
    "data_rmsf=np.loadtxt('rmsf.xvg',comments=['#', '@'])\n",
    "\n",
    "    \n",
    "#Engrosar marco    \n",
    "fig=pl.figure(figsize=(20, 12), dpi=100, linewidth=3.0)\n",
    "ax = fig.add_subplot(111)\n",
    "for axis in ['top','bottom','left','right']:\n",
    "  ax.spines[axis].set_linewidth(4)\n",
    "\n",
    "#Formateando los valores de los ejes\n",
    "ax.yaxis.set_major_formatter(FormatStrFormatter('%.2f'))\n",
    "\n",
    "pl.plot(data_rmsf[:,0], data_rmsf[:,1],  '-o', color='black', markersize=25,\n",
    "        markerfacecolor='red',markeredgecolor='black',markeredgewidth=3, linewidth = 4, )\n",
    "pl.xlabel(\"Residue\", fontsize = 40)\n",
    "pl.ylabel('RMSF (nm)', fontsize = 40)\n",
    "#pl.title('RMSF Fluctuation', fontsize=40)\n",
    "pl.xticks(fontsize=30) \n",
    "pl.yticks(fontsize=30) \n",
    "pl.xlim(0, len(data_rmsf[:,1]))\n"
   ]
  },
  {
   "cell_type": "markdown",
   "metadata": {
    "collapsed": true
   },
   "source": [
    "\n",
    "---\n",
    "\n",
    "# B-factors\n",
    "\n",
    "---"
   ]
  },
  {
   "cell_type": "markdown",
   "metadata": {},
   "source": [
    "## Generando archivo para visualizarlo con XMGRACE"
   ]
  },
  {
   "cell_type": "code",
   "execution_count": null,
   "metadata": {
    "collapsed": false,
    "scrolled": true
   },
   "outputs": [],
   "source": [
    "#Inicializando vector\n",
    "bfactors=[]\n",
    "try:\n",
    "     file_bfactor = open( 'bfac.pdb' )\n",
    "except IOError:\n",
    "     print ('No se pudo abrir el archivo o no existe·..')\n",
    "\n",
    "i=0\n",
    "for linea in file_bfactor.readlines():\n",
    "    fila = linea.strip()\n",
    "    sl = fila.split()\n",
    "    if (sl[0]=='ATOM'):\n",
    "        #print (sl[0])\n",
    "        idresidue=fila[23:26]\n",
    "        bfactor=fila[60:66]\n",
    "        print (idresidue + '\\t'+bfactor)\n",
    "        bfactors.append(idresidue+'\\t'+bfactor+'\\n')\n",
    "        #i=i+1\n",
    "\n",
    "\n",
    "#Escribiendo el archivo BFACTOR.dat\n",
    "f = open('bfactor.dat', 'w')\n",
    "#f.write('@    title \"B-factors\" \\n')\n",
    "foo = 'baz \"\\\\\"'\n",
    "f.write('@    xaxis  label \" Residue\" \\n')\n",
    "f.write('@    xaxis  label char size 1.480000\\n')\n",
    "f.write('@    xaxis  bar linewidth 3.0\\n')\n",
    "f.write('@    xaxis  ticklabel char size 1.480000\\n')\n",
    "f.write('@    yaxis  label \"B-factors (' +\"\\\\\"+'cE'+\"\\\\\"+'C)\"\\n')\n",
    "f.write('@    yaxis  label char size 1.480000\\n')\n",
    "f.write('@    yaxis  bar linewidth 3.0\\n')\n",
    "f.write('@    yaxis  ticklabel char size 1.480000\\n')\n",
    "f.write('@    s0 line linewidth 2.5\\n')\n",
    "f.write('@    s0 symbol 1\\n')\n",
    "f.write('@    s0 symbol size 1.000000\\n')\n",
    "f.write('@    s0 symbol color 1\\n')\n",
    "f.write('@    s0 symbol pattern 1\\n')\n",
    "f.write('@    s0 symbol fill color 2\\n')\n",
    "f.write('@    s0 symbol fill pattern 1\\n')\n",
    "f.write('@    s0 symbol linewidth 1.0\\n')\n",
    "\n",
    "f.write('@TYPE xy \\n')\n",
    "f.write(\"\".join(bfactors))\n",
    "f.close()\n"
   ]
  },
  {
   "cell_type": "code",
   "execution_count": null,
   "metadata": {
    "collapsed": true
   },
   "outputs": [],
   "source": [
    "!xmgrace bfactor.dat"
   ]
  },
  {
   "cell_type": "code",
   "execution_count": null,
   "metadata": {
    "collapsed": false
   },
   "outputs": [],
   "source": [
    "#Cargando la imagen generada en xmgrace\n",
    "Image(filename='bfactor.png')"
   ]
  },
  {
   "cell_type": "markdown",
   "metadata": {},
   "source": [
    "## Generando archivo para visualizar con Matplotlib"
   ]
  },
  {
   "cell_type": "code",
   "execution_count": null,
   "metadata": {
    "collapsed": false
   },
   "outputs": [],
   "source": [
    "#Inicializando vector\n",
    "bfactors=[]\n",
    "try:\n",
    "     file_bfactor = open( 'bfac.pdb' )\n",
    "except IOError:\n",
    "     print ('No se pudo abrir el archivo o no existe·..')\n",
    "\n",
    "i=0\n",
    "print ('Residuo' + '\\t'+'bfactor')\n",
    "for linea in file_bfactor.readlines():\n",
    "    fila = linea.strip()\n",
    "    sl = fila.split()\n",
    "    if (sl[0]=='ATOM'):\n",
    "        #print (sl[0])\n",
    "        idresidue=fila[23:26]\n",
    "        bfactor=fila[60:66]\n",
    "        print (idresidue + '\\t'+bfactor)\n",
    "        bfactors.append(idresidue+'\\t'+bfactor+'\\n')\n",
    "        #i=i+1\n",
    "\n",
    "#Escribiendo el archivo BFACTOR.dat\n",
    "f = open('bfactor.dat', 'w')\n",
    "\n",
    "f.write(\"\".join(bfactors))\n",
    "f.close()\n",
    "\n",
    "data_bfactor=np.loadtxt('bfactor.dat',comments=['#', '@'])\n",
    "#Engrosar marco    \n",
    "fig=pl.figure(figsize=(20, 12), dpi=100, linewidth=3.0)\n",
    "ax = fig.add_subplot(111)\n",
    "for axis in ['top','bottom','left','right']:\n",
    "  ax.spines[axis].set_linewidth(4)\n",
    "\n",
    "#Formateando los valores de los ejes\n",
    "#ax.yaxis.set_major_formatter(FormatStrFormatter('%.2f'))\n",
    "\n",
    "pl.plot(data_bfactor[:,0], data_bfactor[:,1],  '-o', color='black', markersize=25,\n",
    "        markerfacecolor='red',markeredgecolor='black',markeredgewidth=3, linewidth = 4, )\n",
    "\n",
    "pl.xlabel('Residue', fontsize = 40)\n",
    "pl.ylabel('B-factors ('+ r'$\\AA$'+')' , fontsize = 40)\n",
    "#pl.title('B-Factors', fontsize=40)\n",
    "pl.xticks(fontsize=30) \n",
    "pl.yticks(fontsize=30) \n",
    "pl.xlim(0, len(data_bfactor[:,1]))\n"
   ]
  },
  {
   "cell_type": "markdown",
   "metadata": {
    "collapsed": true
   },
   "source": [
    "\n",
    "---\n",
    "\n",
    "# Secondary Structure\n",
    "\n",
    "---\n",
    "\n",
    "Se crea la carpeta para cálculo de la estructura\n"
   ]
  },
  {
   "cell_type": "code",
   "execution_count": null,
   "metadata": {
    "collapsed": false
   },
   "outputs": [],
   "source": [
    "### Creando el directorio para el análisis del RMSF\n",
    "#Verificando que exista la nueva carpeta para la conversión de trayectorias\n",
    "ruta_ss = nuevaruta+'/estructura'\n",
    "print ( ruta_ss )\n",
    "if not os.path.exists(ruta_ss): \n",
    "    os.makedirs(ruta_ss)\n",
    "    print ('Se ha creado la ruta ===>',ruta_ss)\n",
    "else:\n",
    "        print (\"La ruta \"+ruta_ss+\" existe..!!!\")\n",
    "        \n",
    "print ( 'Nos vamos a ....', ruta_ss )\n",
    "os.chdir( ruta_ss )"
   ]
  },
  {
   "cell_type": "markdown",
   "metadata": {},
   "source": [
    "## Calculando la estructura secundaria\n",
    "Se necesita contar con el programa dssp en la ruta /usr/local/bin, el cual se enlaza con Gromacs 5"
   ]
  },
  {
   "cell_type": "code",
   "execution_count": null,
   "metadata": {
    "collapsed": false
   },
   "outputs": [],
   "source": [
    "\n",
    "print ('Ejecutando el análisis de esctructura secundaria...') \n",
    "!echo 5 | do_dssp -f ../output.xtc -s ../ionized.pdb -o sec_est.xpm -tu ns\n"
   ]
  },
  {
   "cell_type": "code",
   "execution_count": null,
   "metadata": {
    "collapsed": true
   },
   "outputs": [],
   "source": [
    "print ('\\n Convirtiendo el archivo a ps...')\n",
    "!xpm2ps -f sec_est.xpm -by 6 -bx .1 -o est_sec.eps\n",
    "\n"
   ]
  },
  {
   "cell_type": "code",
   "execution_count": null,
   "metadata": {
    "collapsed": true
   },
   "outputs": [],
   "source": [
    "print('\\nConvirtiendo a png...')\n",
    "!convert -density 600 est_sec.eps -resize 1024x1024 est_sec.png"
   ]
  },
  {
   "cell_type": "code",
   "execution_count": null,
   "metadata": {
    "collapsed": false
   },
   "outputs": [],
   "source": [
    "print ('Cargando el archivo...')\n",
    "Image(filename='est_sec.png', width=1024)"
   ]
  },
  {
   "cell_type": "markdown",
   "metadata": {},
   "source": [
    "\n",
    "---\n",
    "\n",
    "# R-GYRATE\n",
    "\n",
    "---\n",
    "\n",
    "Se crea una carpeta rgiro para guardar los archivos generados."
   ]
  },
  {
   "cell_type": "code",
   "execution_count": null,
   "metadata": {
    "collapsed": false
   },
   "outputs": [],
   "source": [
    "### Creando el directorio para el análisis del r-gyro\n",
    "#Verificando que exista la nueva carpeta para la conversión de trayectorias\n",
    "ruta_rgyro = nuevaruta+'/rgyro'\n",
    "print ( ruta_rgyro )\n",
    "if not os.path.exists(ruta_rgyro): \n",
    "    os.makedirs(ruta_rgyro)\n",
    "    print ('Se ha creado la ruta ===>',ruta_rgyro)\n",
    "else:\n",
    "        print (\"La ruta \"+ruta_rgyro+\" existe..!!!\")\n",
    "\n",
    "print ( 'Nos vamos a ....', ruta_rgyro)\n",
    "os.chdir( ruta_rgyro )"
   ]
  },
  {
   "cell_type": "markdown",
   "metadata": {},
   "source": [
    "## Calculando el r-gyro con la opción (3) - C-alpha\n",
    "Se calcula para los carbonos alfa."
   ]
  },
  {
   "cell_type": "code",
   "execution_count": null,
   "metadata": {
    "collapsed": false,
    "scrolled": true
   },
   "outputs": [],
   "source": [
    "\n",
    "print ('Ejecutando el análisis de rgyro...')\n",
    "!echo 3 | g_gyrate -f ../output.xtc -s ../ionized.pdb -o gyrate.xvg\n"
   ]
  },
  {
   "cell_type": "markdown",
   "metadata": {},
   "source": [
    "## Generando el archivo rgyro.dat para su análisis con XMGRACE"
   ]
  },
  {
   "cell_type": "code",
   "execution_count": null,
   "metadata": {
    "collapsed": true
   },
   "outputs": [],
   "source": [
    "#Inicializando vector\n",
    "rgyro=[]\n",
    "try:\n",
    "     file_rmsf = open( 'gyrate.xvg' )\n",
    "except IOError:\n",
    "     print ('No se pudo abrir el archivo o no existe·..')\n",
    "\n",
    "i=0\n",
    "for linea in file_rmsf.readlines():\n",
    "    fila = linea.strip()\n",
    "    sl = fila.split()\n",
    "    cadena=sl[0]\n",
    "    if (not '#' in cadena) and (not '@' in cadena):\n",
    "        num=float(sl[0])\n",
    "        #num2=float(sl[1])\n",
    "        num=num/1000\n",
    "        rgyro.append(repr(num)+'\\t'+sl[1]+'\\n')\n",
    "        i=i+1\n",
    "\n",
    "\n",
    "#Escribiendo el archivo RGYRO.DAT\n",
    "f = open('rgyro.dat', 'w')\n",
    "#f.write('@    title \"Radius of gyration\" \\n')\n",
    "f.write('@    xaxis  label \" Time (ns)\" \\n')\n",
    "f.write('@    xaxis  label char size 1.480000\\n')\n",
    "f.write('@    xaxis  bar linewidth 3.0\\n')\n",
    "f.write('@    xaxis  ticklabel char size 1.480000\\n')\n",
    "f.write('@    yaxis  label \"Rg (nm)\" \\n')\n",
    "f.write('@    yaxis  label char size 1.480000\\n')\n",
    "f.write('@    yaxis  bar linewidth 3.0\\n')\n",
    "f.write('@    yaxis  ticklabel char size 1.480000\\n')\n",
    "f.write('@    s0 line linewidth 2.5\\n')\n",
    "\n",
    "\n",
    "f.write('@TYPE xy \\n')\n",
    "f.write(\"\".join(rgyro))\n",
    "f.close()\n"
   ]
  },
  {
   "cell_type": "code",
   "execution_count": null,
   "metadata": {
    "collapsed": true
   },
   "outputs": [],
   "source": [
    "!xmgrace rgyro.dat"
   ]
  },
  {
   "cell_type": "code",
   "execution_count": null,
   "metadata": {
    "collapsed": false
   },
   "outputs": [],
   "source": [
    "#Cargando la imagen generada en xmgrace\n",
    "Image(filename='rgyro.png')"
   ]
  },
  {
   "cell_type": "markdown",
   "metadata": {},
   "source": [
    "## Ploteando el archivo gyrate.xvg con matplotlib"
   ]
  },
  {
   "cell_type": "code",
   "execution_count": null,
   "metadata": {
    "collapsed": false
   },
   "outputs": [],
   "source": [
    "data_rgyro=np.loadtxt('gyrate.xvg',comments=['#', '@'])\n",
    "\n",
    "    \n",
    "#Engrosar marco    \n",
    "fig=pl.figure(figsize=(20, 12), dpi=100, linewidth=3.0)\n",
    "ax = fig.add_subplot(111)\n",
    "for axis in ['top','bottom','left','right']:\n",
    "  ax.spines[axis].set_linewidth(4)\n",
    "\n",
    "#Formateando los valores de los ejes\n",
    "ax.yaxis.set_major_formatter(FormatStrFormatter('%.2f'))\n",
    "\n",
    "pl.plot(data_rgyro[:,0]/1000, data_rgyro[:,1], linewidth = 2, color='black')\n",
    "pl.xlabel(\"Time (ns)\", fontsize = 40)\n",
    "pl.ylabel('Rg (nm)', fontsize = 40)\n",
    "#pl.suptitle('Radius of gyration', fontsize=50)\n",
    "pl.xticks(fontsize=30) \n",
    "pl.yticks(fontsize=30) "
   ]
  },
  {
   "cell_type": "markdown",
   "metadata": {},
   "source": [
    "\n",
    "---\n",
    "\n",
    "# RMSD Helix Alfa\n",
    "\n",
    "---\n",
    "  Para realizar este análisis se debe cargar el pdb original de la proteina que se encuentra en la carpeta 01_BUILD.\n",
    "  \n",
    "  Cargarlo con VMD y dirigirse al Menú EXTENSIONS -> ANALYSIS -> SEQUENCE VIEWER, en la cual se tomará el rango de átomos del campo Struct (H), el cual se proporcionará de la forma \"resid X1 to X2\" donde X1 es primer átomo de la helix y X2 el último átomo de la helix."
   ]
  },
  {
   "cell_type": "code",
   "execution_count": null,
   "metadata": {
    "collapsed": false
   },
   "outputs": [],
   "source": [
    "### Creando el directorio para el análisis del RMSF\n",
    "#Verificando que exista la nueva carpeta para la conversión de trayectorias\n",
    "ruta_helix = nuevaruta+'/rmsd_helix'\n",
    "print ( ruta_helix )\n",
    "if not os.path.exists(ruta_helix): \n",
    "    os.makedirs(ruta_helix)\n",
    "    print ('Se ha creado la ruta ===>',ruta_helix)\n",
    "else:\n",
    "        print (\"La ruta \"+ruta_helix+\" existe..!!!\")\n",
    "\n",
    "print ( 'Nos vamos a ....', ruta_helix)\n",
    "os.chdir( ruta_helix )"
   ]
  },
  {
   "cell_type": "markdown",
   "metadata": {},
   "source": [
    "## Entrada de datos\n",
    "Para la entrada se deberá dar con la opción **\"resid X to X\"**."
   ]
  },
  {
   "cell_type": "code",
   "execution_count": null,
   "metadata": {
    "collapsed": false
   },
   "outputs": [],
   "source": [
    "num=input('Número de hélices con las que cuenta la proteína:')\n",
    "print (num)"
   ]
  },
  {
   "cell_type": "code",
   "execution_count": null,
   "metadata": {
    "collapsed": false
   },
   "outputs": [],
   "source": [
    "if (int(num)==1):\n",
    "    indices_ha1=input('Proporciona el rango de índices de la Hélice 1:')\n",
    "    print (indices_ha1)\n",
    "    r_helix_1=1\n",
    "    r_helix_2=0\n",
    "    r_helix_3=0\n",
    "    r_helix_4=0\n",
    "if (int(num)==2):\n",
    "    indices_ha1=input('Proporciona el rango de índices de la Hélice 1:')\n",
    "    print (indices_ha1)\n",
    "    indices_ha2=input('Proporciona el rango de índices de la Hélice 2:')\n",
    "    print (indices_ha2)\n",
    "    r_helix_1=1\n",
    "    r_helix_2=1\n",
    "    r_helix_3=0\n",
    "    r_helix_4=0\n",
    "if (int(num)==3):\n",
    "    indices_ha1=input('Proporciona el rango de índices de la Hélice 1:')\n",
    "    print (indices_ha1)\n",
    "    indices_ha2=input('Proporciona el rango de índices de la Hélice 2:')\n",
    "    print (indices_ha2)\n",
    "    indices_ha3=input('Proporciona el rango de índices de la Hélice 3:')\n",
    "    print (indices_ha3)\n",
    "    r_helix_1=1\n",
    "    r_helix_2=1\n",
    "    r_helix_3=1\n",
    "    r_helix_4=0\n",
    "if (int(num)==4):\n",
    "    indices_ha1=input('Proporciona el rango de índices de la Hélice 1:')\n",
    "    print (indices_ha1)\n",
    "    indices_ha2=input('Proporciona el rango de índices de la Hélice 2:')\n",
    "    print (indices_ha2)\n",
    "    indices_ha3=input('Proporciona el rango de índices de la Hélice 3:')\n",
    "    print (indices_ha3)\n",
    "    indices_ha4=input('Proporciona el rango de índices de la Hélice 4:')\n",
    "    print (indices_ha4)\n",
    "    r_helix_1=1\n",
    "    r_helix_2=1\n",
    "    r_helix_3=1\n",
    "    r_helix_4=1"
   ]
  },
  {
   "cell_type": "code",
   "execution_count": null,
   "metadata": {
    "collapsed": false
   },
   "outputs": [],
   "source": [
    "#Script para vmd de la Hélice Alfa 2\n",
    "psf=ruta_old_traj+'/'+psf_file\n",
    "dcd=ruta_old_traj+'/'+dcd_file\n",
    "\n",
    "if (r_helix_1==1):\n",
    "    f = open('ha1.tcl', 'w')\n",
    "    print(f)\n",
    "    f.write('set psfFile '+ psf+' \\n')\n",
    "    f.write('set dcdFile '+ dcd+' \\n')\n",
    "    f.write('\\nmol load psf $psfFile dcd $dcdFile\\n')\n",
    "    f.write('set outfile ' +'[open ' +'rmsd_ha1.dat'+' w]\\n')\n",
    "    f.write('set nf [molinfo top get numframes]\\n')\n",
    "    f.write('\\n#RMSD calculation loop\\n')\n",
    "    f.write('set f1 [atomselect top \"'+indices_ha1+' \" frame 0]\\n')\n",
    "    f.write('for {set i 0} {$i < $nf} {incr i 1} {\\n')\n",
    "    f.write('    set sel [atomselect top \"'+indices_ha1+' \" frame $i]\\n')\n",
    "    f.write('    $sel move [measure fit $sel $f1]\\n')\n",
    "    f.write('    set time [expr {$i +1}]\\n')\n",
    "    f.write('    puts -nonewline $outfile \"[measure rmsd $sel $f1]\"\\n')\n",
    "    f.write('    puts $outfile \"$time $time\"\\n')\n",
    "    f.write('}\\n')\n",
    "    f.write('close $outfile')\n",
    "    f.close()\n",
    "\n",
    "if (r_helix_2==1):\n",
    "    f = open('ha2.tcl', 'w')\n",
    "    print(f)\n",
    "    f.write('set psfFile '+ psf+' \\n')\n",
    "    f.write('set dcdFile '+ dcd+' \\n')\n",
    "    f.write('\\nmol load psf $psfFile dcd $dcdFile\\n')\n",
    "    f.write('set outfile ' +'[open ' +'rmsd_ha2.dat'+' w]\\n')\n",
    "    f.write('set nf [molinfo top get numframes]\\n')\n",
    "    f.write('\\n#RMSD calculation loop\\n')\n",
    "    f.write('set f1 [atomselect top \"'+indices_ha2+' \" frame 0]\\n')\n",
    "    f.write('for {set i 0} {$i < $nf} {incr i 1} {\\n')\n",
    "    f.write('    set sel [atomselect top \"'+indices_ha2+' \" frame $i]\\n')\n",
    "    f.write('    $sel move [measure fit $sel $f1]\\n')\n",
    "    f.write('    set time [expr {$i +1}]\\n')\n",
    "    f.write('    puts -nonewline $outfile \"[measure rmsd $sel $f1]\"\\n')\n",
    "    f.write('    puts $outfile \"$time $time\"\\n')\n",
    "    f.write('}\\n')\n",
    "    f.write('close $outfile')\n",
    "    f.close()\n",
    "\n",
    "if (r_helix_3==1):\n",
    "    f = open('ha3.tcl', 'w')\n",
    "    print(f)\n",
    "    f.write('set psfFile '+ psf+' \\n')\n",
    "    f.write('set dcdFile '+ dcd+' \\n')\n",
    "    f.write('\\nmol load psf $psfFile dcd $dcdFile\\n')\n",
    "    f.write('set outfile ' +'[open ' +'rmsd_ha3.dat'+' w]\\n')\n",
    "    f.write('set nf [molinfo top get numframes]\\n')\n",
    "    f.write('\\n#RMSD calculation loop\\n')\n",
    "    f.write('set f1 [atomselect top \"'+indices_ha3+' \" frame 0]\\n')\n",
    "    f.write('for {set i 0} {$i < $nf} {incr i 1} {\\n')\n",
    "    f.write('    set sel [atomselect top \"'+indices_ha3+' \" frame $i]\\n')\n",
    "    f.write('    $sel move [measure fit $sel $f1]\\n')\n",
    "    f.write('    set time [expr {$i +1}]\\n')\n",
    "    f.write('    puts -nonewline $outfile \"[measure rmsd $sel $f1]\"\\n')\n",
    "    f.write('    puts $outfile \"$time $time\"\\n')\n",
    "    f.write('}\\n')\n",
    "    f.write('close $outfile')\n",
    "    f.close()\n",
    "\n",
    "if (r_helix_4==1):\n",
    "    f = open('ha4.tcl', 'w')\n",
    "    print(f)\n",
    "    f.write('set psfFile '+ psf+' \\n')\n",
    "    f.write('set dcdFile '+ dcd+' \\n')\n",
    "    f.write('\\nmol load psf $psfFile dcd $dcdFile\\n')\n",
    "    f.write('set outfile ' +'[open ' +'rmsd_ha4.dat'+' w]\\n')\n",
    "    f.write('set nf [molinfo top get numframes]\\n')\n",
    "    f.write('\\n#RMSD calculation loop\\n')\n",
    "    f.write('set f1 [atomselect top \"'+indices_ha4+' \" frame 0]\\n')\n",
    "    f.write('for {set i 0} {$i < $nf} {incr i 1} {\\n')\n",
    "    f.write('    set sel [atomselect top \"'+indices_ha4+' \" frame $i]\\n')\n",
    "    f.write('    $sel move [measure fit $sel $f1]\\n')\n",
    "    f.write('    set time [expr {$i +1}]\\n')\n",
    "    f.write('    puts -nonewline $outfile \"[measure rmsd $sel $f1]\"\\n')\n",
    "    f.write('    puts $outfile \"$time $time\"\\n')\n",
    "    f.write('}\\n')\n",
    "    f.write('close $outfile')\n",
    "    f.close()\n",
    "\n"
   ]
  },
  {
   "cell_type": "code",
   "execution_count": null,
   "metadata": {
    "collapsed": false
   },
   "outputs": [],
   "source": [
    "if (r_helix_1==1):\n",
    "    #Calculando con VMD hélice 1\n",
    "    !vmd -dispdev text < ha1.tcl\n",
    "if (r_helix_2==1):\n",
    "    #Calculando con VMD hélice 2\n",
    "    !vmd -dispdev text < ha2.tcl\n",
    "if (r_helix_3==1):\n",
    "    #Calculando con VMD hélice 3\n",
    "    !vmd -dispdev text < ha3.tcl\n",
    "if (r_helix_4==1):\n",
    "    #Calculando con VMD hélice 4\n",
    "    !vmd -dispdev text < ha4.tcl"
   ]
  },
  {
   "cell_type": "code",
   "execution_count": null,
   "metadata": {
    "collapsed": false,
    "scrolled": true
   },
   "outputs": [],
   "source": [
    "if (int(num)==1):\n",
    "    #Graficando\n",
    "    data_ha1=np.loadtxt('rmsd_ha1.dat',comments=['#', '@'])\n",
    "    #Engrosar marco    \n",
    "    fig=pl.figure(figsize=(20, 12), dpi=100, linewidth=3.0)\n",
    "    ax = fig.add_subplot(111)\n",
    "    for axis in ['top','bottom','left','right']:\n",
    "        ax.spines[axis].set_linewidth(4)\n",
    "    #Formateando los valores de los ejes\n",
    "    ax.yaxis.set_major_formatter(FormatStrFormatter('%.0f'))\n",
    "    #pl.plot(data_ha1[:,0], data_ha1[:,1], linewidth = 3)\n",
    "    pl.plot(data_ha1[:,1]*0.02, data_ha1[:,0]/10, linewidth = 3, color='black')\n",
    "    pl.xlabel(\"Time (ns)\", fontsize = 40)\n",
    "    pl.ylabel('RMSD (nm)', fontsize = 40)\n",
    "    #pl.legend(bbox_to_anchor=(1.05, 1), loc=2, borderaxespad=0.)\n",
    "    #pl.title('RMSD Helix Alfa', fontsize=50)\n",
    "    pl.xticks(fontsize=30) \n",
    "    pl.yticks(fontsize=30) \n",
    "    \n",
    "\n",
    "\n",
    "if (int(num)==2):\n",
    "    #Graficando\n",
    "    data_ha1=np.loadtxt('rmsd_ha1.dat',comments=['#', '@'])\n",
    "    data_ha2=np.loadtxt('rmsd_ha2.dat',comments=['#', '@'])\n",
    "    #Engrosar marco    \n",
    "    fig=pl.figure(figsize=(20, 12), dpi=100, linewidth=3.0)\n",
    "    ax = fig.add_subplot(111)\n",
    "    for axis in ['top','bottom','left','right']:\n",
    "        ax.spines[axis].set_linewidth(4)\n",
    "    #Formateando los valores de los ejes\n",
    "    ax.yaxis.set_major_formatter(FormatStrFormatter('%.0f'))\n",
    "    #pl.plot(data_ha1[:,0], data_ha1[:,1], linewidth = 3)\n",
    "    pl.plot(data_ha1[:,1]*0.02, data_ha1[:,0]/10, linewidth = 3, color='black')\n",
    "    pl.plot(data_ha2[:,1]*0.02, data_ha2[:,0]/10, linewidth = 3, color='red')\n",
    "    pl.xlabel(\"Time (ns)\", fontsize = 40)\n",
    "    pl.ylabel('RMSD (nm)', fontsize = 40)\n",
    "    #pl.legend(bbox_to_anchor=(1.05, 1), loc=2, borderaxespad=0.)\n",
    "    #pl.title('RMSD Helix Alfa', fontsize=50)\n",
    "    pl.xticks(fontsize=30) \n",
    "    pl.yticks(fontsize=30) \n",
    "\n",
    "if (int(num)==3):\n",
    "    #Graficando\n",
    "    data_ha1=np.loadtxt('rmsd_ha1.dat',comments=['#', '@'])\n",
    "    data_ha2=np.loadtxt('rmsd_ha2.dat',comments=['#', '@'])\n",
    "    data_ha3=np.loadtxt('rmsd_ha3.dat',comments=['#', '@'])\n",
    "    #Engrosar marco    \n",
    "    fig=pl.figure(figsize=(20, 12), dpi=100, linewidth=3.0)\n",
    "    ax = fig.add_subplot(111)\n",
    "    for axis in ['top','bottom','left','right']:\n",
    "        ax.spines[axis].set_linewidth(4)\n",
    "    #Formateando los valores de los ejes\n",
    "    ax.yaxis.set_major_formatter(FormatStrFormatter('%.0f'))\n",
    "    #pl.plot(data_ha1[:,0], data_ha1[:,1], linewidth = 3)\n",
    "    pl.plot(data_ha1[:,1]*0.02, data_ha1[:,0]/10, linewidth = 3, color='black')\n",
    "    pl.plot(data_ha2[:,1]*0.02, data_ha2[:,0]/10, linewidth = 3, color='red')\n",
    "    pl.plot(data_ha3[:,1]*0.02, data_ha3[:,0]/10, linewidth = 3, color='green')\n",
    "    pl.xlabel(\"Time (ns)\", fontsize = 40)\n",
    "    pl.ylabel('RMSD (nm)', fontsize = 40)\n",
    "    #pl.legend(bbox_to_anchor=(1.05, 1), loc=2, borderaxespad=0.)\n",
    "    #pl.title('RMSD Helix Alfa', fontsize=50)\n",
    "    pl.xticks(fontsize=30) \n",
    "    pl.yticks(fontsize=30)\n",
    "\n",
    "if (int(num)==4):\n",
    "    #Graficando\n",
    "    data_ha1=np.loadtxt('rmsd_ha1.dat',comments=['#', '@'])\n",
    "    data_ha2=np.loadtxt('rmsd_ha2.dat',comments=['#', '@'])\n",
    "    data_ha3=np.loadtxt('rmsd_ha3.dat',comments=['#', '@'])\n",
    "    data_ha4=np.loadtxt('rmsd_ha4.dat',comments=['#', '@'])\n",
    "    #Engrosar marco    \n",
    "    fig=pl.figure(figsize=(20, 12), dpi=100, linewidth=3.0)\n",
    "    ax = fig.add_subplot(111)\n",
    "    for axis in ['top','bottom','left','right']:\n",
    "        ax.spines[axis].set_linewidth(4)\n",
    "    #Formateando los valores de los ejes\n",
    "    ax.yaxis.set_major_formatter(FormatStrFormatter('%.0f'))\n",
    "    #pl.plot(data_ha1[:,0], data_ha1[:,1], linewidth = 3)\n",
    "    pl.plot(data_ha1[:,1]*0.02, data_ha1[:,0]/10, linewidth = 3, color='black')\n",
    "    pl.plot(data_ha2[:,1]*0.02, data_ha2[:,0]/10, linewidth = 3, color='red')\n",
    "    pl.plot(data_ha3[:,1]*0.02, data_ha3[:,0]/10, linewidth = 3, color='green')\n",
    "    pl.plot(data_ha4[:,1]*0.02, data_ha4[:,0]/10, linewidth = 3, color='blue')\n",
    "    pl.xlabel(\"Time (ns)\", fontsize = 40)\n",
    "    pl.ylabel('RMSD (A)', fontsize = 40)\n",
    "    #pl.legend(bbox_to_anchor=(1.05, 1), loc=2, borderaxespad=0.)\n",
    "    #pl.title('RMSD Helix Alfa', fontsize=50)\n",
    "    pl.xticks(fontsize=30) \n",
    "    pl.yticks(fontsize=30)"
   ]
  },
  {
   "cell_type": "markdown",
   "metadata": {},
   "source": [
    "\n",
    "---\n",
    "\n",
    "# SASA\n",
    "\n",
    "---\n",
    "\n",
    "Creando la estructura de carpeta para el cálculo"
   ]
  },
  {
   "cell_type": "code",
   "execution_count": null,
   "metadata": {
    "collapsed": false
   },
   "outputs": [],
   "source": [
    "### Creando el directorio para el análisis del SASA\n",
    "### NOTA: se calcula con gromacs4  ya que arroja bien los resultados comparado con gromacs5\n",
    "\n",
    "ruta_sasa = nuevaruta+'/sasa'\n",
    "print ( ruta_sasa )\n",
    "if not os.path.exists(ruta_sasa): \n",
    "    os.makedirs(ruta_sasa)\n",
    "    print ('Se ha creado la ruta ===>',ruta_sasa)\n",
    "else:\n",
    "        print (\"La ruta \"+ruta_sasa+\" existe..!!!\")\n",
    "\n",
    "print ( 'Nos vamos a ....', ruta_sasa )\n",
    "os.chdir( ruta_sasa )"
   ]
  },
  {
   "cell_type": "markdown",
   "metadata": {},
   "source": [
    "## Ejecutando el análisis de SASA con Gromacs4"
   ]
  },
  {
   "cell_type": "code",
   "execution_count": null,
   "metadata": {
    "collapsed": false
   },
   "outputs": [],
   "source": [
    "\n",
    "print ('Ejecutando el análisis de sasa con Gromacs 4 utilizando la opción 1 (protein)...')\n",
    "!echo 1 1 | /opt/gromacs4/bin/g_sas -f ../output.xtc -s ../ionized.pdb -o solven-accessible-surface.xvg -oa atomic-sas.xvg -or residue-sas.xvg"
   ]
  },
  {
   "cell_type": "markdown",
   "metadata": {},
   "source": [
    "## Creando el archivo sasa_residuo.dat para salida con XMGRACE"
   ]
  },
  {
   "cell_type": "code",
   "execution_count": null,
   "metadata": {
    "collapsed": false
   },
   "outputs": [],
   "source": [
    "#Inicializando vector\n",
    "sasa_residuo=[]\n",
    "\n",
    "try:\n",
    "     residue_sas = open( 'residue-sas.xvg' )\n",
    "except IOError:\n",
    "     print ('No se pudo abrir el archivo o no existe·..')\n",
    "\n",
    "i=0\n",
    "for linea in residue_sas.readlines():\n",
    "    fila = linea.strip()\n",
    "    sl = fila.split()\n",
    "    cadena=sl[0]\n",
    "    if (not '#' in cadena) and (not '@' in cadena):\n",
    "        print ('Residue =>',cadena)\n",
    "        sasa_residuo.append(sl[0]+'\\t'+sl[1]+'\\n')\n",
    "        i=i+1\n",
    "\n",
    "\n",
    "#Escribiendo el archivo RMSD\n",
    "f = open('sasa-residuo.dat', 'w')\n",
    "#f.write('@    title \"Area per residue over the trajectory\" \\n')\n",
    "f.write('@    xaxis  label \" Residue \" \\n')\n",
    "f.write('@    xaxis  label char size 1.480000\\n')\n",
    "f.write('@    xaxis  bar linewidth 3.0\\n')\n",
    "f.write('@    xaxis  ticklabel char size 1.480000\\n')\n",
    "f.write('@    yaxis  label \"Area (nm' +\"\\\\\"+'S2'+\"\\\\N\"+')\"\\n')\n",
    "f.write('@    yaxis  label char size 1.480000\\n')\n",
    "f.write('@    yaxis  bar linewidth 3.0\\n')\n",
    "f.write('@    yaxis  ticklabel char size 1.480000\\n')\n",
    "f.write('@    s0 line linewidth 2.5\\n')\n",
    "f.write('@    s0 symbol 1\\n')\n",
    "f.write('@    s0 symbol size 1.000000\\n')\n",
    "f.write('@    s0 symbol color 1\\n')\n",
    "f.write('@    s0 symbol pattern 1\\n')\n",
    "f.write('@    s0 symbol fill color 2\\n')\n",
    "f.write('@    s0 symbol fill pattern 1\\n')\n",
    "f.write('@    s0 symbol linewidth 1.0\\n')\n",
    "f.write('@TYPE xy \\n')\n",
    "f.write(\"\".join(sasa_residuo))\n",
    "f.close()\n"
   ]
  },
  {
   "cell_type": "code",
   "execution_count": null,
   "metadata": {
    "collapsed": true
   },
   "outputs": [],
   "source": [
    "!xmgrace sasa-residuo.dat"
   ]
  },
  {
   "cell_type": "code",
   "execution_count": null,
   "metadata": {
    "collapsed": false
   },
   "outputs": [],
   "source": [
    "#Cargando la imagen generada en xmgrace\n",
    "Image(filename='sasa-residuo.png')"
   ]
  },
  {
   "cell_type": "markdown",
   "metadata": {},
   "source": [
    "## Cargando archivo residue-sas.xvg para su visualización en Matplotlib\n",
    "\n",
    "Se genera el gráfico de salida para matplotlib\n"
   ]
  },
  {
   "cell_type": "code",
   "execution_count": null,
   "metadata": {
    "collapsed": false
   },
   "outputs": [],
   "source": [
    "data_sasa_residue=np.loadtxt('residue-sas.xvg',comments=['#', '@'])\n",
    "\n",
    "    \n",
    "#Engrosar marco    \n",
    "fig=pl.figure(figsize=(20, 12), dpi=100, linewidth=3.0)\n",
    "ax = fig.add_subplot(111)\n",
    "for axis in ['top','bottom','left','right']:\n",
    "    ax.spines[axis].set_linewidth(4)\n",
    "#Formateando los valores de los ejes\n",
    "ax.yaxis.set_major_formatter(FormatStrFormatter('%.1f'))\n",
    "\n",
    "pl.plot(data_sasa_residue[:,0], data_sasa_residue[:,1],  '-o', color='black', markersize=25,\n",
    "        markerfacecolor='red',markeredgecolor='black',markeredgewidth=3, linewidth = 4, )\n",
    "pl.xlabel(\"Residue\", fontsize = 30)\n",
    "#pl.ylabel('Area (nm2)', fontsize = 30)\n",
    "pl.ylabel('Area ( nm'+ r'$\\ ^2$'+')' , fontsize = 40)\n",
    "#pl.title('Area per residue over the trajectory', fontsize=40)\n",
    "pl.xticks(fontsize=30) \n",
    "pl.yticks(fontsize=30) \n",
    "pl.xlim(0, len(data_sasa_residue[:,1]))"
   ]
  },
  {
   "cell_type": "markdown",
   "metadata": {},
   "source": [
    "## Creando el archivo sasa.dat para salida con XMGRACE"
   ]
  },
  {
   "cell_type": "code",
   "execution_count": null,
   "metadata": {
    "collapsed": false
   },
   "outputs": [],
   "source": [
    "#Inicializando vector\n",
    "sasa=[]\n",
    "\n",
    "try:\n",
    "     sasafile = open( 'solven-accessible-surface.xvg' )\n",
    "except IOError:\n",
    "     print ('No se pudo abrir el archivo o no existe·..')\n",
    "\n",
    "i=0\n",
    "for linea in sasafile.readlines():\n",
    "    fila = linea.strip()\n",
    "    sl = fila.split()\n",
    "    cadena=sl[0]\n",
    "    if (not '#' in cadena) and (not '@' in cadena):\n",
    "        #print (cadena)\n",
    "        num=float(sl[0])\n",
    "        num=num/1000\n",
    "        sasa.append(repr(num)+'\\t'+sl[1]+'\\t'+sl[2]+'\\t'+sl[3]+'\\n')\n",
    "        i=i+1\n",
    "\n",
    "cel2=float(sl[2])\n",
    "print(cel2)\n",
    "#Escribiendo el archivo RMSD\n",
    "f = open('sasa.dat', 'w')\n",
    "#f.write('@    title \"Solven Accessible Surface\" \\n')\n",
    "f.write('@    xaxis  label \" Time (ns) \" \\n')\n",
    "f.write('@    xaxis  label char size 1.480000\\n')\n",
    "f.write('@    xaxis  bar linewidth 3.0\\n')\n",
    "f.write('@    xaxis  ticklabel char size 1.480000\\n')\n",
    "f.write('@    yaxis  label \"Area (nm' +\"\\\\\"+'S2'+\"\\\\N\"+')\"\\n')\n",
    "f.write('@    yaxis  label char size 1.480000\\n')\n",
    "f.write('@    yaxis  bar linewidth 3.0\\n')\n",
    "f.write('@    yaxis  ticklabel char size 1.480000\\n')\n",
    "#f.write('@    s0 legend \"Hydrophobic\"\\n')\n",
    "#if (cel2>0):\n",
    "    #f.write('@    s1 legend \"Hydrophilic\"\\n')\n",
    "\n",
    "f.write('@TYPE xy \\n')\n",
    "f.write(\"\".join(sasa))\n",
    "f.close()\n"
   ]
  },
  {
   "cell_type": "code",
   "execution_count": null,
   "metadata": {
    "collapsed": true
   },
   "outputs": [],
   "source": [
    "!xmgrace sasa.dat"
   ]
  },
  {
   "cell_type": "code",
   "execution_count": null,
   "metadata": {
    "collapsed": false
   },
   "outputs": [],
   "source": [
    "#Cargando la imagen generada en xmgrace\n",
    "Image(filename='sasa.png')"
   ]
  },
  {
   "cell_type": "markdown",
   "metadata": {
    "slideshow": {
     "slide_type": "notes"
    }
   },
   "source": [
    "## Cargando archivo solven-accessible-surface.xvg para graficar con Matplotlib"
   ]
  },
  {
   "cell_type": "code",
   "execution_count": null,
   "metadata": {
    "collapsed": false
   },
   "outputs": [],
   "source": [
    "data_sasa=np.loadtxt('solven-accessible-surface.xvg',comments=['#', '@'])\n",
    "\n",
    "    \n",
    "#Engrosar marco    \n",
    "fig=pl.figure(figsize=(20, 12), dpi=100, linewidth=3.0)\n",
    "ax = fig.add_subplot(111)\n",
    "for axis in ['top','bottom','left','right']:\n",
    "    ax.spines[axis].set_linewidth(4)\n",
    "#Formateando los valores de los ejes\n",
    "#ax.yaxis.set_major_formatter(FormatStrFormatter('%.1f'))\n",
    "\n",
    "pl.xlabel(\"Time (ns)\", fontsize = 40)\n",
    "pl.ylabel('Area ( nm'+ r'$\\ ^2$'+')' , fontsize = 40)\n",
    "#pl.title('Solvent Accessible Surface', fontsize=50)\n",
    "pl.xticks(fontsize=30) \n",
    "pl.yticks(fontsize=30) \n",
    "dato=data_sasa[:,2]\n",
    "dato2=dato[0]\n",
    "if (dato2>0):\n",
    "    pl.plot(data_sasa[:,0]/1000, data_sasa[:,1], linewidth = 2, color='black')\n",
    "    pl.plot(data_sasa[:,0]/1000, data_sasa[:,2], linewidth = 2, color='red')\n",
    "\n",
    "else:\n",
    "    pl.plot(data_sasa[:,0]/1000, data_sasa[:,1], linewidth = 2, color='black')\n"
   ]
  },
  {
   "cell_type": "markdown",
   "metadata": {
    "slideshow": {
     "slide_type": "skip"
    }
   },
   "source": [
    "\n",
    "---\n",
    "\n",
    "# MATRIZ DE RMSD\n",
    "\n",
    "---"
   ]
  },
  {
   "cell_type": "code",
   "execution_count": null,
   "metadata": {
    "collapsed": false
   },
   "outputs": [],
   "source": [
    "### Creando el directorio para el análisis del SASA\n",
    "### NOTA: se calcula con gromacs4  ya que arroja bien los resultados comparado con gromacs5\n",
    "\n",
    "ruta_m_rmsd = nuevaruta+'/matriz'\n",
    "print ( ruta_m_rmsd )\n",
    "if not os.path.exists(ruta_m_rmsd): \n",
    "    os.makedirs(ruta_m_rmsd)\n",
    "    print ('Se ha creado la ruta ===>',ruta_m_rmsd)\n",
    "else:\n",
    "        print (\"La ruta \"+ruta_m_rmsd+\" existe..!!!\")\n",
    "\n",
    "print ( 'Nos vamos a ....', ruta_m_rmsd )\n",
    "os.chdir( ruta_m_rmsd )"
   ]
  },
  {
   "cell_type": "code",
   "execution_count": null,
   "metadata": {
    "collapsed": false
   },
   "outputs": [],
   "source": [
    "print ('\\nCopiando el archivo rmsd_matrix.tcl a '+ruta_m_rmsd)\n",
    "source_file=ruta_scripts+'/rmsd_matriz/rmsd_matrix.tcl'\n",
    "dest_file=ruta_m_rmsd+'/rmsd_matrix.tcl'\n",
    "shutil.copy(source_file,dest_file)\n",
    "\n",
    "\n",
    "#print ( 'Nos vemos a ....', ruta_old_traj )\n",
    "#os.chdir( ruta_old_traj )\n",
    "file_dcd=ruta_old_traj+'/'+dcd_file\n",
    "file_psf=ruta_old_traj+'/'+psf_file\n",
    "print (file_dcd)\n",
    "print ('\\nEjecutando CATDCD para obtener 100 frames de la trayectoria original....')\n",
    "output_catdcd=!catdcd -o 100.dcd -stride 50 $file_dcd\n",
    "print (output_catdcd.n)"
   ]
  },
  {
   "cell_type": "markdown",
   "metadata": {},
   "source": [
    "## Cargar el scrit rmsd_matrix con vmd en la nueva trayectoria\n",
    "Arrancar VMD, dirigirse al manú Extensions -> Tk Console, copiar y ejecutar la siguiente secuencia de comandos:\n",
    "```tcl\n",
    "source rmsd_matrix.tcl\n",
    "rmsd_matrix -mol top -seltext \"name CA\" -frames all -o salida.dat\n",
    "exit\n",
    "```"
   ]
  },
  {
   "cell_type": "code",
   "execution_count": null,
   "metadata": {
    "collapsed": false
   },
   "outputs": [],
   "source": [
    "#Arrancando VMD para cargar el script rmsd_matrix.tcl\n",
    "!vmd 100.dcd $file_psf"
   ]
  },
  {
   "cell_type": "code",
   "execution_count": null,
   "metadata": {
    "collapsed": false
   },
   "outputs": [],
   "source": [
    "ruta_matriz=os.getcwd()\n",
    "if os.path.isfile('salida.dat'):\n",
    "    print ('El archivo salida.dat existe')\n",
    "else:\n",
    "    print ('El archivo salida.dat no existe.. ejecutar desde MATRIZ DE RMSD...')"
   ]
  },
  {
   "cell_type": "markdown",
   "metadata": {},
   "source": [
    "## Graficando el archivo de salida"
   ]
  },
  {
   "cell_type": "code",
   "execution_count": null,
   "metadata": {
    "collapsed": false
   },
   "outputs": [],
   "source": [
    "#Creando el gráfico\n",
    "data_matriz=np.loadtxt('salida.dat',comments=['#', '@'])\n",
    "print(data_matriz.shape)\n",
    "pl.figure(figsize=(20, 12), dpi=100)\n",
    "\n",
    "\n",
    "imgplot = pl.imshow(data_matriz, origin='lower', cmap=pl.cm.Greens, interpolation='nearest')\n",
    "#imgplot = pl.imshow(data_matriz, origin='lower', cmap=pl.cm.coolwarm, interpolation='nearest')\n",
    "pl.xlabel(\"Time (ns)\", fontsize = 30)\n",
    "pl.ylabel('Time (ns)', fontsize = 30)\n",
    "#pl.suptitle('RMSD', fontsize=50)\n",
    "#pl.title('C-Alpha RMSD matrix', fontsize=40)\n",
    "pl.xticks(fontsize=20) \n",
    "pl.yticks(fontsize=20) \n",
    "pl.xlim(0, 100)\n",
    "pl.ylim(0, 100)\n",
    "pl.colorbar()"
   ]
  },
  {
   "cell_type": "markdown",
   "metadata": {},
   "source": [
    "\n",
    "---\n",
    "\n",
    "# Matriz de distancia mínima\n",
    "\n",
    "---\n"
   ]
  },
  {
   "cell_type": "code",
   "execution_count": null,
   "metadata": {
    "collapsed": false
   },
   "outputs": [],
   "source": [
    "### Creando el directorio para el análisis del RMSF\n",
    "#Verificando que exista la nueva carpeta para la conversión de trayectorias\n",
    "ruta_matriz_dm = nuevaruta+'/matriz_dm'\n",
    "print ( ruta_matriz_dm )\n",
    "if not os.path.exists(ruta_matriz_dm): \n",
    "    os.makedirs(ruta_matriz_dm)\n",
    "    print ('Se ha creado la ruta ===>',ruta_matriz_dm)\n",
    "else:\n",
    "        print (\"La ruta \"+ruta_matriz_dm+\" existe..!!!\")\n",
    "        \n",
    "print ( 'Nos vamos a ....', ruta_matriz_dm )\n",
    "os.chdir( ruta_matriz_dm )"
   ]
  },
  {
   "cell_type": "markdown",
   "metadata": {},
   "source": [
    "## Calculando la matriz de distancia mínima\n",
    "Seleccionar el backbone (opción 4)"
   ]
  },
  {
   "cell_type": "code",
   "execution_count": null,
   "metadata": {
    "collapsed": false
   },
   "outputs": [],
   "source": [
    "!echo 4 | g_mdmat -f ../output.xtc -s ../ionized.pdb -mean average -frames frames -dt 10000"
   ]
  },
  {
   "cell_type": "markdown",
   "metadata": {},
   "source": [
    "## Generando los archivos  para visualizarlos"
   ]
  },
  {
   "cell_type": "code",
   "execution_count": null,
   "metadata": {
    "collapsed": false,
    "scrolled": true
   },
   "outputs": [],
   "source": [
    "!xpm2ps -f frames.xpm -o frames.eps\n",
    "!xpm2ps -f average.xpm -o average.eps\n",
    "print('\\nConvirtiendo a png...')\n",
    "!convert -density 600 frames.eps -resize 1024x1024 frames.png\n",
    "!convert -density 600 average.eps -resize 1024x1024 average.png\n",
    "\n"
   ]
  },
  {
   "cell_type": "code",
   "execution_count": null,
   "metadata": {
    "collapsed": false
   },
   "outputs": [],
   "source": [
    "print ('Cargando el archivo average...')\n",
    "\n",
    "Image(filename='average.png', width=800)"
   ]
  },
  {
   "cell_type": "markdown",
   "metadata": {},
   "source": [
    "\n",
    "---\n",
    "\n",
    "# Free Energy\n",
    "\n",
    "---\n"
   ]
  },
  {
   "cell_type": "markdown",
   "metadata": {},
   "source": [
    "Para el cálculo de la energía libre se requiere el valor mínimo y máximo del RMSD y del radio de gyro, así como el valor de la temperatura a la cual se realizó la simulación. Estos datos son de entrada para el script del cálculo del mismo."
   ]
  },
  {
   "cell_type": "code",
   "execution_count": null,
   "metadata": {
    "collapsed": false
   },
   "outputs": [],
   "source": [
    "### Creando el directorio para el análisis de la libre energía\n",
    "\n",
    "ruta_f_energy = nuevaruta+'/free_energy'\n",
    "print ( ruta_f_energy )\n",
    "if not os.path.exists(ruta_f_energy): \n",
    "    os.makedirs(ruta_f_energy)\n",
    "    print ('Se ha creado la ruta ===>',ruta_f_energy)\n",
    "else:\n",
    "        print (\"La ruta \"+ruta_f_energy+\" existe..!!!\")\n",
    "\n",
    "print ( 'Nos vamos a ....', ruta_f_energy )\n",
    "os.chdir( ruta_f_energy )"
   ]
  },
  {
   "cell_type": "code",
   "execution_count": null,
   "metadata": {
    "collapsed": false
   },
   "outputs": [],
   "source": [
    "#Solicita la temperatura\n",
    "t=input('Temperatura a la cual se realizó la simulación:')\n",
    "temperatura=int(t)\n",
    "print ('Temperatura=>',temperatura)"
   ]
  },
  {
   "cell_type": "markdown",
   "metadata": {},
   "source": [
    "## Calculando el rmsd y el r-gyro para obtener el mínimo y máximo de cada uno de ellos."
   ]
  },
  {
   "cell_type": "code",
   "execution_count": null,
   "metadata": {
    "collapsed": false
   },
   "outputs": [],
   "source": [
    "print ('Ejecutando el análisis de rmsd...')\n",
    "!echo 3 3 | g_rms -f ../output.xtc -s ../ionized.pdb -a avgrp.xvg\n",
    "print ('Ejecutando el análisis de rgyro...')\n",
    "!echo 3 | g_gyrate -f ../output.xtc -s ../ionized.pdb -o gyrate.xvg"
   ]
  },
  {
   "cell_type": "markdown",
   "metadata": {},
   "source": [
    "## Escribiendo script a /tmp para utilizar en el cálculo\n"
   ]
  },
  {
   "cell_type": "code",
   "execution_count": null,
   "metadata": {
    "collapsed": false
   },
   "outputs": [],
   "source": [
    "print ('\\nCopiando el archivo generateFES.py a '+ruta_f_energy)\n",
    "source_file=ruta_scripts+'/free_energy/generateFES.py'\n",
    "dest_file=ruta_f_energy+'/generateFES.py'\n",
    "shutil.copy(source_file,dest_file)\n",
    "#Cambiando permisos de ejecución\n",
    "!chmod +x generateFES.py"
   ]
  },
  {
   "cell_type": "markdown",
   "metadata": {},
   "source": [
    "## Realizando los cálculos para la Free Energy"
   ]
  },
  {
   "cell_type": "code",
   "execution_count": null,
   "metadata": {
    "collapsed": false
   },
   "outputs": [],
   "source": [
    "\n",
    "\n",
    "#Cargando valores del RMSD\n",
    "data_rmsd=np.loadtxt('rmsd.xvg',comments=['#', '@'])\n",
    "\n",
    "#Cargnaod valores del R-GYRO\n",
    "data_rgyro=np.loadtxt('gyrate.xvg',comments=['#', '@'])\n",
    "\n",
    "#Obteniendo los valores máximo y mínimo del rmsd\n",
    "min_rmsd=np.amin(data_rmsd[:,1])\n",
    "max_rmsd=np.amax(data_rmsd[:,1])\n",
    "print ('Minimo RMSD=>',min_rmsd)\n",
    "print ('Máximo RMSD=>',max_rmsd)\n",
    "\n",
    "#Obteniendo los valores máximo y mínimo del r-gyro\n",
    "min_rgyro=np.amin(data_rgyro[:,1])\n",
    "max_rgyro=np.amax(data_rgyro[:,1])\n",
    "print ('Minimo RGYRO=>',min_rgyro)\n",
    "print ('Máximo RGYRO=>',max_rgyro)\n",
    "\n",
    "#Creando los archivos de entrada para el script\n",
    "np.savetxt('rmsd.dat',data_rmsd[:,1], fmt='%1.7f')\n",
    "np.savetxt('rgyro.dat',data_rgyro[:,1], fmt='%1.7f')\n",
    "!paste rgyro.dat rmsd.dat  > fes.dat\n",
    "\n",
    "#Ejecutando el script de FES\n",
    "!python generateFES.py fes.dat $min_rgyro $max_rgyro $min_rmsd $max_rmsd  200 200 $temperatura FEES.dat\n",
    "\n",
    "#Cargando el archivo generado para plotear con matplotlib\n",
    "data_fes=np.loadtxt('FEES.dat',comments=['#', '@'])\n"
   ]
  },
  {
   "cell_type": "markdown",
   "metadata": {},
   "source": [
    "## Ploteando con GNUplot"
   ]
  },
  {
   "cell_type": "code",
   "execution_count": null,
   "metadata": {
    "collapsed": false
   },
   "outputs": [],
   "source": [
    "# This loads the magics for gnuplot\n",
    "%load_ext gnuplot_kernel\n",
    "#Configurando la salida para GNUplot\n",
    "%gnuplot inline pngcairo  transparent enhanced font \"arial,20\" fontscale 1.0 size 1280,960; set zeroaxis;;"
   ]
  },
  {
   "cell_type": "code",
   "execution_count": null,
   "metadata": {
    "collapsed": false
   },
   "outputs": [],
   "source": [
    "%%gnuplot\n",
    "set output \"free_energy.png\"\n",
    "\n",
    "set palette model RGB\n",
    "set palette defined ( 0 '#000090',\\\n",
    "                      1 '#000fff',\\\n",
    "                      2 '#0090ff',\\\n",
    "                      3 '#0fffee',\\\n",
    "                      4 '#90ff70',\\\n",
    "                      5 '#ffee00',\\\n",
    "                      6 '#ff7000',\\\n",
    "                      7 '#ee0000',\\\n",
    "                      8 '#7f0000')\n",
    "set view map\n",
    "set dgrid3d\n",
    "set pm3d interpolate 0,0\n",
    "set xlabel \"Rg (nm)\n",
    "set ylabel \"RMSD (nm)\"\n",
    "##Descomentar la siguiente línea de código en caso de que la escala comience con valor de 1 y ejecutar nuevamente\n",
    "#set cbrange[8:10]\n",
    "splot \"FEES.dat\" with pm3d\n",
    "\n"
   ]
  },
  {
   "cell_type": "markdown",
   "metadata": {},
   "source": [
    "\n",
    "---\n",
    "\n",
    "# PCA\n",
    "\n",
    "---\n",
    "\n"
   ]
  },
  {
   "cell_type": "code",
   "execution_count": null,
   "metadata": {
    "collapsed": false
   },
   "outputs": [],
   "source": [
    "### Creando el directorio para el análisis del PCA\n",
    "\n",
    "ruta_pca = nuevaruta+'/pca'\n",
    "print ( ruta_pca )\n",
    "if not os.path.exists(ruta_pca): \n",
    "    os.makedirs(ruta_pca)\n",
    "    print ('Se ha creado la ruta ===>',ruta_pca)\n",
    "else:\n",
    "        print (\"La ruta \"+ruta_pca+\" existe..!!!\")\n",
    "\n",
    "print ( 'Nos vamos a ....', ruta_pca )\n",
    "os.chdir( ruta_pca )"
   ]
  },
  {
   "cell_type": "code",
   "execution_count": null,
   "metadata": {
    "collapsed": false
   },
   "outputs": [],
   "source": [
    "#Calculando matriz de covarianza\n",
    "!echo 1 1 | g_covar -s ../ionized.pdb -f ../output.xtc -o eigenvalues.xvg -v eigenvectors.trr -xpma covar.xpm"
   ]
  },
  {
   "cell_type": "markdown",
   "metadata": {},
   "source": [
    "## Una vez calculada la matriz el eigenvalues y eigenvectors sirven de entrada para generar el pca. \n",
    "El siguiente comando representa el movimiento del primer y segundo eigenvector."
   ]
  },
  {
   "cell_type": "code",
   "execution_count": null,
   "metadata": {
    "collapsed": false
   },
   "outputs": [],
   "source": [
    "!echo 1 1 | g_anaeig -s ../ionized.pdb -f ../output.xtc -v eigenvectors.trr -eig eigenvalues.xvg -first 1 -last 2 -2d 2dproj_1_2.xvg"
   ]
  },
  {
   "cell_type": "code",
   "execution_count": null,
   "metadata": {
    "collapsed": false
   },
   "outputs": [],
   "source": [
    "#pcaX, pcaY=np.loadtxt('2dproj_1_2.xvg',comments=['#', '@'], unpack=True)\n",
    "data_pca=np.loadtxt('2dproj_1_2.xvg',comments=['#', '@'])\n",
    "\n",
    "#Obteniendo los valores máximo y mínimo del pca\n",
    "min_pcaX=np.amin(data_pca[:,0])\n",
    "max_pcaX=np.amax(data_pca[:,0])\n",
    "print ('Minimo PCA_X=>',min_pcaX)\n",
    "print ('Máximo PCA_X=>',max_pcaX)\n",
    "min_pcaY=np.amin(data_pca[:,1])\n",
    "max_pcaY=np.amax(data_pca[:,1])\n",
    "print ('Minimo PCA_Y=>',min_pcaY)\n",
    "print ('Máximo PCA_Y=>',max_pcaY)\n",
    "\n",
    "\n",
    "#Creando los archivos de entrada para el script\n",
    "np.savetxt('PCA.dat',data_pca, fmt='%1.5f')\n",
    "\n",
    "\n",
    "#Copiando el script generateFES de la carpeta Free_energy\n",
    "print ('\\nCopiando el archivo generateFES.py a '+ruta_pca+ ' desde '+ ruta_f_energy)\n",
    "source_file=ruta_f_energy+'/generateFES.py'\n",
    "dest_file=ruta_pca+'/generateFES.py'\n",
    "shutil.copy(source_file,dest_file)\n",
    "\n",
    "#Ejecutando el script de FES\n",
    "!python generateFES.py PCA.dat $min_pcaX $max_pcaX $min_pcaY $max_pcaY  200 200 $temperatura FEES_PCA.dat\n",
    "\n"
   ]
  },
  {
   "cell_type": "markdown",
   "metadata": {},
   "source": [
    "## Ploteando el archivo con gnuplot"
   ]
  },
  {
   "cell_type": "code",
   "execution_count": null,
   "metadata": {
    "collapsed": false
   },
   "outputs": [],
   "source": [
    "#Volver a cargar el kernel de gnuplot para limpiar su buffer\n",
    "%reload_ext gnuplot_kernel\n",
    "#Configurando la salida para GNUplot\n",
    "%gnuplot inline pngcairo  transparent enhanced font \"arial,20\" fontscale 1.0 size 1280,960; set zeroaxis;;"
   ]
  },
  {
   "cell_type": "code",
   "execution_count": null,
   "metadata": {
    "collapsed": false
   },
   "outputs": [],
   "source": [
    "%%gnuplot\n",
    "set output \"pca.png\"\n",
    "\n",
    "set palette model RGB\n",
    "set palette defined ( 0 '#000090',\\\n",
    "                      1 '#000fff',\\\n",
    "                      2 '#0090ff',\\\n",
    "                      3 '#0fffee',\\\n",
    "                      4 '#90ff70',\\\n",
    "                      5 '#ffee00',\\\n",
    "                      6 '#ff7000',\\\n",
    "                      7 '#ee0000',\\\n",
    "                      8 '#7f0000')\n",
    "set view map\n",
    "set dgrid3d\n",
    "set pm3d interpolate 0,0\n",
    "set xlabel \"projection on eigenvector 1 (nm)\"\n",
    "set ylabel \"projection on eigenvector 2 (nm)\"\n",
    "set title \" \"\n",
    "##Descomentar la siguiente línea de código en caso de que la escala comience con valor de 1 y ejecutar nuevamente\n",
    "#set cbrange[8:10]\n",
    "splot \"FEES_PCA.dat\" with pm3d\n",
    "\n"
   ]
  },
  {
   "cell_type": "markdown",
   "metadata": {},
   "source": [
    "\n",
    "---\n",
    "\n",
    "# Análisis de puentes di sulfuro\n",
    "\n",
    "---\n",
    "\n",
    "Este aplica para 2 puente, para lo cual se utiliza el software HTMD."
   ]
  },
  {
   "cell_type": "code",
   "execution_count": null,
   "metadata": {
    "collapsed": false
   },
   "outputs": [],
   "source": [
    "from htmd import *"
   ]
  },
  {
   "cell_type": "markdown",
   "metadata": {},
   "source": [
    "## Creando la ruta\n",
    "Ruta para el análisis de los datos."
   ]
  },
  {
   "cell_type": "code",
   "execution_count": null,
   "metadata": {
    "collapsed": false
   },
   "outputs": [],
   "source": [
    "### Creando el directorio para el análisis de los RMSD de los puentes\n",
    "\n",
    "ruta_rmsd_diedros = nuevaruta+'/rmsd_diedros'\n",
    "print ( ruta_rmsd_diedros )\n",
    "if not os.path.exists(ruta_rmsd_diedros): \n",
    "    os.makedirs(ruta_rmsd_diedros)\n",
    "    print ('Se ha creado la ruta ===>',ruta_rmsd_diedros)\n",
    "else:\n",
    "        print (\"La ruta \"+ruta_rmsd_diedros+\" existe..!!!\")\n",
    "\n",
    "print ( 'Nos vamos a ....', ruta_rmsd_diedros)\n",
    "os.chdir( ruta_rmsd_diedros )"
   ]
  },
  {
   "cell_type": "markdown",
   "metadata": {},
   "source": [
    "## Cargando de los puentes di sulfuro\n",
    "Para este análisis se deberá revisar el archivo **psf_charmm.tcl** de la carpeta **01_BUILD**, en el cual se tiene la definición de los puentes como la siguiente:\n",
    "\n",
    "        patch DISU A:4   A:22\n",
    "\n",
    "        patch DISU A:8   A:18 \n",
    "\n",
    "\n",
    "El número del puente se determinará de acuerdo al orden en que se encuentran definidos en este archivo, por ejemplo, la nota anterior:\n",
    "\n",
    "        DB1 4-22\n",
    "\n",
    "        DB2 8-18\n",
    "\n",
    "La entrada de datos será por los índices del lado izquierdo y derecho respectivamente, con los cuales se creará la estructura completa de cada uno de ellos tomando los valores de los indices para su respectivo análisis.\n"
   ]
  },
  {
   "cell_type": "code",
   "execution_count": null,
   "metadata": {
    "collapsed": false
   },
   "outputs": [],
   "source": [
    "# Cargando la molécula\n",
    "mol = Molecule('../ionized.pdb')\n",
    "\n",
    "# Solicitando los datos de entrada\n",
    "px1l=input('Índice del DB1 izquierdo:')\n",
    "px1r=input('Índice del DB1 derecho:')\n",
    "px2l=input('Índice del DB2 izquierdo:')\n",
    "px2r=input('Índice del DB2 derecho:')\n",
    "revisa1=1\n",
    "revisa2=1"
   ]
  },
  {
   "cell_type": "markdown",
   "metadata": {},
   "source": [
    "## Obteniendo los índices de los puentes"
   ]
  },
  {
   "cell_type": "code",
   "execution_count": null,
   "metadata": {
    "collapsed": false
   },
   "outputs": [],
   "source": [
    "\n",
    "if (revisa1>0):\n",
    "    #Obteniendo lado izquierdo del DB1\n",
    "    x1l_name=mol.get('name','resname CYS and noh and resid '+px1l)\n",
    "    x1l_index=mol.get('index','resname CYS and noh and resid '+px1l)\n",
    "    x1l_resid=mol.get('resid','resname CYS and noh and resid '+px1l)\n",
    "    #Obteniendo lado derecho del DB1\n",
    "    x1r_name=mol.get('name','resname CYS and noh and resid '+px1r)\n",
    "    x1r_index=mol.get('index','resname CYS and noh and resid '+px1r)\n",
    "    x1r_resid=mol.get('resid','resname CYS and noh and resid '+px1r)\n",
    "\n",
    "if (revisa2>0):\n",
    "    #Obteniendo el lado izquierdo del DB2\n",
    "    x2l_name=mol.get('name','resname CYS and noh and resid '+px2l)\n",
    "    x2l_index=mol.get('index','resname CYS and noh and resid '+px2l)\n",
    "    x2l_resid=mol.get('resid','resname CYS and noh and resid '+px2l)\n",
    "    #Obteniendo el lado derecho del DB2\n",
    "    x2r_name=mol.get('name','resname CYS and noh and resid '+px2r)\n",
    "    x2r_index=mol.get('index','resname CYS and noh and resid '+px2r)\n",
    "    x2r_resid=mol.get('resid','resname CYS and noh and resid '+px2r)\n",
    "\n",
    "    \n",
    "#Obteniendo la lista de índices de los puentes\n",
    "print ('Generando la lista de los índices para enviarlos')\n",
    "db1x1l=[]\n",
    "db1x2l=[]\n",
    "db1x3m=[]\n",
    "db1x2r=[]\n",
    "db1x1r=[]\n",
    "\n",
    "db1l_name_l=[]\n",
    "db1l_index_l=[]\n",
    "db1r_name_l=[]\n",
    "db1r_index_l=[]\n",
    "\n",
    "db2l_name_l=[]\n",
    "db2l_index_l=[]\n",
    "db2r_name_l=[]\n",
    "db2r_index_l=[]\n",
    "\n",
    "db3l_name_l=[]\n",
    "db3l_index_l=[]\n",
    "db3r_name_l=[]\n",
    "db3r_index_l=[]\n",
    "\n",
    "if (revisa1>0):\n",
    "    #Obteniendo los índices del DB1\n",
    "    for i in range(len(x1l_name)):\n",
    "        if (x1l_name[i]=='N' or x1l_name[i]=='CA' or x1l_name[i]=='CB' or x1l_name[i]=='SG'):\n",
    "            db1l_name_l.append(str(x1l_name[i]))\n",
    "            db1l_index_l.append(str(x1l_index[i]))\n",
    "    for i in range(len(x1r_name)):\n",
    "        if (x1r_name[i]=='N' or x1r_name[i]=='CA' or x1r_name[i]=='CB' or x1r_name[i]=='SG'):\n",
    "            db1r_name_l.append(str(x1r_name[i]))\n",
    "            db1r_index_l.append(str(x1r_index[i])) \n",
    "    print ('DB1 X1L =>',db1l_name_l)\n",
    "    print (db1l_index_l)\n",
    "    print ('DB1 X1R =>',db1r_name_l)\n",
    "    print (db1r_index_l)\n",
    "\n",
    "if (revisa2>0):\n",
    "    #Obteniendo los índices del DB2\n",
    "    for i in range(len(x2l_name)):\n",
    "        if (x2l_name[i]=='N' or x2l_name[i]=='CA' or x2l_name[i]=='CB' or x2l_name[i]=='SG'):\n",
    "            db2l_name_l.append(str(x2l_name[i]))\n",
    "            db2l_index_l.append(str(x2l_index[i]))\n",
    "    for i in range(len(x2r_name)):\n",
    "        if (x2r_name[i]=='N' or x2r_name[i]=='CA' or x2r_name[i]=='CB' or x2r_name[i]=='SG'):\n",
    "            db2r_name_l.append(str(x2r_name[i]))\n",
    "            db2r_index_l.append(str(x2r_index[i])) \n",
    "    print ('DB2 X1L =>',db2l_name_l)\n",
    "    print (db2l_index_l)\n",
    "    print ('DB2 X1R =>',db2r_name_l)\n",
    "    print (db2r_index_l)\n",
    "\n"
   ]
  },
  {
   "cell_type": "markdown",
   "metadata": {},
   "source": [
    "## Ordenando los puentes  de la forma ['N', 'CA', 'CB', 'SG', 'SG', 'CB', 'CA', 'N']"
   ]
  },
  {
   "cell_type": "code",
   "execution_count": null,
   "metadata": {
    "collapsed": false
   },
   "outputs": [],
   "source": [
    "#Generando el DB1 completo ordenado\n",
    "filas=8\n",
    "col=2\n",
    "DB1_i=[]\n",
    "DB1_N=[]\n",
    "DB2_i=[]\n",
    "DB2_N=[]\n",
    "DB3_i=[]\n",
    "DB3_N=[]\n",
    "for i in range(0,filas):\n",
    "    DB1_N.append([' '])\n",
    "    DB1_i.append(['0'])\n",
    "    DB2_N.append([' '])\n",
    "    DB2_i.append(['0'])\n",
    "    DB3_N.append([' '])\n",
    "    DB3_i.append(['0'])\n",
    "\n",
    "if (revisa1>0):\n",
    "    #Cargando índices para el puente 1\n",
    "    for i in range(len(db1l_name_l)):\n",
    "        if db1l_name_l[i]=='N':\n",
    "            DB1_N[0] = db1l_name_l[i]\n",
    "            DB1_i[0]='index '+db1l_index_l[i]\n",
    "        if db1l_name_l[i]=='CA':\n",
    "            DB1_N[1] = db1l_name_l[i]\n",
    "            DB1_i[1]='index '+db1l_index_l[i]\n",
    "        if db1l_name_l[i]=='CB':\n",
    "            DB1_N[2] = db1l_name_l[i]\n",
    "            DB1_i[2]='index '+db1l_index_l[i]\n",
    "        if db1l_name_l[i]=='SG':\n",
    "            DB1_N[3] = db1l_name_l[i]\n",
    "            DB1_i[3]='index '+db1l_index_l[i]\n",
    "        \n",
    "    for i in range(len(db1r_name_l)):\n",
    "        if db1r_name_l[i]=='SG':\n",
    "            DB1_N[4] = db1r_name_l[i]\n",
    "            DB1_i[4]='index '+db1r_index_l[i]\n",
    "        if db1r_name_l[i]=='CB':\n",
    "            DB1_N[5] = db1r_name_l[i]\n",
    "            DB1_i[5]='index '+db1r_index_l[i]\n",
    "        if db1r_name_l[i]=='CA':\n",
    "            DB1_N[6] = db1r_name_l[i]\n",
    "            DB1_i[6]='index '+db1r_index_l[i]\n",
    "        if db1r_name_l[i]=='N':\n",
    "            DB1_N[7] = db1r_name_l[i]\n",
    "            DB1_i[7]='index '+db1r_index_l[i]\n",
    "    \n",
    "    print ('Puente DB1 = resid '+px1l+':'+px1r)\n",
    "    print ('Names DB1=>',DB1_i)\n",
    "    print ('Index DB1=>',DB1_N)\n",
    "    print ('\\n')\n",
    "\n",
    "if (revisa2>0):\n",
    "    #Cargando índices para el puente 2\n",
    "    for i in range(len(db2l_name_l)):\n",
    "        if db2l_name_l[i]=='N':\n",
    "            DB2_N[0] = db2l_name_l[i]\n",
    "            DB2_i[0]='index '+db2l_index_l[i]\n",
    "        if db2l_name_l[i]=='CA':\n",
    "            DB2_N[1] = db2l_name_l[i]\n",
    "            DB2_i[1]='index '+db2l_index_l[i]\n",
    "        if db2l_name_l[i]=='CB':\n",
    "            DB2_N[2] = db2l_name_l[i]\n",
    "            DB2_i[2]='index '+db2l_index_l[i]\n",
    "        if db2l_name_l[i]=='SG':\n",
    "            DB2_N[3] = db2l_name_l[i]\n",
    "            DB2_i[3]='index '+db2l_index_l[i]\n",
    "        \n",
    "    for i in range(len(db2r_name_l)):\n",
    "        if db2r_name_l[i]=='SG':\n",
    "            DB2_N[4] = db2r_name_l[i]\n",
    "            DB2_i[4]='index '+db2r_index_l[i]\n",
    "        if db2r_name_l[i]=='CB':\n",
    "            DB2_N[5] = db2r_name_l[i]\n",
    "            DB2_i[5]='index '+db2r_index_l[i]\n",
    "        if db2r_name_l[i]=='CA':\n",
    "            DB2_N[6] = db2r_name_l[i]\n",
    "            DB2_i[6]='index '+db2r_index_l[i]\n",
    "        if db2r_name_l[i]=='N':\n",
    "            DB2_N[7] = db2r_name_l[i]\n",
    "            DB2_i[7]='index '+db2r_index_l[i]\n",
    "            \n",
    "    print ('Puente DB2 = resid '+px2l+':'+px2r)\n",
    "    print ('Names DB2=>',DB2_i)\n",
    "    print ('Index DB2=>',DB2_N)\n",
    "    print ('\\n')"
   ]
  },
  {
   "cell_type": "markdown",
   "metadata": {},
   "source": [
    "## Creando los archivos tcl para el cálculo del RMSD de los puentes\n",
    "Se crean los archivos de salida en formato tcl."
   ]
  },
  {
   "cell_type": "code",
   "execution_count": null,
   "metadata": {
    "collapsed": false
   },
   "outputs": [],
   "source": [
    "if (revisa1>0):\n",
    "  \n",
    "    #Creando script para DB1_x1l\n",
    "    psf=ruta_old_traj+'/'+psf_file\n",
    "    dcd=ruta_old_traj+'/'+dcd_file\n",
    "    print(psf)\n",
    "    f1 = open('DB1_x1l.tcl', 'w')\n",
    "    print(f1)\n",
    "    f1.write('set psfFile '+ psf+' \\n')\n",
    "    f1.write('set dcdFile '+ dcd+' \\n')\n",
    "    f1.write('\\nmol load psf $psfFile dcd $dcdFile\\n')\n",
    "    f1.write('set outfile ' +'[open ' +'db1_x1l.dat'+' w]\\n')\n",
    "    f1.write('set nf [molinfo top get numframes]\\n')\n",
    "    f1.write('\\n#RMSD calculation loop\\n')\n",
    "    f1.write('set f1 [atomselect top \"'+DB1_i[0]+' or '+DB1_i[1]+' or '+DB1_i[2]+' or '+DB1_i[3]+' \" frame 0]\\n')\n",
    "    f1.write('for {set i 0} {$i < $nf} {incr i 1} {\\n')\n",
    "    f1.write('    set sel [atomselect top \"'+DB1_i[0]+' or '+DB1_i[1]+' or '+DB1_i[2]+' or '+DB1_i[3]+' \" frame $i]\\n')\n",
    "    f1.write('    $sel move [measure fit $sel $f1]\\n')\n",
    "    f1.write('    set time [expr {$i +1}]\\n')\n",
    "    f1.write('    puts -nonewline $outfile \"[measure rmsd $sel $f1]\"\\n')\n",
    "    f1.write('    puts $outfile \"     $time\"\\n')\n",
    "    f1.write('}\\n')\n",
    "    f1.write('close $outfile')\n",
    "    f1.close()\n",
    "    \n",
    "    #Creando script para DB1_x2l\n",
    "    psf=ruta_old_traj+'/'+psf_file\n",
    "    dcd=ruta_old_traj+'/'+dcd_file\n",
    "    print(psf)\n",
    "    f2 = open('DB1_x2l.tcl', 'w')\n",
    "    print(f2)\n",
    "    f2.write('set psfFile '+ psf+' \\n')\n",
    "    f2.write('set dcdFile '+ dcd+' \\n')\n",
    "    f2.write('\\nmol load psf $psfFile dcd $dcdFile\\n')\n",
    "    f2.write('set outfile ' +'[open ' +'db1_x2l.dat'+' w]\\n')\n",
    "    f2.write('set nf [molinfo top get numframes]\\n')\n",
    "    f2.write('\\n#RMSD calculation loop\\n')\n",
    "    f2.write('set f1 [atomselect top \"'+DB1_i[1]+' or '+DB1_i[2]+' or '+DB1_i[3]+' or '+DB1_i[4]+' \" frame 0]\\n')\n",
    "    f2.write('for {set i 0} {$i < $nf} {incr i 1} {\\n')\n",
    "    f2.write('    set sel [atomselect top \"'+DB1_i[1]+' or '+DB1_i[2]+' or '+DB1_i[3]+' or '+DB1_i[4]+' \" frame $i]\\n')\n",
    "    f2.write('    $sel move [measure fit $sel $f1]\\n')\n",
    "    f2.write('    set time [expr {$i +1}]\\n')\n",
    "    f2.write('    puts -nonewline $outfile \"[measure rmsd $sel $f1]\"\\n')\n",
    "    f2.write('    puts $outfile \"     $time\"\\n')\n",
    "    f2.write('}\\n')\n",
    "    f2.write('close $outfile')\n",
    "    f2.close()\n",
    "    \n",
    "    #Creando script para DB1_x3m\n",
    "    psf=ruta_old_traj+'/'+psf_file\n",
    "    dcd=ruta_old_traj+'/'+dcd_file\n",
    "    print(psf)\n",
    "    f3 = open('DB1_x3m.tcl', 'w')\n",
    "    print(f3)\n",
    "    f3.write('set psfFile '+ psf+' \\n')\n",
    "    f3.write('set dcdFile '+ dcd+' \\n')\n",
    "    f3.write('\\nmol load psf $psfFile dcd $dcdFile\\n')\n",
    "    f3.write('set outfile ' +'[open ' +'db1_x3m.dat'+' w]\\n')\n",
    "    f3.write('set nf [molinfo top get numframes]\\n')\n",
    "    f3.write('\\n#RMSD calculation loop\\n')\n",
    "    f3.write('set f1 [atomselect top \"'+DB1_i[2]+' or '+DB1_i[3]+' or '+DB1_i[4]+' or '+DB1_i[5]+' \" frame 0]\\n')\n",
    "    f3.write('for {set i 0} {$i < $nf} {incr i 1} {\\n')\n",
    "    f3.write('    set sel [atomselect top \"'+DB1_i[2]+' or '+DB1_i[3]+' or '+DB1_i[4]+' or '+DB1_i[5]+' \" frame $i]\\n')\n",
    "    f3.write('    $sel move [measure fit $sel $f1]\\n')\n",
    "    f3.write('    set time [expr {$i +1}]\\n')\n",
    "    f3.write('    puts -nonewline $outfile \"[measure rmsd $sel $f1]\"\\n')\n",
    "    f3.write('    puts $outfile \"     $time\"\\n')\n",
    "    f3.write('}\\n')\n",
    "    f3.write('close $outfile')\n",
    "    f3.close()\n",
    "    \n",
    "    #Creando script para DB1_x2r\n",
    "    psf=ruta_old_traj+'/'+psf_file\n",
    "    dcd=ruta_old_traj+'/'+dcd_file\n",
    "    print(psf)\n",
    "    f4 = open('DB1_x2r.tcl', 'w')\n",
    "    print(f4)\n",
    "    f4.write('set psfFile '+ psf+' \\n')\n",
    "    f4.write('set dcdFile '+ dcd+' \\n')\n",
    "    f4.write('\\nmol load psf $psfFile dcd $dcdFile\\n')\n",
    "    f4.write('set outfile ' +'[open ' +'db1_x2r.dat'+' w]\\n')\n",
    "    f4.write('set nf [molinfo top get numframes]\\n')\n",
    "    f4.write('\\n#RMSD calculation loop\\n')\n",
    "    f4.write('set f1 [atomselect top \"'+DB1_i[3]+' or '+DB1_i[4]+' or '+DB1_i[5]+' or '+DB1_i[6]+' \" frame 0]\\n')\n",
    "    f4.write('for {set i 0} {$i < $nf} {incr i 1} {\\n')\n",
    "    f4.write('    set sel [atomselect top \"'+DB1_i[3]+' or '+DB1_i[4]+' or '+DB1_i[5]+' or '+DB1_i[6]+' \" frame $i]\\n')\n",
    "    f4.write('    $sel move [measure fit $sel $f1]\\n')\n",
    "    f4.write('    set time [expr {$i +1}]\\n')\n",
    "    f4.write('    puts -nonewline $outfile \"[measure rmsd $sel $f1]\"\\n')\n",
    "    f4.write('    puts $outfile \"     $time\"\\n')\n",
    "    f4.write('}\\n')\n",
    "    f4.write('close $outfile')\n",
    "    f4.close()\n",
    "    \n",
    "    #Creando script para DB1_x1r\n",
    "    psf=ruta_old_traj+'/'+psf_file\n",
    "    dcd=ruta_old_traj+'/'+dcd_file\n",
    "    print(psf)\n",
    "    f5 = open('DB1_x1r.tcl', 'w')\n",
    "    print(f5)\n",
    "    f5.write('set psfFile '+ psf+' \\n')\n",
    "    f5.write('set dcdFile '+ dcd+' \\n')\n",
    "    f5.write('\\nmol load psf $psfFile dcd $dcdFile\\n')\n",
    "    f5.write('set outfile ' +'[open ' +'db1_x1r.dat'+' w]\\n')\n",
    "    f5.write('set nf [molinfo top get numframes]\\n')\n",
    "    f5.write('\\n#RMSD calculation loop\\n')\n",
    "    f5.write('set f1 [atomselect top \"'+DB1_i[4]+' or '+DB1_i[5]+' or '+DB1_i[6]+' or '+DB1_i[7]+' \" frame 0]\\n')\n",
    "    f5.write('for {set i 0} {$i < $nf} {incr i 1} {\\n')\n",
    "    f5.write('    set sel [atomselect top \"'+DB1_i[4]+' or '+DB1_i[5]+' or '+DB1_i[6]+' or '+DB1_i[7]+' \" frame $i]\\n')\n",
    "    f5.write('    $sel move [measure fit $sel $f1]\\n')\n",
    "    f5.write('    set time [expr {$i +1}]\\n')\n",
    "    f5.write('    puts -nonewline $outfile \"[measure rmsd $sel $f1]\"\\n')\n",
    "    f5.write('    puts $outfile \"     $time\"\\n')\n",
    "    f5.write('}\\n')\n",
    "    f5.write('close $outfile')\n",
    "    f5.close()\n",
    "\n",
    "if (revisa2>0):\n",
    "    ##########################################################################################\n",
    "    ## Creando los archivos para DB2\n",
    "    #######################################################################################\n",
    "    #Creando script para DB2_x1l\n",
    "    psf=ruta_old_traj+'/'+psf_file\n",
    "    dcd=ruta_old_traj+'/'+dcd_file\n",
    "    print(psf)\n",
    "    f6 = open('DB2_x1l.tcl', 'w')\n",
    "    print(f6)\n",
    "    f6.write('set psfFile '+ psf+' \\n')\n",
    "    f6.write('set dcdFile '+ dcd+' \\n')\n",
    "    f6.write('\\nmol load psf $psfFile dcd $dcdFile\\n')\n",
    "    f6.write('set outfile ' +'[open ' +'db2_x1l.dat'+' w]\\n')\n",
    "    f6.write('set nf [molinfo top get numframes]\\n')\n",
    "    f6.write('\\n#RMSD calculation loop\\n')\n",
    "    f6.write('set f1 [atomselect top \"'+DB2_i[0]+' or '+DB2_i[1]+' or '+DB2_i[2]+' or '+DB2_i[3]+' \" frame 0]\\n')\n",
    "    f6.write('for {set i 0} {$i < $nf} {incr i 1} {\\n')\n",
    "    f6.write('    set sel [atomselect top \"'+DB2_i[0]+' or '+DB2_i[1]+' or '+DB2_i[2]+' or '+DB2_i[3]+' \" frame $i]\\n')\n",
    "    f6.write('    $sel move [measure fit $sel $f1]\\n')\n",
    "    f6.write('    set time [expr {$i +1}]\\n')\n",
    "    f6.write('    puts -nonewline $outfile \"[measure rmsd $sel $f1]\"\\n')\n",
    "    f6.write('    puts $outfile \"     $time\"\\n')\n",
    "    f6.write('}\\n')\n",
    "    f6.write('close $outfile')\n",
    "    f6.close()\n",
    "    \n",
    "    #Creando script para DB1_x2l\n",
    "    psf=ruta_old_traj+'/'+psf_file\n",
    "    dcd=ruta_old_traj+'/'+dcd_file\n",
    "    print(psf)\n",
    "    f7 = open('DB2_x2l.tcl', 'w')\n",
    "    print(f7)\n",
    "    f7.write('set psfFile '+ psf+' \\n')\n",
    "    f7.write('set dcdFile '+ dcd+' \\n')\n",
    "    f7.write('\\nmol load psf $psfFile dcd $dcdFile\\n')\n",
    "    f7.write('set outfile ' +'[open ' +'db2_x2l.dat'+' w]\\n')\n",
    "    f7.write('set nf [molinfo top get numframes]\\n')\n",
    "    f7.write('\\n#RMSD calculation loop\\n')\n",
    "    f7.write('set f1 [atomselect top \"'+DB2_i[1]+' or '+DB2_i[2]+' or '+DB2_i[3]+' or '+DB2_i[4]+' \" frame 0]\\n')\n",
    "    f7.write('for {set i 0} {$i < $nf} {incr i 1} {\\n')\n",
    "    f7.write('    set sel [atomselect top \"'+DB2_i[1]+' or '+DB2_i[2]+' or '+DB2_i[3]+' or '+DB2_i[4]+' \" frame $i]\\n')\n",
    "    f7.write('    $sel move [measure fit $sel $f1]\\n')\n",
    "    f7.write('    set time [expr {$i +1}]\\n')\n",
    "    f7.write('    puts -nonewline $outfile \"[measure rmsd $sel $f1]\"\\n')\n",
    "    f7.write('    puts $outfile \"     $time\"\\n')\n",
    "    f7.write('}\\n')\n",
    "    f7.write('close $outfile')\n",
    "    f7.close()\n",
    "    \n",
    "    #Creando script para DB1_x3m\n",
    "    psf=ruta_old_traj+'/'+psf_file\n",
    "    dcd=ruta_old_traj+'/'+dcd_file\n",
    "    print(psf)\n",
    "    f8 = open('DB2_x3m.tcl', 'w')\n",
    "    print(f8)\n",
    "    f8.write('set psfFile '+ psf+' \\n')\n",
    "    f8.write('set dcdFile '+ dcd+' \\n')\n",
    "    f8.write('\\nmol load psf $psfFile dcd $dcdFile\\n')\n",
    "    f8.write('set outfile ' +'[open ' +'db2_x3m.dat'+' w]\\n')\n",
    "    f8.write('set nf [molinfo top get numframes]\\n')\n",
    "    f8.write('\\n#RMSD calculation loop\\n')\n",
    "    f8.write('set f1 [atomselect top \"'+DB2_i[2]+' or '+DB2_i[3]+' or '+DB2_i[4]+' or '+DB2_i[5]+' \" frame 0]\\n')\n",
    "    f8.write('for {set i 0} {$i < $nf} {incr i 1} {\\n')\n",
    "    f8.write('    set sel [atomselect top \"'+DB2_i[2]+' or '+DB2_i[3]+' or '+DB2_i[4]+' or '+DB2_i[5]+' \" frame $i]\\n')\n",
    "    f8.write('    $sel move [measure fit $sel $f1]\\n')\n",
    "    f8.write('    set time [expr {$i +1}]\\n')\n",
    "    f8.write('    puts -nonewline $outfile \"[measure rmsd $sel $f1]\"\\n')\n",
    "    f8.write('    puts $outfile \"     $time\"\\n')\n",
    "    f8.write('}\\n')\n",
    "    f8.write('close $outfile')\n",
    "    f8.close()\n",
    "\n",
    "    #Creando script para DB1_x2r\n",
    "    psf=ruta_old_traj+'/'+psf_file\n",
    "    dcd=ruta_old_traj+'/'+dcd_file\n",
    "    print(psf)\n",
    "    f9 = open('DB2_x2r.tcl', 'w')\n",
    "    print(f9)\n",
    "    f9.write('set psfFile '+ psf+' \\n')\n",
    "    f9.write('set dcdFile '+ dcd+' \\n')\n",
    "    f9.write('\\nmol load psf $psfFile dcd $dcdFile\\n')\n",
    "    f9.write('set outfile ' +'[open ' +'db2_x2r.dat'+' w]\\n')\n",
    "    f9.write('set nf [molinfo top get numframes]\\n')\n",
    "    f9.write('\\n#RMSD calculation loop\\n')\n",
    "    f9.write('set f1 [atomselect top \"'+DB2_i[3]+' or '+DB2_i[4]+' or '+DB2_i[5]+' or '+DB2_i[6]+' \" frame 0]\\n')\n",
    "    f9.write('for {set i 0} {$i < $nf} {incr i 1} {\\n')\n",
    "    f9.write('    set sel [atomselect top \"'+DB2_i[3]+' or '+DB2_i[4]+' or '+DB2_i[5]+' or '+DB2_i[6]+' \" frame $i]\\n')\n",
    "    f9.write('    $sel move [measure fit $sel $f1]\\n')\n",
    "    f9.write('    set time [expr {$i +1}]\\n')\n",
    "    f9.write('    puts -nonewline $outfile \"[measure rmsd $sel $f1]\"\\n')\n",
    "    f9.write('    puts $outfile \"     $time\"\\n')\n",
    "    f9.write('}\\n')\n",
    "    f9.write('close $outfile')\n",
    "    f9.close()\n",
    "    \n",
    "    #Creando script para DB1_x1r\n",
    "    psf=ruta_old_traj+'/'+psf_file\n",
    "    dcd=ruta_old_traj+'/'+dcd_file\n",
    "    print(psf)\n",
    "    f10 = open('DB2_x1r.tcl', 'w')\n",
    "    print(f10)\n",
    "    f10.write('set psfFile '+ psf+' \\n')\n",
    "    f10.write('set dcdFile '+ dcd+' \\n')\n",
    "    f10.write('\\nmol load psf $psfFile dcd $dcdFile\\n')\n",
    "    f10.write('set outfile ' +'[open ' +'db2_x1r.dat'+' w]\\n')\n",
    "    f10.write('set nf [molinfo top get numframes]\\n')\n",
    "    f10.write('\\n#RMSD calculation loop\\n')\n",
    "    f10.write('set f1 [atomselect top \"'+DB2_i[4]+' or '+DB2_i[5]+' or '+DB2_i[6]+' or '+DB2_i[7]+' \" frame 0]\\n')\n",
    "    f10.write('for {set i 0} {$i < $nf} {incr i 1} {\\n')\n",
    "    f10.write('    set sel [atomselect top \"'+DB2_i[4]+' or '+DB2_i[5]+' or '+DB2_i[6]+' or '+DB2_i[7]+' \" frame $i]\\n')\n",
    "    f10.write('    $sel move [measure fit $sel $f1]\\n')\n",
    "    f10.write('    set time [expr {$i +1}]\\n')\n",
    "    f10.write('    puts -nonewline $outfile \"[measure rmsd $sel $f1]\"\\n')\n",
    "    f10.write('    puts $outfile \"     $time\"\\n')\n",
    "    f10.write('}\\n')\n",
    "    f10.write('close $outfile')\n",
    "    f10.close()"
   ]
  },
  {
   "cell_type": "markdown",
   "metadata": {},
   "source": [
    "## Ejecutando los archivos rmsd en tcl con vmd\n",
    "Ejecutando los archivos en VMD"
   ]
  },
  {
   "cell_type": "code",
   "execution_count": null,
   "metadata": {
    "collapsed": false
   },
   "outputs": [],
   "source": [
    "if (revisa1>0):\n",
    "    #Calculando con VMD rmsd DB1 X1L\n",
    "    !vmd -dispdev text < DB1_x1l.tcl\n",
    "    #Calculando con VMD DB1 X2L\n",
    "    !vmd -dispdev text < DB1_x2l.tcl\n",
    "    #Calculando con VMD DB1 X3M\n",
    "    !vmd -dispdev text < DB1_x3m.tcl\n",
    "    #Calculando con VMD DB1 X2R\n",
    "    !vmd -dispdev text < DB1_x2r.tcl\n",
    "    #Calculando con VMD DB1 X1R\n",
    "    !vmd -dispdev text < DB1_x1r.tcl\n",
    "\n",
    "if (revisa2>0):\n",
    "    #Calculando con VMD rmsd DB2 X1L\n",
    "    !vmd -dispdev text < DB2_x1l.tcl\n",
    "    #Calculando con VMD DB2 X2L\n",
    "    !vmd -dispdev text < DB2_x2l.tcl\n",
    "    #Calculando con VMD DB2 X3M\n",
    "    !vmd -dispdev text < DB2_x3m.tcl\n",
    "    #Calculando con VMD DB2 X2R\n",
    "    !vmd -dispdev text < DB2_x2r.tcl\n",
    "    #Calculando con VMD DB2 X1R\n",
    "    !vmd -dispdev text < DB2_x1r.tcl"
   ]
  },
  {
   "cell_type": "markdown",
   "metadata": {},
   "source": [
    "## Generando los gráficos RMSD en matplotlib"
   ]
  },
  {
   "cell_type": "code",
   "execution_count": null,
   "metadata": {
    "collapsed": false,
    "scrolled": true
   },
   "outputs": [],
   "source": [
    "\n",
    "escale_y=[]\n",
    "fig = pl.figure(figsize=(25,8))\n",
    "fig.subplots_adjust(hspace=.4, wspace=0.3)\n",
    "#Formateando los valores de los ejes\n",
    "\n",
    "\n",
    "#Engrosando marcos\n",
    "ax = fig.add_subplot(2,5,1)\n",
    "for axis in ['top','bottom','left','right']:\n",
    "    ax.spines[axis].set_linewidth(3)\n",
    "ax = fig.add_subplot(2,5,2)\n",
    "for axis in ['top','bottom','left','right']:\n",
    "    ax.spines[axis].set_linewidth(3)\n",
    "ax = fig.add_subplot(2,5,3)\n",
    "for axis in ['top','bottom','left','right']:\n",
    "    ax.spines[axis].set_linewidth(3)\n",
    "ax = fig.add_subplot(2,5,4)\n",
    "for axis in ['top','bottom','left','right']:\n",
    "    ax.spines[axis].set_linewidth(3)\n",
    "ax = fig.add_subplot(2,5,5)\n",
    "for axis in ['top','bottom','left','right']:\n",
    "    ax.spines[axis].set_linewidth(3)\n",
    "ax = fig.add_subplot(2,5,6)\n",
    "for axis in ['top','bottom','left','right']:\n",
    "    ax.spines[axis].set_linewidth(3)\n",
    "ax = fig.add_subplot(2,5,7)\n",
    "for axis in ['top','bottom','left','right']:\n",
    "    ax.spines[axis].set_linewidth(3)\n",
    "ax = fig.add_subplot(2,5,8)\n",
    "for axis in ['top','bottom','left','right']:\n",
    "    ax.spines[axis].set_linewidth(3)\n",
    "ax = fig.add_subplot(2,5,9)\n",
    "for axis in ['top','bottom','left','right']:\n",
    "    ax.spines[axis].set_linewidth(3)\n",
    "ax = fig.add_subplot(2,5,10)\n",
    "for axis in ['top','bottom','left','right']:\n",
    "    ax.spines[axis].set_linewidth(3)\n",
    "ax.yaxis.set_major_formatter(FormatStrFormatter('%.2f'))\n",
    "\n",
    "if (revisa1>0):\n",
    "    #Datos de DB1\n",
    "    data_db1_x1l=np.loadtxt('db1_x1l.dat',comments=['#', '@'])\n",
    "    data_db1_x2l=np.loadtxt('db1_x2l.dat',comments=['#', '@'])\n",
    "    data_db1_x3m=np.loadtxt('db1_x3m.dat',comments=['#', '@'])\n",
    "    data_db1_x2r=np.loadtxt('db1_x2r.dat',comments=['#', '@'])\n",
    "    data_db1_x1r=np.loadtxt('db1_x1r.dat',comments=['#', '@'])\n",
    "    sub1 = fig.add_subplot(251) # instead of plt.subplot(2, 2, 1)\n",
    "   \n",
    "    #sub1.set_title('DB1_X1L') \n",
    "    sub1.set_xlabel('Time (ns)')\n",
    "    sub1.set_ylabel('RMSD (nm)')\n",
    "    sub1.plot(data_db1_x1l[:,1]*0.02, data_db1_x1l[:,0]/10, color='black', linewidth = 1, label='DB1_X1L')\n",
    "    x1,x2,y1,y2=sub1.axis()\n",
    "    escale_y.append(y2)\n",
    "    sub2 = fig.add_subplot(252)\n",
    "    #sub2.set_title('DB1_X2L')\n",
    "    sub2.set_xlabel('Time (ns)')\n",
    "    sub2.set_ylabel('RMSD (nm)')\n",
    "    sub2.plot(data_db1_x2l[:,1]*0.02, data_db1_x2l[:,0]/10, color='black', linewidth = 1, label='DB1_X2L')\n",
    "    x1,x2,y1,y2=sub2.axis()\n",
    "    escale_y.append(y2)\n",
    "    sub3 = fig.add_subplot(253)\n",
    "    #sub3.set_title('DB1_X3M')\n",
    "    sub3.set_xlabel('Time (ns)')\n",
    "    sub3.set_ylabel('RMSD (nm)')\n",
    "    sub3.plot(data_db1_x3m[:,1]*0.02, data_db1_x3m[:,0]/10, color='black', linewidth = 1, label='DB1_X3M')\n",
    "    x1,x2,y1,y2=sub3.axis()\n",
    "    escale_y.append(y2)\n",
    "    sub4 = fig.add_subplot(254)\n",
    "    #sub4.set_title('DB1_X2R')\n",
    "    sub4.set_xlabel('Time (ns)')\n",
    "    sub4.set_ylabel('RMSD (nm)')\n",
    "    sub4.plot(data_db1_x2r[:,1]*0.02, data_db1_x2r[:,0]/10, color='black', linewidth = 1, label='DB1_X2R')\n",
    "    x1,x2,y1,y2=sub4.axis()\n",
    "    escale_y.append(y2)\n",
    "    sub5 = fig.add_subplot(255)\n",
    "    #sub5.set_title('DB1_X1R')\n",
    "    sub5.set_xlabel('Time (ns)')\n",
    "    sub5.set_ylabel('RMSD (nm)')\n",
    "    sub5.plot(data_db1_x1r[:,1]*0.02, data_db1_x1r[:,0]/10, color='black', linewidth = 1, label='DB1_X1R')\n",
    "    x1,x2,y1,y2=sub5.axis()\n",
    "    escale_y.append(y2)\n",
    "\n",
    "if (revisa2>0):\n",
    "    #DAtos de DB2\n",
    "    data_db2_x1l=np.loadtxt('db2_x1l.dat',comments=['#', '@'])\n",
    "    data_db2_x2l=np.loadtxt('db2_x2l.dat',comments=['#', '@'])\n",
    "    data_db2_x3m=np.loadtxt('db2_x3m.dat',comments=['#', '@'])\n",
    "    data_db2_x2r=np.loadtxt('db2_x2r.dat',comments=['#', '@'])\n",
    "    data_db2_x1r=np.loadtxt('db2_x1r.dat',comments=['#', '@'])\n",
    "    #Ploteando DB2\n",
    "    sub6 = fig.add_subplot(256)\n",
    "    #sub6.set_title('DB2_X1L')\n",
    "    sub6.set_xlabel('Time (ns)')\n",
    "    sub6.set_ylabel('RMSD (nm)')\n",
    "    sub6.plot(data_db2_x1l[:,1]*0.02, data_db2_x1l[:,0]/10, color='red', linewidth = 1, label='DB2_X1L')\n",
    "    x1,x2,y1,y2=sub6.axis()\n",
    "    escale_y.append(y2)\n",
    "    sub7 = fig.add_subplot(257)\n",
    "    #sub7.set_title('DB2_X2L')\n",
    "    sub7.set_xlabel('Time (ns)')\n",
    "    sub7.set_ylabel('RMSD (nm)')\n",
    "    sub7.plot(data_db2_x2l[:,1]*0.02, data_db2_x2l[:,0]/10, color='red', linewidth = 1, label='DB2_X2L')\n",
    "    x1,x2,y1,y2=sub7.axis()\n",
    "    escale_y.append(y2)\n",
    "    sub8 = fig.add_subplot(258)\n",
    "    #sub8.set_title('DB2_X3M')\n",
    "    sub8.set_xlabel('Time (ns)')\n",
    "    sub8.set_ylabel('RMSD (nm)')\n",
    "    sub8.plot(data_db2_x3m[:,1]*0.02, data_db2_x3m[:,0]/10, color='red', linewidth = 1, label='DB2_X3M')\n",
    "    x1,x2,y1,y2=sub8.axis()\n",
    "    escale_y.append(y2)\n",
    "    sub9 = fig.add_subplot(259)\n",
    "    #sub9.set_title('DB2_X2R')\n",
    "    sub9.set_xlabel('Time (ns)')\n",
    "    sub9.set_ylabel('RMSD (nm)')\n",
    "    sub9.plot(data_db2_x2r[:,1]*0.02, data_db2_x2r[:,0]/10, color='red', linewidth = 1, label='DB2_X2R')\n",
    "    x1,x2,y1,y2=sub9.axis()\n",
    "    escale_y.append(y2)\n",
    "    sub10 = fig.add_subplot(2,5,10)\n",
    "    #sub10.set_title('DB2_X1R')\n",
    "    sub10.set_xlabel('Time (ns)')\n",
    "    sub10.set_ylabel('RMSD (nm)')\n",
    "    sub10.plot(data_db2_x1r[:,1]*0.02, data_db2_x1r[:,0]/10, color='red', linewidth = 1, label='DB2_X1R')\n",
    "    x1,x2,y1,y2=sub10.axis()\n",
    "    escale_y.append(y2)\n",
    "    \n",
    "#escale_y\n",
    "escale_y.sort(reverse=True)\n",
    "escale_y\n",
    "##Cambiando los ejes de las y\n",
    "sub1.axis((x1,x2,y1,escale_y[0]))\n",
    "sub2.axis((x1,x2,y1,escale_y[0]))\n",
    "sub3.axis((x1,x2,y1,escale_y[0]))\n",
    "sub4.axis((x1,x2,y1,escale_y[0]))\n",
    "sub5.axis((x1,x2,y1,escale_y[0]))\n",
    "sub6.axis((x1,x2,y1,escale_y[0]))\n",
    "sub7.axis((x1,x2,y1,escale_y[0]))\n",
    "sub8.axis((x1,x2,y1,escale_y[0]))\n",
    "sub9.axis((x1,x2,y1,escale_y[0]))\n",
    "sub10.axis((x1,x2,y1,escale_y[0]))\n",
    "\n"
   ]
  },
  {
   "cell_type": "markdown",
   "metadata": {},
   "source": [
    "\n",
    "---\n",
    "\n",
    "#  FREE ENERGY  DIHEDRAL INTRAMOLECULAR\n",
    "\n",
    "---\n",
    "\n",
    "Se calculan las distancias de los ángulos diedros para el cálculo de la free energy intramolecular"
   ]
  },
  {
   "cell_type": "code",
   "execution_count": null,
   "metadata": {
    "collapsed": false
   },
   "outputs": [],
   "source": [
    "### Creando el directorio para el análisis de las distancias de enlace de los puentes\n",
    "\n",
    "ruta_diedros = nuevaruta+'/diedros_intra'\n",
    "print ( ruta_diedros )\n",
    "if not os.path.exists(ruta_diedros): \n",
    "    os.makedirs(ruta_diedros)\n",
    "    print ('Se ha creado la ruta ===>',ruta_diedros)\n",
    "else:\n",
    "        print (\"La ruta \"+ruta_diedros+\" existe..!!!\")\n",
    "\n",
    "print ( 'Nos vamos a ....', ruta_diedros)\n",
    "os.chdir( ruta_diedros )"
   ]
  },
  {
   "cell_type": "markdown",
   "metadata": {},
   "source": [
    "## Creación de los archivos tcl para el cálculo de los ángulos diedros"
   ]
  },
  {
   "cell_type": "code",
   "execution_count": null,
   "metadata": {
    "collapsed": false
   },
   "outputs": [],
   "source": [
    "psf=ruta_old_traj+'/'+psf_file\n",
    "dcd=ruta_old_traj+'/'+dcd_file\n",
    "if (revisa1>0):\n",
    "  \n",
    "    #Creando script para DB1_x1l\n",
    "    d1 = open('dihed_DB1_x1l.tcl', 'w')\n",
    "    print(d1)\n",
    "    d1.write('set psfFile '+ psf+' \\n')\n",
    "    d1.write('set dcdFile '+ dcd+' \\n')\n",
    "    d1.write('\\nmol load psf $psfFile dcd $dcdFile\\n')\n",
    "    d1.write('set outfile ' +'[open ' +'dihed_db1_x1l.dat'+' w]\\n')\n",
    "    d1.write('set nf [molinfo top get numframes]\\n')\n",
    "    d1.write(' \\n')\n",
    "    d1.write('set selatoms1 [[atomselect top \"protein and chain A and '+DB1_i[0]+'\"] get index]\\n')\n",
    "    d1.write('set selatoms2 [[atomselect top \"protein and chain A and '+DB1_i[1]+'\"] get index]\\n')\n",
    "    d1.write('set selatoms3 [[atomselect top \"protein and chain A and '+DB1_i[2]+'\"] get index]\\n')\n",
    "    d1.write('set selatoms4 [[atomselect top \"protein and chain A and '+DB1_i[3]+'\"] get index]\\n')\n",
    "    d1.write('set dihed [list [lindex $selatoms1] [lindex $selatoms2] [lindex $selatoms3] [lindex $selatoms4] ]\\n')\n",
    "    d1.write('for {set i 0} {$i < $nf} {incr i 1} {\\n')\n",
    "    d1.write('    set x [measure dihed $dihed frame $i]\\n')\n",
    "    d1.write('    set time [expr {$i +1}]\\n')\n",
    "    d1.write('    puts $outfile \"$time     $x\"\\n')\n",
    "    d1.write('}\\n')\n",
    "    d1.close()\n",
    "    \n",
    "    #Creando script para DB1_x2l\n",
    "    d2 = open('dihed_DB1_x2l.tcl', 'w')\n",
    "    print(d2)\n",
    "    d2.write('set psfFile '+ psf+' \\n')\n",
    "    d2.write('set dcdFile '+ dcd+' \\n')\n",
    "    d2.write('\\nmol load psf $psfFile dcd $dcdFile\\n')\n",
    "    d2.write('set outfile ' +'[open ' +'dihed_db1_x2l.dat'+' w]\\n')\n",
    "    d2.write('set nf [molinfo top get numframes]\\n')\n",
    "    d2.write(' \\n')\n",
    "    d2.write('set selatoms1 [[atomselect top \"protein and chain A and '+DB1_i[1]+'\"] get index]\\n')\n",
    "    d2.write('set selatoms2 [[atomselect top \"protein and chain A and '+DB1_i[2]+'\"] get index]\\n')\n",
    "    d2.write('set selatoms3 [[atomselect top \"protein and chain A and '+DB1_i[3]+'\"] get index]\\n')\n",
    "    d2.write('set selatoms4 [[atomselect top \"protein and chain A and '+DB1_i[4]+'\"] get index]\\n')\n",
    "    d2.write('set dihed [list [lindex $selatoms1] [lindex $selatoms2] [lindex $selatoms3] [lindex $selatoms4] ]\\n')\n",
    "    d2.write('for {set i 0} {$i < $nf} {incr i 1} {\\n')\n",
    "    d2.write('    set x [measure dihed $dihed frame $i]\\n')\n",
    "    d2.write('    set time [expr {$i +1}]\\n')\n",
    "    d2.write('    puts $outfile \"$time     $x\"\\n')\n",
    "    d2.write('}\\n')\n",
    "    d2.close()\n",
    "       \n",
    "    #Creando script para DB1_x3m\n",
    "    d3 = open('dihed_DB1_x3m.tcl', 'w')\n",
    "    print(d3)\n",
    "    d3.write('set psfFile '+ psf+' \\n')\n",
    "    d3.write('set dcdFile '+ dcd+' \\n')\n",
    "    d3.write('\\nmol load psf $psfFile dcd $dcdFile\\n')\n",
    "    d3.write('set outfile ' +'[open ' +'dihed_db1_x3m.dat'+' w]\\n')\n",
    "    d3.write('set nf [molinfo top get numframes]\\n')\n",
    "    d3.write(' \\n')\n",
    "    d3.write('set selatoms1 [[atomselect top \"protein and chain A and '+DB1_i[2]+'\"] get index]\\n')\n",
    "    d3.write('set selatoms2 [[atomselect top \"protein and chain A and '+DB1_i[3]+'\"] get index]\\n')\n",
    "    d3.write('set selatoms3 [[atomselect top \"protein and chain A and '+DB1_i[4]+'\"] get index]\\n')\n",
    "    d3.write('set selatoms4 [[atomselect top \"protein and chain A and '+DB1_i[5]+'\"] get index]\\n')\n",
    "    d3.write('set dihed [list [lindex $selatoms1] [lindex $selatoms2] [lindex $selatoms3] [lindex $selatoms4] ]\\n')\n",
    "    d3.write('for {set i 0} {$i < $nf} {incr i 1} {\\n')\n",
    "    d3.write('    set x [measure dihed $dihed frame $i]\\n')\n",
    "    d3.write('    set time [expr {$i +1}]\\n')\n",
    "    d3.write('    puts $outfile \"$time     $x\"\\n')\n",
    "    d3.write('}\\n')\n",
    "    d3.close()\n",
    "    \n",
    "    #Creando script para DB1_x2r\n",
    "    d4 = open('dihed_DB1_x2r.tcl', 'w')\n",
    "    print(d4)\n",
    "    d4.write('set psfFile '+ psf+' \\n')\n",
    "    d4.write('set dcdFile '+ dcd+' \\n')\n",
    "    d4.write('\\nmol load psf $psfFile dcd $dcdFile\\n')\n",
    "    d4.write('set outfile ' +'[open ' +'dihed_db1_x2r.dat'+' w]\\n')\n",
    "    d4.write('set nf [molinfo top get numframes]\\n')\n",
    "    d4.write(' \\n')\n",
    "    d4.write('set selatoms1 [[atomselect top \"protein and chain A and '+DB1_i[3]+'\"] get index]\\n')\n",
    "    d4.write('set selatoms2 [[atomselect top \"protein and chain A and '+DB1_i[4]+'\"] get index]\\n')\n",
    "    d4.write('set selatoms3 [[atomselect top \"protein and chain A and '+DB1_i[5]+'\"] get index]\\n')\n",
    "    d4.write('set selatoms4 [[atomselect top \"protein and chain A and '+DB1_i[6]+'\"] get index]\\n')\n",
    "    d4.write('set dihed [list [lindex $selatoms1] [lindex $selatoms2] [lindex $selatoms3] [lindex $selatoms4] ]\\n')\n",
    "    d4.write('for {set i 0} {$i < $nf} {incr i 1} {\\n')\n",
    "    d4.write('    set x [measure dihed $dihed frame $i]\\n')\n",
    "    d4.write('    set time [expr {$i +1}]\\n')\n",
    "    d4.write('    puts $outfile \"$time     $x\"\\n')\n",
    "    d4.write('}\\n')\n",
    "    d4.close()\n",
    "    \n",
    "    #Creando script para DB1_x1r\n",
    "    d5 = open('dihed_DB1_x1r.tcl', 'w')\n",
    "    print(d5)\n",
    "    d5.write('set psfFile '+ psf+' \\n')\n",
    "    d5.write('set dcdFile '+ dcd+' \\n')\n",
    "    d5.write('\\nmol load psf $psfFile dcd $dcdFile\\n')\n",
    "    d5.write('set outfile ' +'[open ' +'dihed_db1_x1r.dat'+' w]\\n')\n",
    "    d5.write('set nf [molinfo top get numframes]\\n')\n",
    "    d5.write(' \\n')\n",
    "    d5.write('set selatoms1 [[atomselect top \"protein and chain A and '+DB1_i[4]+'\"] get index]\\n')\n",
    "    d5.write('set selatoms2 [[atomselect top \"protein and chain A and '+DB1_i[5]+'\"] get index]\\n')\n",
    "    d5.write('set selatoms3 [[atomselect top \"protein and chain A and '+DB1_i[6]+'\"] get index]\\n')\n",
    "    d5.write('set selatoms4 [[atomselect top \"protein and chain A and '+DB1_i[7]+'\"] get index]\\n')\n",
    "    d5.write('set dihed [list [lindex $selatoms1] [lindex $selatoms2] [lindex $selatoms3] [lindex $selatoms4] ]\\n')\n",
    "    d5.write('for {set i 0} {$i < $nf} {incr i 1} {\\n')\n",
    "    d5.write('    set x [measure dihed $dihed frame $i]\\n')\n",
    "    d5.write('    set time [expr {$i +1}]\\n')\n",
    "    d5.write('    puts $outfile \"$time     $x\"\\n')\n",
    "    d5.write('}\\n')\n",
    "    d5.close()\n",
    "    \n",
    "if (revisa2>0):\n",
    "    #####################################################################\n",
    "    ########## Puente 2\n",
    "    ##########################################3\n",
    "    #Creando script para DB2_x1l\n",
    "    d6 = open('dihed_DB2_x1l.tcl', 'w')\n",
    "    print(d6)\n",
    "    d6.write('set psfFile '+ psf+' \\n')\n",
    "    d6.write('set dcdFile '+ dcd+' \\n')\n",
    "    d6.write('\\nmol load psf $psfFile dcd $dcdFile\\n')\n",
    "    d6.write('set outfile ' +'[open ' +'dihed_db2_x1l.dat'+' w]\\n')\n",
    "    d6.write('set nf [molinfo top get numframes]\\n')\n",
    "    d6.write(' \\n')\n",
    "    d6.write('set selatoms1 [[atomselect top \"protein and chain A and '+DB2_i[0]+'\"] get index]\\n')\n",
    "    d6.write('set selatoms2 [[atomselect top \"protein and chain A and '+DB2_i[1]+'\"] get index]\\n')\n",
    "    d6.write('set selatoms3 [[atomselect top \"protein and chain A and '+DB2_i[2]+'\"] get index]\\n')\n",
    "    d6.write('set selatoms4 [[atomselect top \"protein and chain A and '+DB2_i[3]+'\"] get index]\\n')\n",
    "    d6.write('set dihed [list [lindex $selatoms1] [lindex $selatoms2] [lindex $selatoms3] [lindex $selatoms4] ]\\n')\n",
    "    d6.write('for {set i 0} {$i < $nf} {incr i 1} {\\n')\n",
    "    d6.write('    set x [measure dihed $dihed frame $i]\\n')\n",
    "    d6.write('    set time [expr {$i +1}]\\n')\n",
    "    d6.write('    puts $outfile \"$time     $x\"\\n')\n",
    "    d6.write('}\\n')\n",
    "    d6.close()\n",
    "    \n",
    "    #Creando script para DB2_x2l\n",
    "    d7 = open('dihed_DB2_x2l.tcl', 'w')\n",
    "    print(d7)\n",
    "    d7.write('set psfFile '+ psf+' \\n')\n",
    "    d7.write('set dcdFile '+ dcd+' \\n')\n",
    "    d7.write('\\nmol load psf $psfFile dcd $dcdFile\\n')\n",
    "    d7.write('set outfile ' +'[open ' +'dihed_db2_x2l.dat'+' w]\\n')\n",
    "    d7.write('set nf [molinfo top get numframes]\\n')\n",
    "    d7.write(' \\n')\n",
    "    d7.write('set selatoms1 [[atomselect top \"protein and chain A and '+DB2_i[1]+'\"] get index]\\n')\n",
    "    d7.write('set selatoms2 [[atomselect top \"protein and chain A and '+DB2_i[2]+'\"] get index]\\n')\n",
    "    d7.write('set selatoms3 [[atomselect top \"protein and chain A and '+DB2_i[3]+'\"] get index]\\n')\n",
    "    d7.write('set selatoms4 [[atomselect top \"protein and chain A and '+DB2_i[4]+'\"] get index]\\n')\n",
    "    d7.write('set dihed [list [lindex $selatoms1] [lindex $selatoms2] [lindex $selatoms3] [lindex $selatoms4] ]\\n')\n",
    "    d7.write('for {set i 0} {$i < $nf} {incr i 1} {\\n')\n",
    "    d7.write('    set x [measure dihed $dihed frame $i]\\n')\n",
    "    d7.write('    set time [expr {$i +1}]\\n')\n",
    "    d7.write('    puts $outfile \"$time     $x\"\\n')\n",
    "    d7.write('}\\n')\n",
    "    d7.close()\n",
    "       \n",
    "    #Creando script para DB2_x3m\n",
    "    d8 = open('dihed_DB2_x3m.tcl', 'w')\n",
    "    print(d8)\n",
    "    d8.write('set psfFile '+ psf+' \\n')\n",
    "    d8.write('set dcdFile '+ dcd+' \\n')\n",
    "    d8.write('\\nmol load psf $psfFile dcd $dcdFile\\n')\n",
    "    d8.write('set outfile ' +'[open ' +'dihed_db2_x3m.dat'+' w]\\n')\n",
    "    d8.write('set nf [molinfo top get numframes]\\n')\n",
    "    d8.write(' \\n')\n",
    "    d8.write('set selatoms1 [[atomselect top \"protein and chain A and '+DB2_i[2]+'\"] get index]\\n')\n",
    "    d8.write('set selatoms2 [[atomselect top \"protein and chain A and '+DB2_i[3]+'\"] get index]\\n')\n",
    "    d8.write('set selatoms3 [[atomselect top \"protein and chain A and '+DB2_i[4]+'\"] get index]\\n')\n",
    "    d8.write('set selatoms4 [[atomselect top \"protein and chain A and '+DB2_i[5]+'\"] get index]\\n')\n",
    "    d8.write('set dihed [list [lindex $selatoms1] [lindex $selatoms2] [lindex $selatoms3] [lindex $selatoms4] ]\\n')\n",
    "    d8.write('for {set i 0} {$i < $nf} {incr i 1} {\\n')\n",
    "    d8.write('    set x [measure dihed $dihed frame $i]\\n')\n",
    "    d8.write('    set time [expr {$i +1}]\\n')\n",
    "    d8.write('    puts $outfile \"$time     $x\"\\n')\n",
    "    d8.write('}\\n')\n",
    "    d8.close()\n",
    "    \n",
    "    #Creando script para DB2_x2r\n",
    "    d9 = open('dihed_DB2_x2r.tcl', 'w')\n",
    "    print(d9)\n",
    "    d9.write('set psfFile '+ psf+' \\n')\n",
    "    d9.write('set dcdFile '+ dcd+' \\n')\n",
    "    d9.write('\\nmol load psf $psfFile dcd $dcdFile\\n')\n",
    "    d9.write('set outfile ' +'[open ' +'dihed_db2_x2r.dat'+' w]\\n')\n",
    "    d9.write('set nf [molinfo top get numframes]\\n')\n",
    "    d9.write(' \\n')\n",
    "    d9.write('set selatoms1 [[atomselect top \"protein and chain A and '+DB2_i[3]+'\"] get index]\\n')\n",
    "    d9.write('set selatoms2 [[atomselect top \"protein and chain A and '+DB2_i[4]+'\"] get index]\\n')\n",
    "    d9.write('set selatoms3 [[atomselect top \"protein and chain A and '+DB2_i[5]+'\"] get index]\\n')\n",
    "    d9.write('set selatoms4 [[atomselect top \"protein and chain A and '+DB2_i[6]+'\"] get index]\\n')\n",
    "    d9.write('set dihed [list [lindex $selatoms1] [lindex $selatoms2] [lindex $selatoms3] [lindex $selatoms4] ]\\n')\n",
    "    d9.write('for {set i 0} {$i < $nf} {incr i 1} {\\n')\n",
    "    d9.write('    set x [measure dihed $dihed frame $i]\\n')\n",
    "    d9.write('    set time [expr {$i +1}]\\n')\n",
    "    d9.write('    puts $outfile \"$time     $x\"\\n')\n",
    "    d9.write('}\\n')\n",
    "    d9.close()\n",
    "    \n",
    "    #Creando script para DB2_x1r\n",
    "    d10 = open('dihed_DB2_x1r.tcl', 'w')\n",
    "    print(d10)\n",
    "    d10.write('set psfFile '+ psf+' \\n')\n",
    "    d10.write('set dcdFile '+ dcd+' \\n')\n",
    "    d10.write('\\nmol load psf $psfFile dcd $dcdFile\\n')\n",
    "    d10.write('set outfile ' +'[open ' +'dihed_db2_x1r.dat'+' w]\\n')\n",
    "    d10.write('set nf [molinfo top get numframes]\\n')\n",
    "    d10.write(' \\n')\n",
    "    d10.write('set selatoms1 [[atomselect top \"protein and chain A and '+DB2_i[4]+'\"] get index]\\n')\n",
    "    d10.write('set selatoms2 [[atomselect top \"protein and chain A and '+DB2_i[5]+'\"] get index]\\n')\n",
    "    d10.write('set selatoms3 [[atomselect top \"protein and chain A and '+DB2_i[6]+'\"] get index]\\n')\n",
    "    d10.write('set selatoms4 [[atomselect top \"protein and chain A and '+DB2_i[7]+'\"] get index]\\n')\n",
    "    d10.write('set dihed [list [lindex $selatoms1] [lindex $selatoms2] [lindex $selatoms3] [lindex $selatoms4] ]\\n')\n",
    "    d10.write('for {set i 0} {$i < $nf} {incr i 1} {\\n')\n",
    "    d10.write('    set x [measure dihed $dihed frame $i]\\n')\n",
    "    d10.write('    set time [expr {$i +1}]\\n')\n",
    "    d10.write('    puts $outfile \"$time     $x\"\\n')\n",
    "    d10.write('}\\n')\n",
    "    d10.close()"
   ]
  },
  {
   "cell_type": "markdown",
   "metadata": {},
   "source": [
    "## Ejecutando los archivos de los ángulos diedros tcl generados con VMD\n"
   ]
  },
  {
   "cell_type": "code",
   "execution_count": null,
   "metadata": {
    "collapsed": false
   },
   "outputs": [],
   "source": [
    "if (revisa1>0):\n",
    "    #Calculando con VMD rmsd DB1 X1L\n",
    "    !vmd -dispdev text < dihed_DB1_x1l.tcl\n",
    "    #Calculando con VMD DB1 X2L\n",
    "    !vmd -dispdev text < dihed_DB1_x2l.tcl\n",
    "    #Calculando con VMD DB1 X3M\n",
    "    !vmd -dispdev text < dihed_DB1_x3m.tcl\n",
    "    #Calculando con VMD DB1 X2R\n",
    "    !vmd -dispdev text < dihed_DB1_x2r.tcl\n",
    "    #Calculando con VMD DB1 X1R\n",
    "    !vmd -dispdev text < dihed_DB1_x1r.tcl\n",
    "\n",
    "if (revisa2>0):\n",
    "    #Calculando con VMD rmsd DB2 X1L\n",
    "    !vmd -dispdev text < dihed_DB2_x1l.tcl\n",
    "    #Calculando con VMD DB2 X2L\n",
    "    !vmd -dispdev text < dihed_DB2_x2l.tcl\n",
    "    #Calculando con VMD DB2 X3M\n",
    "    !vmd -dispdev text < dihed_DB2_x3m.tcl\n",
    "    #Calculando con VMD DB2 X2R\n",
    "    !vmd -dispdev text < dihed_DB2_x2r.tcl\n",
    "    #Calculando con VMD DB2 X1R\n",
    "    !vmd -dispdev text < dihed_DB2_x1r.tcl"
   ]
  },
  {
   "cell_type": "code",
   "execution_count": null,
   "metadata": {
    "collapsed": false
   },
   "outputs": [],
   "source": [
    "print ('\\nCopiando el archivo generateFES.py a '+ruta_diedros)\n",
    "source_file=ruta_f_energy+'/generateFES.py'\n",
    "dest_file=ruta_diedros+'/generateFES.py'\n",
    "shutil.copy(source_file,dest_file)\n",
    "#Cambiando permisos de ejecución\n",
    "!chmod +x generateFES.py"
   ]
  },
  {
   "cell_type": "markdown",
   "metadata": {},
   "source": [
    "## Calculando la Free Energy Intramolecular para el Puente 1"
   ]
  },
  {
   "cell_type": "code",
   "execution_count": null,
   "metadata": {
    "collapsed": false
   },
   "outputs": [],
   "source": [
    "if (revisa1>0):\n",
    "    #Cargando valores del DB1_X1L\n",
    "    data_db1_x1l=np.loadtxt('dihed_db1_x1l.dat',comments=['#', '@'])\n",
    "    #Cargando valores del DB1_X1R\n",
    "    data_db1_x1r=np.loadtxt('dihed_db1_x1r.dat',comments=['#', '@'])\n",
    "    \n",
    "    #Obteniendo los valores máximo y mínimo del DB1_X1L\n",
    "    min_x1l=np.amin(data_db1_x1l[:,1])\n",
    "    max_x1l=np.amax(data_db1_x1l[:,1])\n",
    "    print ('Minimo DB1_X1L=>',min_x1l)\n",
    "    print ('Máximo DB1_X1L=>',max_x1l)\n",
    "    #Obteniendo los valores máximo y mínimo del DB1_X1R\n",
    "    min_x1r=np.amin(data_db1_x1r[:,1])\n",
    "    max_x1r=np.amax(data_db1_x1r[:,1])\n",
    "    print ('Minimo DB1_X1R=>',min_x1r)\n",
    "    print ('Máximo DB1_X1R=>',max_x1r)\n",
    "    \n",
    "    #Creando los archivos de entrada para el script\n",
    "    np.savetxt('db1_x1l.dat',data_db1_x1l[:,1], fmt='%1.14f')\n",
    "    np.savetxt('db1_x1r.dat',data_db1_x1r[:,1], fmt='%1.14f')\n",
    "    !paste db1_x1l.dat db1_x1r.dat  > DB1_x1_lr.dat\n",
    "    \n",
    "    #Ejecutando el script de FES\n",
    "    !python generateFES.py DB1_x1_lr.dat $min_x1l $max_x1l $min_x1r $max_x1r  200 200 $temperatura XL1_XR1.dat\n",
    "    \n",
    "    ###################################################################\n",
    "    #Cargando valores del DB1_X2l\n",
    "    data_db1_x2l=np.loadtxt('dihed_db1_x2l.dat',comments=['#', '@'])\n",
    "    #Cargando valores del DB1_X1R\n",
    "    data_db1_x2r=np.loadtxt('dihed_db1_x2r.dat',comments=['#', '@'])\n",
    "    \n",
    "    #Obteniendo los valores máximo y mínimo del DB1_X1L\n",
    "    min_x2l=np.amin(data_db1_x2l[:,1])\n",
    "    max_x2l=np.amax(data_db1_x2l[:,1])\n",
    "    print ('Minimo DB1_X2L=>',min_x2l)\n",
    "    print ('Máximo DB1_X2L=>',max_x2l)\n",
    "    #Obteniendo los valores máximo y mínimo del DB1_X1R\n",
    "    min_x2r=np.amin(data_db1_x2r[:,1])\n",
    "    max_x2r=np.amax(data_db1_x2r[:,1])\n",
    "    print ('Minimo DB1_X2R=>',min_x2r)\n",
    "    print ('Máximo DB1_X2R=>',max_x2r)\n",
    "    \n",
    "    #Creando los archivos de entrada para el script\n",
    "    np.savetxt('db1_x2l.dat',data_db1_x2l[:,1], fmt='%1.14f')\n",
    "    np.savetxt('db1_x2r.dat',data_db1_x2r[:,1], fmt='%1.14f')\n",
    "    !paste db1_x2l.dat db1_x2r.dat  > DB1_x2_lr.dat\n",
    "    \n",
    "    #Ejecutando el script de FES\n",
    "    !python generateFES.py DB1_x2_lr.dat $min_x2l $max_x2l $min_x2r $max_x2r  200 200 $temperatura XL2_XR2.dat\n",
    "    \n",
    "    ######################################################################################\n",
    "    #Generando los archivos para X3M\n",
    "    data_db1_x3m=np.loadtxt('dihed_db1_x3m.dat',comments=['#', '@'])\n",
    "    \n",
    "    #Obteniendo los valores máximo y mínimo del DB1_X1L\n",
    "    min_x3m=np.amin(data_db1_x3m[:,1])\n",
    "    max_x3m=np.amax(data_db1_x3m[:,1])\n",
    "    \n",
    "    print ('Minimo DB1_X3M=>',min_x3m)\n",
    "    print ('Máximo DB1_X3M=>',max_x3m)\n",
    "    print ('Minimo DB1_X1L=>',min_x1l)\n",
    "    print ('Máximo DB1_X1L=>',max_x1l)\n",
    "    print ('Minimo DB1_X2L=>',min_x2l)\n",
    "    print ('Máximo DB1_X2L=>',max_x2l)\n",
    "    print ('Minimo DB1_X1R=>',min_x1r)\n",
    "    print ('Máximo DB1_X1R=>',max_x1r)\n",
    "    print ('Minimo DB1_X2R=>',min_x2r)\n",
    "    print ('Máximo DB1_X2R=>',max_x2r)\n",
    "    \n",
    "    #Creando los archivos de entrada para el script\n",
    "    np.savetxt('db1_x3m.dat',data_db1_x3m[:,1], fmt='%1.14f')\n",
    "    !paste db1_x3m.dat db1_x1l.dat  > DB1_x3m_x1l.dat\n",
    "    !paste db1_x3m.dat db1_x2l.dat  > DB1_x3m_x2l.dat\n",
    "    !paste db1_x3m.dat db1_x1r.dat  > DB1_x3m_x1r.dat\n",
    "    !paste db1_x3m.dat db1_x2r.dat  > DB1_x3m_x2r.dat\n",
    "    \n",
    "    #Ejecutando el script de FES\n",
    "    !python generateFES.py DB1_x3m_x1l.dat $min_x3m $max_x3m $min_x1l $max_x1l  200 200 $temperatura XM3_XL1.dat\n",
    "    !python generateFES.py DB1_x3m_x2l.dat $min_x3m $max_x3m $min_x2l $max_x2l  200 200 $temperatura XM3_XL2.dat\n",
    "    !python generateFES.py DB1_x3m_x1r.dat $min_x3m $max_x3m $min_x1r $max_x1r  200 200 $temperatura XM3_XR1.dat\n",
    "    !python generateFES.py DB1_x3m_x2r.dat $min_x3m $max_x3m $min_x2r $max_x2r  200 200 $temperatura XM3_XR2.dat"
   ]
  },
  {
   "cell_type": "markdown",
   "metadata": {},
   "source": [
    "### Ploteando con GNUPLOT el Puente 1"
   ]
  },
  {
   "cell_type": "code",
   "execution_count": null,
   "metadata": {
    "collapsed": false
   },
   "outputs": [],
   "source": [
    "# This loads the magics for gnuplot\n",
    "%reload_ext gnuplot_kernel\n",
    "#Configurando la salida para GNUplot\n",
    "%gnuplot inline pngcairo  transparent enhanced font \"arial,20\" fontscale 1.0 size 1280,960; set zeroaxis;;"
   ]
  },
  {
   "cell_type": "code",
   "execution_count": null,
   "metadata": {
    "collapsed": false,
    "scrolled": true
   },
   "outputs": [],
   "source": [
    "%%gnuplot\n",
    "set output \"db1_xl1_vs_xr1.png\"\n",
    "set palette model RGB\n",
    "set palette defined ( 0 '#000090',\\\n",
    "                      1 '#000fff',\\\n",
    "                      2 '#0090ff',\\\n",
    "                      3 '#0fffee',\\\n",
    "                      4 '#90ff70',\\\n",
    "                      5 '#ffee00',\\\n",
    "                      6 '#ff7000',\\\n",
    "                      7 '#ee0000',\\\n",
    "                      8 '#7f0000')\n",
    "set view map\n",
    "set dgrid3d\n",
    "set pm3d interpolate 0,0\n",
    "set xlabel \"{/=30 X@^L_1}\"\n",
    "set ylabel \"{/=30 X@^R_1}\"\n",
    "set title \"Free Energy Surface Intramolecular DB1\"\n",
    "##Descomentar la siguiente línea de código en caso de que la escala comience con valor de 1 y ejecutar nuevamente\n",
    "#set cbrange[8:10]\n",
    "splot \"XL1_XR1.dat\" with pm3d"
   ]
  },
  {
   "cell_type": "code",
   "execution_count": null,
   "metadata": {
    "collapsed": false
   },
   "outputs": [],
   "source": [
    "# This loads the magics for gnuplot\n",
    "%reload_ext gnuplot_kernel\n",
    "#Configurando la salida para GNUplot\n",
    "%gnuplot inline pngcairo  transparent enhanced font \"arial,20\" fontscale 1.0 size 1280,960; set zeroaxis;;"
   ]
  },
  {
   "cell_type": "code",
   "execution_count": null,
   "metadata": {
    "collapsed": false,
    "scrolled": false
   },
   "outputs": [],
   "source": [
    "%%gnuplot\n",
    "set output \"db1_xl2_vs_xr2.png\"\n",
    "\n",
    "set palette model RGB\n",
    "set palette defined ( 0 '#000090',\\\n",
    "                      1 '#000fff',\\\n",
    "                      2 '#0090ff',\\\n",
    "                      3 '#0fffee',\\\n",
    "                      4 '#90ff70',\\\n",
    "                      5 '#ffee00',\\\n",
    "                      6 '#ff7000',\\\n",
    "                      7 '#ee0000',\\\n",
    "                      8 '#7f0000')\n",
    "set view map\n",
    "set dgrid3d\n",
    "set pm3d interpolate 0,0\n",
    "set xlabel \"{/=30 X@^L_2}\"\n",
    "set ylabel \"{/=30 X@^R_2}\"\n",
    "set title \"Free Energy Surface Intramolecular DB1\"\n",
    "##Descomentar la siguiente línea de código en caso de que la escala comience con valor de 1 y ejecutar nuevamente\n",
    "#set cbrange[8:10]\n",
    "splot \"XL2_XR2.dat\" with pm3d\n",
    "\n"
   ]
  },
  {
   "cell_type": "code",
   "execution_count": null,
   "metadata": {
    "collapsed": false
   },
   "outputs": [],
   "source": [
    "# This loads the magics for gnuplot\n",
    "%reload_ext gnuplot_kernel\n",
    "#Configurando la salida para GNUplot\n",
    "%gnuplot inline pngcairo  transparent enhanced font \"arial,20\" fontscale 1.0 size 1280,960; set zeroaxis;;"
   ]
  },
  {
   "cell_type": "code",
   "execution_count": null,
   "metadata": {
    "collapsed": false,
    "scrolled": false
   },
   "outputs": [],
   "source": [
    "%%gnuplot\n",
    "set output \"db1_xm3_vs_xl1.png\"\n",
    "\n",
    "set palette model RGB\n",
    "set palette defined ( 0 '#000090',\\\n",
    "                      1 '#000fff',\\\n",
    "                      2 '#0090ff',\\\n",
    "                      3 '#0fffee',\\\n",
    "                      4 '#90ff70',\\\n",
    "                      5 '#ffee00',\\\n",
    "                      6 '#ff7000',\\\n",
    "                      7 '#ee0000',\\\n",
    "                      8 '#7f0000')\n",
    "set view map\n",
    "set dgrid3d\n",
    "set pm3d interpolate 0,0\n",
    "set xlabel \"{/=30 X@^M_3}\"\n",
    "set ylabel \"{/=30 X@^L_1}\"\n",
    "set title \"Free Energy Surface Intramolecular DB1\"\n",
    "##Descomentar la siguiente línea de código en caso de que la escala comience con valor de 1 y ejecutar nuevamente\n",
    "#set cbrange[8:10]\n",
    "splot \"XM3_XL1.dat\" with pm3d\n",
    "\n"
   ]
  },
  {
   "cell_type": "code",
   "execution_count": null,
   "metadata": {
    "collapsed": false
   },
   "outputs": [],
   "source": [
    "# This loads the magics for gnuplot\n",
    "%reload_ext gnuplot_kernel\n",
    "#Configurando la salida para GNUplot\n",
    "%gnuplot inline pngcairo  transparent enhanced font \"arial,20\" fontscale 1.0 size 1280,960; set zeroaxis;;"
   ]
  },
  {
   "cell_type": "code",
   "execution_count": null,
   "metadata": {
    "collapsed": false,
    "scrolled": true
   },
   "outputs": [],
   "source": [
    "%%gnuplot\n",
    "set output \"db1_xm3_vs_xl2.png\"\n",
    "\n",
    "set palette model RGB\n",
    "set palette defined ( 0 '#000090',\\\n",
    "                      1 '#000fff',\\\n",
    "                      2 '#0090ff',\\\n",
    "                      3 '#0fffee',\\\n",
    "                      4 '#90ff70',\\\n",
    "                      5 '#ffee00',\\\n",
    "                      6 '#ff7000',\\\n",
    "                      7 '#ee0000',\\\n",
    "                      8 '#7f0000')\n",
    "set view map\n",
    "set dgrid3d\n",
    "set pm3d interpolate 0,0\n",
    "set xlabel \"{/=30 X@^M_3}\"\n",
    "set ylabel \"{/=30 X@^L_2}\"\n",
    "set title \"Free Energy Surface Intramolecular DB1\"\n",
    "##Descomentar la siguiente línea de código en caso de que la escala comience con valor de 1 y ejecutar nuevamente\n",
    "#set cbrange[8:10]\n",
    "splot \"XM3_XL2.dat\" with pm3d\n",
    "\n"
   ]
  },
  {
   "cell_type": "code",
   "execution_count": null,
   "metadata": {
    "collapsed": false
   },
   "outputs": [],
   "source": [
    "# This loads the magics for gnuplot\n",
    "%reload_ext gnuplot_kernel\n",
    "#Configurando la salida para GNUplot\n",
    "%gnuplot inline pngcairo  transparent enhanced font \"arial,20\" fontscale 1.0 size 1280,960; set zeroaxis;;"
   ]
  },
  {
   "cell_type": "code",
   "execution_count": null,
   "metadata": {
    "collapsed": false,
    "scrolled": true
   },
   "outputs": [],
   "source": [
    "%%gnuplot\n",
    "set output \"db1_xm3_vs_xr2.png\"\n",
    "\n",
    "set palette model RGB\n",
    "set palette defined ( 0 '#000090',\\\n",
    "                      1 '#000fff',\\\n",
    "                      2 '#0090ff',\\\n",
    "                      3 '#0fffee',\\\n",
    "                      4 '#90ff70',\\\n",
    "                      5 '#ffee00',\\\n",
    "                      6 '#ff7000',\\\n",
    "                      7 '#ee0000',\\\n",
    "                      8 '#7f0000')\n",
    "set view map\n",
    "set dgrid3d\n",
    "set pm3d interpolate 0,0\n",
    "set xlabel \"{/=30 X@^M_3}\"\n",
    "set ylabel \"{/=30 X@^R_2}\"\n",
    "set title \"Free Energy Surface Intramolecular DB1\"\n",
    "##Descomentar la siguiente línea de código en caso de que la escala comience con valor de 1 y ejecutar nuevamente\n",
    "#set cbrange[8:10]\n",
    "splot \"XM3_XR2.dat\" with pm3d\n",
    "\n"
   ]
  },
  {
   "cell_type": "code",
   "execution_count": null,
   "metadata": {
    "collapsed": false
   },
   "outputs": [],
   "source": [
    "# This loads the magics for gnuplot\n",
    "%reload_ext gnuplot_kernel\n",
    "#Configurando la salida para GNUplot\n",
    "%gnuplot inline pngcairo  transparent enhanced font \"arial,20\" fontscale 1.0 size 1280,960; set zeroaxis;;"
   ]
  },
  {
   "cell_type": "code",
   "execution_count": null,
   "metadata": {
    "collapsed": false,
    "scrolled": true
   },
   "outputs": [],
   "source": [
    "%%gnuplot\n",
    "set output \"db1_xm3_vs_xr1.png\"\n",
    "\n",
    "set palette model RGB\n",
    "set palette defined ( 0 '#000090',\\\n",
    "                      1 '#000fff',\\\n",
    "                      2 '#0090ff',\\\n",
    "                      3 '#0fffee',\\\n",
    "                      4 '#90ff70',\\\n",
    "                      5 '#ffee00',\\\n",
    "                      6 '#ff7000',\\\n",
    "                      7 '#ee0000',\\\n",
    "                      8 '#7f0000')\n",
    "set view map\n",
    "set dgrid3d\n",
    "set pm3d interpolate 0,0\n",
    "set xlabel \"{/=30 X@^M_3}\"\n",
    "set ylabel \"{/=30 X@^R_1}\"\n",
    "set title \"Free Energy Surface Intramolecular DB1\"\n",
    "##Descomentar la siguiente línea de código en caso de que la escala comience con valor de 1 y ejecutar nuevamente\n",
    "#set cbrange[8:10]\n",
    "splot \"XM3_XR1.dat\" with pm3d\n",
    "\n"
   ]
  },
  {
   "cell_type": "markdown",
   "metadata": {},
   "source": [
    "## Calculando la Free Energy intramolecular para el Puente 2"
   ]
  },
  {
   "cell_type": "code",
   "execution_count": null,
   "metadata": {
    "collapsed": false
   },
   "outputs": [],
   "source": [
    "if (revisa2>0):\n",
    "    #Cargando valores del DB2_X1L\n",
    "    data_db2_x1l=np.loadtxt('dihed_db2_x1l.dat',comments=['#', '@'])\n",
    "    #Cargando valores del DB1_X1R\n",
    "    data_db2_x1r=np.loadtxt('dihed_db2_x1r.dat',comments=['#', '@'])\n",
    "    \n",
    "    #Obteniendo los valores máximo y mínimo del DB2_X1L\n",
    "    min_db2_x1l=np.amin(data_db2_x1l[:,1])\n",
    "    max_db2_x1l=np.amax(data_db2_x1l[:,1])\n",
    "    print ('Minimo DB2_X1L=>',min_db2_x1l)\n",
    "    print ('Máximo DB2_X1L=>',max_db2_x1l)\n",
    "    \n",
    "    #Obteniendo los valores máximo y mínimo del DB2_X1R\n",
    "    min_db2_x1r=np.amin(data_db2_x1r[:,1])\n",
    "    max_db2_x1r=np.amax(data_db2_x1r[:,1])\n",
    "    print ('Minimo DB2_X1R=>',min_db2_x1r)\n",
    "    print ('Máximo DB2_X1R=>',max_db2_x1r)\n",
    "    \n",
    "    #Creando los archivos de entrada para el script\n",
    "    np.savetxt('db2_x1l.dat',data_db2_x1l[:,1], fmt='%1.14f')\n",
    "    np.savetxt('db2_x1r.dat',data_db2_x1r[:,1], fmt='%1.14f')\n",
    "    !paste db2_x1l.dat db2_x1r.dat  > DB2_x1_lr.dat\n",
    "    \n",
    "    #Ejecutando el script de FES\n",
    "    !python generateFES.py DB2_x1_lr.dat $min_db2_x1l $max_db2_x1l $min_db2_x1r $max_db2_x1r  200 200 $temperatura DB2_XL1_XR1.dat\n",
    "    \n",
    "    ###################################################################\n",
    "    #Cargando valores del DB2_X2l\n",
    "    data_db2_x2l=np.loadtxt('dihed_db2_x2l.dat',comments=['#', '@'])\n",
    "    #Cargando valores del DB2_X1R\n",
    "    data_db2_x2r=np.loadtxt('dihed_db2_x2r.dat',comments=['#', '@'])\n",
    "    \n",
    "    #Obteniendo los valores máximo y mínimo del DB2_X1L\n",
    "    min_db2_x2l=np.amin(data_db2_x2l[:,1])\n",
    "    max_db2_x2l=np.amax(data_db2_x2l[:,1])\n",
    "    print ('Minimo DB2_X2L=>',min_db2_x2l)\n",
    "    print ('Máximo DB2_X2L=>',max_db2_x2l)\n",
    "    \n",
    "    #Obteniendo los valores máximo y mínimo del DB2_X1R\n",
    "    min_db2_x2r=np.amin(data_db2_x2r[:,1])\n",
    "    max_db2_x2r=np.amax(data_db2_x2r[:,1])\n",
    "    print ('Minimo DB2_X2R=>',min_db2_x2r)\n",
    "    print ('Máximo DB2_X2R=>',max_db2_x2r)\n",
    "    \n",
    "    #Creando los archivos de entrada para el script\n",
    "    np.savetxt('db2_x2l.dat',data_db2_x2l[:,1], fmt='%1.14f')\n",
    "    np.savetxt('db2_x2r.dat',data_db2_x2r[:,1], fmt='%1.14f')\n",
    "    !paste db2_x2l.dat db2_x2r.dat  > DB2_x2_lr.dat\n",
    "    \n",
    "    #Ejecutando el script de FES\n",
    "    !python generateFES.py DB2_x2_lr.dat $min_db2_x2l $max_db2_x2l $min_db2_x2r $max_db2_x2r  200 200 $temperatura DB2_XL2_XR2.dat\n",
    "    \n",
    "    ######################################################################################\n",
    "    #Cargando valores del DB2_X3M\n",
    "    data_db2_x3m=np.loadtxt('dihed_db2_x3m.dat',comments=['#', '@'])\n",
    "    \n",
    "    #Obteniendo los valores máximo y mínimo del DB2_X3M\n",
    "    min_db2_x3m=np.amin(data_db2_x3m[:,1])\n",
    "    max_db2_x3m=np.amax(data_db2_x3m[:,1])\n",
    "    \n",
    "    print ('Minimo DB2_X3M=>',min_db2_x3m)\n",
    "    print ('Máximo DB2_X3M=>',max_db2_x3m)\n",
    "    \n",
    "    print ('Minimo DB2_X1R=>',min_db2_x1r)\n",
    "    print ('Máximo DB2_X1R=>',max_db2_x1r)\n",
    "    \n",
    "    print ('Minimo DB2_X2R=>',min_db2_x2r)\n",
    "    print ('Máximo DB2_X2R=>',max_db2_x2r)\n",
    "    \n",
    "    print ('Minimo DB2_X1L=>',min_db2_x1l)\n",
    "    print ('Máximo DB2_X1L=>',max_db2_x1l)\n",
    "    \n",
    "    print ('Minimo DB2_X2L=>',min_db2_x2l)\n",
    "    print ('Máximo DB2_X2L=>',max_db2_x2l)\n",
    "    \n",
    "    #Creando los archivos de entrada para el script\n",
    "    np.savetxt('db2_x3m.dat',data_db2_x3m[:,1], fmt='%1.14f')\n",
    "    !paste db2_x3m.dat db2_x1r.dat  > DB2_x3m_x1r.dat\n",
    "    !paste db2_x3m.dat db2_x2r.dat  > DB2_x3m_x2r.dat\n",
    "    !paste db2_x3m.dat db2_x1l.dat  > DB2_x3m_x1l.dat\n",
    "    !paste db2_x3m.dat db2_x2l.dat  > DB2_x3m_x2l.dat\n",
    "    \n",
    "    #Ejecutando el script de FES\n",
    "    !python generateFES.py DB2_x3m_x1r.dat $min_db2_x3m $max_db2_x3m $min_db2_x1r $max_db2_x1r  200 200 $temperatura DB2_XM3_XR1.dat\n",
    "    !python generateFES.py DB2_x3m_x2r.dat $min_db2_x3m $max_db2_x3m $min_db2_x2r $max_db2_x2r  200 200 $temperatura DB2_XM3_XR2.dat\n",
    "    !python generateFES.py DB2_x3m_x1l.dat $min_db2_x3m $max_db2_x3m $min_db2_x1l $max_db2_x1l  200 200 $temperatura DB2_XM3_XL1.dat\n",
    "    !python generateFES.py DB2_x3m_x2l.dat $min_db2_x3m $max_db2_x3m $min_db2_x2l $max_db2_x2l  200 200 $temperatura DB2_XM3_XL2.dat"
   ]
  },
  {
   "cell_type": "markdown",
   "metadata": {},
   "source": [
    "### Ploteando con GNUPLOT el Puente 2"
   ]
  },
  {
   "cell_type": "code",
   "execution_count": null,
   "metadata": {
    "collapsed": false
   },
   "outputs": [],
   "source": [
    "# This loads the magics for gnuplot\n",
    "%reload_ext gnuplot_kernel\n",
    "#Configurando la salida para GNUplot\n",
    "%gnuplot inline pngcairo  transparent enhanced font \"arial,20\" fontscale 1.0 size 1280,960; set zeroaxis;;"
   ]
  },
  {
   "cell_type": "code",
   "execution_count": null,
   "metadata": {
    "collapsed": false,
    "scrolled": true
   },
   "outputs": [],
   "source": [
    "%%gnuplot\n",
    "set output \"db2_xl1_vs_xr1.png\"\n",
    "\n",
    "set palette model RGB\n",
    "set palette defined ( 0 '#000090',\\\n",
    "                      1 '#000fff',\\\n",
    "                      2 '#0090ff',\\\n",
    "                      3 '#0fffee',\\\n",
    "                      4 '#90ff70',\\\n",
    "                      5 '#ffee00',\\\n",
    "                      6 '#ff7000',\\\n",
    "                      7 '#ee0000',\\\n",
    "                      8 '#7f0000')\n",
    "set view map\n",
    "set dgrid3d\n",
    "set pm3d interpolate 0,0\n",
    "set xlabel \"{/=30 X@^L_1}\"\n",
    "set ylabel \"{/=30 X@^R_1}\"\n",
    "set title \"Free Energy Surface Intramolecular DB2\"\n",
    "##Descomentar la siguiente línea de código en caso de que la escala comience con valor de 1 y ejecutar nuevamente\n",
    "#set cbrange[8:10]\n",
    "splot \"DB2_XL1_XR1.dat\" with pm3d\n",
    "\n"
   ]
  },
  {
   "cell_type": "code",
   "execution_count": null,
   "metadata": {
    "collapsed": false
   },
   "outputs": [],
   "source": [
    "# This loads the magics for gnuplot\n",
    "%reload_ext gnuplot_kernel\n",
    "#Configurando la salida para GNUplot\n",
    "%gnuplot inline pngcairo  transparent enhanced font \"arial,20\" fontscale 1.0 size 1280,960; set zeroaxis;;"
   ]
  },
  {
   "cell_type": "code",
   "execution_count": null,
   "metadata": {
    "collapsed": false,
    "scrolled": true
   },
   "outputs": [],
   "source": [
    "%%gnuplot\n",
    "set output \"db2_xl2_vs_xr2.png\"\n",
    "\n",
    "set palette model RGB\n",
    "set palette defined ( 0 '#000090',\\\n",
    "                      1 '#000fff',\\\n",
    "                      2 '#0090ff',\\\n",
    "                      3 '#0fffee',\\\n",
    "                      4 '#90ff70',\\\n",
    "                      5 '#ffee00',\\\n",
    "                      6 '#ff7000',\\\n",
    "                      7 '#ee0000',\\\n",
    "                      8 '#7f0000')\n",
    "set view map\n",
    "set dgrid3d\n",
    "set pm3d interpolate 0,0\n",
    "set xlabel \"{/=30 X@^L_2}\"\n",
    "set ylabel \"{/=30 X@^R_2}\"\n",
    "set title \"Free Energy Surface Intramolecular DB2\"\n",
    "##Descomentar la siguiente línea de código en caso de que la escala comience con valor de 1 y ejecutar nuevamente\n",
    "#set cbrange[8:10]\n",
    "splot \"DB2_XL2_XR2.dat\" with pm3d\n",
    "\n"
   ]
  },
  {
   "cell_type": "code",
   "execution_count": null,
   "metadata": {
    "collapsed": false
   },
   "outputs": [],
   "source": [
    "# This loads the magics for gnuplot\n",
    "%reload_ext gnuplot_kernel\n",
    "#Configurando la salida para GNUplot\n",
    "%gnuplot inline pngcairo  transparent enhanced font \"arial,20\" fontscale 1.0 size 1280,960; set zeroaxis;;"
   ]
  },
  {
   "cell_type": "code",
   "execution_count": null,
   "metadata": {
    "collapsed": false,
    "scrolled": true
   },
   "outputs": [],
   "source": [
    "%%gnuplot\n",
    "set output \"db2_xm3_vs_xl1.png\"\n",
    "\n",
    "set palette model RGB\n",
    "set palette defined ( 0 '#000090',\\\n",
    "                      1 '#000fff',\\\n",
    "                      2 '#0090ff',\\\n",
    "                      3 '#0fffee',\\\n",
    "                      4 '#90ff70',\\\n",
    "                      5 '#ffee00',\\\n",
    "                      6 '#ff7000',\\\n",
    "                      7 '#ee0000',\\\n",
    "                      8 '#7f0000')\n",
    "set view map\n",
    "set dgrid3d\n",
    "set pm3d interpolate 0,0\n",
    "set xlabel \"{/=30 X@^M_3}\"\n",
    "set ylabel \"{/=30 X@^L_1}\"\n",
    "set title \"Free Energy Surface Intramolecular DB2\"\n",
    "##Descomentar la siguiente línea de código en caso de que la escala comience con valor de 1 y ejecutar nuevamente\n",
    "#set cbrange[8:10]\n",
    "splot \"DB2_XM3_XL1.dat\" with pm3d\n",
    "\n"
   ]
  },
  {
   "cell_type": "code",
   "execution_count": null,
   "metadata": {
    "collapsed": false
   },
   "outputs": [],
   "source": [
    "# This loads the magics for gnuplot\n",
    "%reload_ext gnuplot_kernel\n",
    "#Configurando la salida para GNUplot\n",
    "%gnuplot inline pngcairo  transparent enhanced font \"arial,20\" fontscale 1.0 size 1280,960; set zeroaxis;;"
   ]
  },
  {
   "cell_type": "code",
   "execution_count": null,
   "metadata": {
    "collapsed": false,
    "scrolled": true
   },
   "outputs": [],
   "source": [
    "%%gnuplot\n",
    "set output \"db2_xm3_vs_xl2.png\"\n",
    "\n",
    "set palette model RGB\n",
    "set palette defined ( 0 '#000090',\\\n",
    "                      1 '#000fff',\\\n",
    "                      2 '#0090ff',\\\n",
    "                      3 '#0fffee',\\\n",
    "                      4 '#90ff70',\\\n",
    "                      5 '#ffee00',\\\n",
    "                      6 '#ff7000',\\\n",
    "                      7 '#ee0000',\\\n",
    "                      8 '#7f0000')\n",
    "set view map\n",
    "set dgrid3d\n",
    "set pm3d interpolate 0,0\n",
    "set xlabel \"{/=30 X@^M_3}\"\n",
    "set ylabel \"{/=30 X@^L_2}\"\n",
    "set title \"Free Energy Surface Intramolecular DB2\"\n",
    "##Descomentar la siguiente línea de código en caso de que la escala comience con valor de 1 y ejecutar nuevamente\n",
    "#set cbrange[8:10]\n",
    "splot \"DB2_XM3_XL2.dat\" with pm3d\n",
    "\n"
   ]
  },
  {
   "cell_type": "code",
   "execution_count": null,
   "metadata": {
    "collapsed": false
   },
   "outputs": [],
   "source": [
    "# This loads the magics for gnuplot\n",
    "%reload_ext gnuplot_kernel\n",
    "#Configurando la salida para GNUplot\n",
    "%gnuplot inline pngcairo  transparent enhanced font \"arial,20\" fontscale 1.0 size 1280,960; set zeroaxis;;"
   ]
  },
  {
   "cell_type": "code",
   "execution_count": null,
   "metadata": {
    "collapsed": false,
    "scrolled": true
   },
   "outputs": [],
   "source": [
    "%%gnuplot\n",
    "set output \"db2_xm3_vs_xr2.png\"\n",
    "\n",
    "set palette model RGB\n",
    "set palette defined ( 0 '#000090',\\\n",
    "                      1 '#000fff',\\\n",
    "                      2 '#0090ff',\\\n",
    "                      3 '#0fffee',\\\n",
    "                      4 '#90ff70',\\\n",
    "                      5 '#ffee00',\\\n",
    "                      6 '#ff7000',\\\n",
    "                      7 '#ee0000',\\\n",
    "                      8 '#7f0000')\n",
    "set view map\n",
    "set dgrid3d\n",
    "set pm3d interpolate 0,0\n",
    "set xlabel \"{/=30 X@^M_3}\"\n",
    "set ylabel \"{/=30 X@^R_2}\"\n",
    "set title \"Free Energy Surface Intramolecular DB2\"\n",
    "##Descomentar la siguiente línea de código en caso de que la escala comience con valor de 1 y ejecutar nuevamente\n",
    "#set cbrange[8:10]\n",
    "splot \"DB2_XM3_XR2.dat\" with pm3d\n",
    "\n"
   ]
  },
  {
   "cell_type": "code",
   "execution_count": null,
   "metadata": {
    "collapsed": false
   },
   "outputs": [],
   "source": [
    "# This loads the magics for gnuplot\n",
    "%reload_ext gnuplot_kernel\n",
    "#Configurando la salida para GNUplot\n",
    "%gnuplot inline pngcairo  transparent enhanced font \"arial,20\" fontscale 1.0 size 1280,960; set zeroaxis;;"
   ]
  },
  {
   "cell_type": "code",
   "execution_count": null,
   "metadata": {
    "collapsed": false,
    "scrolled": true
   },
   "outputs": [],
   "source": [
    "%%gnuplot\n",
    "set output \"db2_xm3_vs_xr1.png\"\n",
    "\n",
    "set palette model RGB\n",
    "set palette defined ( 0 '#000090',\\\n",
    "                      1 '#000fff',\\\n",
    "                      2 '#0090ff',\\\n",
    "                      3 '#0fffee',\\\n",
    "                      4 '#90ff70',\\\n",
    "                      5 '#ffee00',\\\n",
    "                      6 '#ff7000',\\\n",
    "                      7 '#ee0000',\\\n",
    "                      8 '#7f0000')\n",
    "set view map\n",
    "set dgrid3d\n",
    "set pm3d interpolate 0,0\n",
    "set xlabel \"{/=30 X@^M_3}\"\n",
    "set ylabel \"{/=30 X@^R_1}\"\n",
    "set title \"Free Energy Surface Intramolecular DB2\"\n",
    "##Descomentar la siguiente línea de código en caso de que la escala comience con valor de 1 y ejecutar nuevamente\n",
    "#set cbrange[8:10]\n",
    "splot \"DB2_XM3_XR1.dat\" with pm3d\n",
    "\n"
   ]
  },
  {
   "cell_type": "markdown",
   "metadata": {},
   "source": [
    "\n",
    "---\n",
    "\n",
    "# Free Energy Intermolecular\n",
    "\n",
    "---"
   ]
  },
  {
   "cell_type": "code",
   "execution_count": null,
   "metadata": {
    "collapsed": false
   },
   "outputs": [],
   "source": [
    "############################################\n",
    "#### Intermolecular DB1- DB2 - X1L\n",
    "############################################\n",
    "#Creando el DB1-DB2-X1L\n",
    "!paste db1_x1l.dat db2_x1l.dat  > DB1_DB2_x1l.dat\n",
    "print('Minimo DB1-X1L=>',min_x1l)\n",
    "print('Máximo DB1-X1L=>',max_x1l)\n",
    "print('Minimo DB2-X1L=>',min_db2_x1l)\n",
    "print('Máximo DB2-X1L=>',max_db2_x1l)   \n",
    "#Ejecutando el script de FES\n",
    "!python generateFES.py DB1_DB2_x1l.dat $min_x1l $max_x1l $min_db2_x1l $max_db2_x1l  200 200 $temperatura DB1_DB2_X1L.dat\n",
    "\n",
    "    \n",
    "#########################################\n",
    "#### Intermolecular DB1- DB2 - X2L\n",
    "############################################\n",
    "\n",
    "#Creando el DB1-DB2-X2L\n",
    "!paste db1_x2l.dat db2_x2l.dat  > DB1_DB2_x2l.dat\n",
    "print('Minimo DB1-X2L=>',min_x2l)\n",
    "print('Máximo DB1-X2L=>',max_x2l)\n",
    "print('Minimo DB2-X2L=>',min_db2_x2l)\n",
    "print('Máximo DB2-X2L=>',max_db2_x2l)\n",
    "\n",
    "#Ejecutando el script de FES\n",
    "!python generateFES.py DB1_DB2_x2l.dat $min_x2l $max_x2l $min_db2_x2l $max_db2_x2l  200 200 $temperatura DB1_DB2_X2L.dat\n",
    "\n",
    "############################################\n",
    "#### Intermolecular DB1- DB2 - X3M\n",
    "############################################\n",
    "\n",
    "#Creando el DB1-DB2-X3M\n",
    "!paste db1_x3m.dat db2_x3m.dat  > DB1_DB2_x3m.dat\n",
    "print('Minimo DB1-X3M=>',min_x3m)\n",
    "print('Máximo DB1-X3M=>',max_x3m)\n",
    "print('Minimo DB2-X3M=>',min_db2_x3m)\n",
    "print('Máximo DB2-X3M=>',max_db2_x3m)\n",
    "\n",
    "#Ejecutando el script de FES\n",
    "!python generateFES.py DB1_DB2_x3m.dat $min_x3m $max_x3m $min_db2_x3m $max_db2_x3m  200 200 $temperatura DB1_DB2_X3M.dat\n",
    "\n",
    "\n",
    "############################################\n",
    "#### Intermolecular DB1- DB2 - X2R\n",
    "############################################\n",
    "\n",
    "#Creando el DB1-DB2-X2R\n",
    "!paste db1_x2r.dat db2_x2r.dat  > DB1_DB2_x2r.dat\n",
    "print('Minimo DB1-X2R=>',min_x2r)\n",
    "print('Máximo DB1-X2R=>',max_x2r)\n",
    "print('Minimo DB2-X2R=>',min_db2_x2r)\n",
    "print('Máximo DB2-X2R=>',max_db2_x2r)\n",
    "\n",
    "#Ejecutando el script de FES\n",
    "!python generateFES.py DB1_DB2_x2r.dat $min_x2r $max_x2r $min_db2_x2r $max_db2_x2r  200 200 $temperatura DB1_DB2_X2R.dat\n",
    "\n",
    "\n",
    "############################################\n",
    "#### Intermolecular DB1- DB2 - X1R\n",
    "############################################\n",
    "\n",
    "#Creando el DB1-DB2-X1R\n",
    "!paste db1_x1r.dat db2_x1r.dat  > DB1_DB2_x1r.dat\n",
    "print('Minimo DB1-X1R=>',min_x1r)\n",
    "print('Máximo DB1-X1R=>',max_x1r)\n",
    "print('Minimo DB2-X1R=>',min_db2_x1r)\n",
    "print('Máximo DB2-X1R=>',max_db2_x1r)\n",
    "\n",
    "#Ejecutando el script de FES\n",
    "!python generateFES.py DB1_DB2_x1r.dat $min_x1r $max_x1r $min_db2_x1r $max_db2_x1r  200 200 $temperatura DB1_DB2_X1R.dat\n"
   ]
  },
  {
   "cell_type": "markdown",
   "metadata": {},
   "source": [
    "## Ploteando la Free Energy Intermolecular puentes DB1 y DB2"
   ]
  },
  {
   "cell_type": "code",
   "execution_count": null,
   "metadata": {
    "collapsed": false
   },
   "outputs": [],
   "source": [
    "# This loads the magics for gnuplot\n",
    "%reload_ext gnuplot_kernel\n",
    "#Configurando la salida para GNUplot\n",
    "%gnuplot inline pngcairo  transparent enhanced font \"arial,20\" fontscale 1.0 size 1280,960; set zeroaxis;;"
   ]
  },
  {
   "cell_type": "code",
   "execution_count": null,
   "metadata": {
    "collapsed": false,
    "scrolled": true
   },
   "outputs": [],
   "source": [
    "%%gnuplot\n",
    "set output \"DB1_DB2_X1L.png\"\n",
    "\n",
    "set palette model RGB\n",
    "set palette defined ( 0 '#000090',\\\n",
    "                      1 '#000fff',\\\n",
    "                      2 '#0090ff',\\\n",
    "                      3 '#0fffee',\\\n",
    "                      4 '#90ff70',\\\n",
    "                      5 '#ffee00',\\\n",
    "                      6 '#ff7000',\\\n",
    "                      7 '#ee0000',\\\n",
    "                      8 '#7f0000')\n",
    "set view map\n",
    "set dgrid3d\n",
    "set pm3d interpolate 0,0\n",
    "set xlabel \"{/=30 DB1 X@^L_1}\"\n",
    "set ylabel \"{/=30 DB2 X@^L_1}\"\n",
    "set title \"Free Energy Surface Intermolecular DB1-DB2\"\n",
    "##Descomentar la siguiente línea de código en caso de que la escala comience con valor de 1 y ejecutar nuevamente\n",
    "#set cbrange[8:10]\n",
    "splot \"DB1_DB2_X1L.dat\" with pm3d\n",
    "\n"
   ]
  },
  {
   "cell_type": "code",
   "execution_count": null,
   "metadata": {
    "collapsed": false
   },
   "outputs": [],
   "source": [
    "# This loads the magics for gnuplot\n",
    "%reload_ext gnuplot_kernel\n",
    "#Configurando la salida para GNUplot\n",
    "%gnuplot inline pngcairo  transparent enhanced font \"arial,20\" fontscale 1.0 size 1280,960; set zeroaxis;;"
   ]
  },
  {
   "cell_type": "code",
   "execution_count": null,
   "metadata": {
    "collapsed": false,
    "scrolled": true
   },
   "outputs": [],
   "source": [
    "%%gnuplot\n",
    "set output \"DB1_DB2_X2L.png\"\n",
    "\n",
    "set palette model RGB\n",
    "set palette defined ( 0 '#000090',\\\n",
    "                      1 '#000fff',\\\n",
    "                      2 '#0090ff',\\\n",
    "                      3 '#0fffee',\\\n",
    "                      4 '#90ff70',\\\n",
    "                      5 '#ffee00',\\\n",
    "                      6 '#ff7000',\\\n",
    "                      7 '#ee0000',\\\n",
    "                      8 '#7f0000')\n",
    "set view map\n",
    "set dgrid3d\n",
    "set pm3d interpolate 0,0\n",
    "set xlabel \"{/=30 DB1 X@^L_2}\"\n",
    "set ylabel \"{/=30 DB2 X@^L_2}\"\n",
    "set title \"Free Energy Surface Intermolecular DB1-DB2\"\n",
    "##Descomentar la siguiente línea de código en caso de que la escala comience con valor de 1 y ejecutar nuevamente\n",
    "#set cbrange[8:10]\n",
    "\n",
    "splot \"DB1_DB2_X2L.dat\" with pm3d\n",
    "\n"
   ]
  },
  {
   "cell_type": "code",
   "execution_count": null,
   "metadata": {
    "collapsed": false
   },
   "outputs": [],
   "source": [
    "# This loads the magics for gnuplot\n",
    "%reload_ext gnuplot_kernel\n",
    "#Configurando la salida para GNUplot\n",
    "%gnuplot inline pngcairo  transparent enhanced font \"arial,20\" fontscale 1.0 size 1280,960; set zeroaxis;;"
   ]
  },
  {
   "cell_type": "code",
   "execution_count": null,
   "metadata": {
    "collapsed": false,
    "scrolled": true
   },
   "outputs": [],
   "source": [
    "%%gnuplot\n",
    "set output \"DB1_DB2_X3M.png\"\n",
    "\n",
    "set palette model RGB\n",
    "set palette defined ( 0 '#000090',\\\n",
    "                      1 '#000fff',\\\n",
    "                      2 '#0090ff',\\\n",
    "                      3 '#0fffee',\\\n",
    "                      4 '#90ff70',\\\n",
    "                      5 '#ffee00',\\\n",
    "                      6 '#ff7000',\\\n",
    "                      7 '#ee0000',\\\n",
    "                      8 '#7f0000')\n",
    "set view map\n",
    "set dgrid3d\n",
    "set pm3d interpolate 0,0\n",
    "set xlabel \"{/=30 DB1 X@^M_3}\"\n",
    "set ylabel \"{/=30 DB2 X@^M_3}\"\n",
    "set title \"Free Energy Surface Intermolecular DB1-DB2\"\n",
    "##Descomentar la siguiente línea de código en caso de que la escala comience con valor de 1 y ejecutar nuevamente\n",
    "#set cbrange[8:10]\n",
    "\n",
    "splot \"DB1_DB2_X3M.dat\" with pm3d\n",
    "\n"
   ]
  },
  {
   "cell_type": "code",
   "execution_count": null,
   "metadata": {
    "collapsed": false
   },
   "outputs": [],
   "source": [
    "# This loads the magics for gnuplot\n",
    "%reload_ext gnuplot_kernel\n",
    "#Configurando la salida para GNUplot\n",
    "%gnuplot inline pngcairo  transparent enhanced font \"arial,20\" fontscale 1.0 size 1280,960; set zeroaxis;;"
   ]
  },
  {
   "cell_type": "code",
   "execution_count": null,
   "metadata": {
    "collapsed": false,
    "scrolled": true
   },
   "outputs": [],
   "source": [
    "%%gnuplot\n",
    "set output \"DB1_DB2_X2R.png\"\n",
    "\n",
    "set palette model RGB\n",
    "set palette defined ( 0 '#000090',\\\n",
    "                      1 '#000fff',\\\n",
    "                      2 '#0090ff',\\\n",
    "                      3 '#0fffee',\\\n",
    "                      4 '#90ff70',\\\n",
    "                      5 '#ffee00',\\\n",
    "                      6 '#ff7000',\\\n",
    "                      7 '#ee0000',\\\n",
    "                      8 '#7f0000')\n",
    "set view map\n",
    "set dgrid3d\n",
    "set xyplane 0\n",
    "set pm3d interpolate 0,0\n",
    "set xlabel \"{/=30 DB1 X@^R_2}\"\n",
    "set ylabel \"{/=30 DB2 X@^R_2}\"\n",
    "set title \"Free Energy Surface Intermolecular DB1-DB2\"\n",
    "##Descomentar la siguiente línea de código en caso de que la escala comience con valor de 1 y ejecutar nuevamente\n",
    "#set cbrange[8:10]\n",
    "splot \"DB1_DB2_X2R.dat\" with pm3d\n",
    "\n"
   ]
  },
  {
   "cell_type": "code",
   "execution_count": null,
   "metadata": {
    "collapsed": false
   },
   "outputs": [],
   "source": [
    "# This loads the magics for gnuplot\n",
    "%reload_ext gnuplot_kernel\n",
    "#Configurando la salida para GNUplot\n",
    "%gnuplot inline pngcairo  transparent enhanced font \"arial,20\" fontscale 1.0 size 1280,960; set zeroaxis;;"
   ]
  },
  {
   "cell_type": "code",
   "execution_count": null,
   "metadata": {
    "collapsed": false,
    "scrolled": true
   },
   "outputs": [],
   "source": [
    "%%gnuplot\n",
    "set output \"DB1_DB2_X1R.png\"\n",
    "\n",
    "set palette model RGB\n",
    "set palette defined ( 0 '#000090',\\\n",
    "                      1 '#000fff',\\\n",
    "                      2 '#0090ff',\\\n",
    "                      3 '#0fffee',\\\n",
    "                      4 '#90ff70',\\\n",
    "                      5 '#ffee00',\\\n",
    "                      6 '#ff7000',\\\n",
    "                      7 '#ee0000',\\\n",
    "                      8 '#7f0000')\n",
    "set view map\n",
    "set dgrid3d\n",
    "set pm3d interpolate 0,0\n",
    "set xlabel \"{/=30 DB1 X@^R_1}\"\n",
    "set ylabel \"{/=30 DB2 X@^R_1}\"\n",
    "set title \"Free Energy Surface Intermolecular DB1-DB2\"\n",
    "##Descomentar la siguiente línea de código en caso de que la escala comience con valor de 1 y ejecutar nuevamente\n",
    "set cbrange[8:10]\n",
    "\n",
    "splot \"DB1_DB2_X1R.dat\" with pm3d\n",
    "\n"
   ]
  },
  {
   "cell_type": "markdown",
   "metadata": {},
   "source": [
    "## Calcular los histogramas de los diedros"
   ]
  },
  {
   "cell_type": "code",
   "execution_count": null,
   "metadata": {
    "collapsed": false
   },
   "outputs": [],
   "source": [
    "hist_escale_y=[]\n",
    "fig = pl.figure(figsize=(25,8))\n",
    "fig.subplots_adjust(hspace=.4, wspace=.3)\n",
    "#subplots_adjust(left=None, bottom=None, right=None, top=None, wspace=None, hspace=None)\n",
    "#left  = 0.125  # the left side of the subplots of the figure\n",
    "#right = 0.9    # the right side of the subplots of the figure\n",
    "#bottom = 0.1   # the bottom of the subplots of the figure\n",
    "#top = 0.9      # the top of the subplots of the figure\n",
    "#wspace = 0.2   # the amount of width reserved for blank space between subplots\n",
    "#hspace = 0.2   # the amount of height reserved for white space between subplots\n",
    "#Formateando los valores de los ejes\n",
    "\n",
    "\n",
    "#Engrosando marcos\n",
    "ax = fig.add_subplot(2,5,1)\n",
    "for axis in ['top','bottom','left','right']:\n",
    "    ax.spines[axis].set_linewidth(3)\n",
    "    ax.yaxis.set_major_formatter(FormatStrFormatter('%.2f'))\n",
    "ax = fig.add_subplot(2,5,2)\n",
    "for axis in ['top','bottom','left','right']:\n",
    "    ax.spines[axis].set_linewidth(3)\n",
    "    ax.yaxis.set_major_formatter(FormatStrFormatter('%.2f'))\n",
    "ax = fig.add_subplot(2,5,3)\n",
    "for axis in ['top','bottom','left','right']:\n",
    "    ax.spines[axis].set_linewidth(3)\n",
    "    ax.yaxis.set_major_formatter(FormatStrFormatter('%.2f'))\n",
    "ax = fig.add_subplot(2,5,4)\n",
    "for axis in ['top','bottom','left','right']:\n",
    "    ax.spines[axis].set_linewidth(3)\n",
    "    ax.yaxis.set_major_formatter(FormatStrFormatter('%.2f'))\n",
    "ax = fig.add_subplot(2,5,5)\n",
    "for axis in ['top','bottom','left','right']:\n",
    "    ax.spines[axis].set_linewidth(3)\n",
    "    ax.yaxis.set_major_formatter(FormatStrFormatter('%.2f'))\n",
    "\n",
    "#Cargando valores del DB1\n",
    "data_h_db1_x1l=np.loadtxt('db1_x1l.dat',comments=['#', '@'])\n",
    "data_h_db1_x2l=np.loadtxt('db1_x2l.dat',comments=['#', '@'])\n",
    "data_h_db1_x3m=np.loadtxt('db1_x3m.dat',comments=['#', '@'])\n",
    "data_h_db1_x2r=np.loadtxt('db1_x2r.dat',comments=['#', '@'])\n",
    "data_h_db1_x1r=np.loadtxt('db1_x1r.dat',comments=['#', '@'])\n",
    "\n",
    "#Cargando valores del DB2\n",
    "data_h_db2_x1l=np.loadtxt('db2_x1l.dat',comments=['#', '@'])\n",
    "data_h_db2_x2l=np.loadtxt('db2_x2l.dat',comments=['#', '@'])\n",
    "data_h_db2_x3m=np.loadtxt('db2_x3m.dat',comments=['#', '@'])\n",
    "data_h_db2_x2r=np.loadtxt('db2_x2r.dat',comments=['#', '@'])\n",
    "data_h_db2_x1r=np.loadtxt('db2_x1r.dat',comments=['#', '@'])\n",
    "\n",
    "\n",
    "\n",
    "sub1 = fig.add_subplot(251) # instead of plt.subplot(2, 2, 1)\n",
    "sub1.set_xlabel('Angle (Degree) ', fontsize=10)\n",
    "sub1.set_ylabel('P(Angle)')\n",
    "n1, bins1, rectangles1 = sub1.hist(data_h_db1_x1l,100, normed=True, color='black',histtype='step', linewidth=3)\n",
    "n2, bins2, rectangles2 = sub1.hist(data_h_db2_x1l,100, normed=True, color='red',histtype='step', linewidth=3)\n",
    "x1,x2,y1,y2=sub1.axis()\n",
    "hist_escale_y.append(y2)\n",
    "\n",
    "sub2 = fig.add_subplot(252) # instead of plt.subplot(2, 2, 1)\n",
    "sub2.set_xlabel('Angle (Degree) ', fontsize=10)\n",
    "sub2.set_ylabel('P(Angle)')\n",
    "n1, bins1, rectangles1 = sub2.hist(data_h_db1_x2l,100, normed=True, color='black',histtype='step', linewidth=3)\n",
    "n2, bins2, rectangles2 = sub2.hist(data_h_db2_x2l,100, normed=True, color='red',histtype='step', linewidth=3)\n",
    "x1,x2,y1,y2=sub2.axis()\n",
    "hist_escale_y.append(y2)\n",
    "\n",
    "sub3 = fig.add_subplot(253) # instead of plt.subplot(2, 2, 1)\n",
    "sub3.set_xlabel('Angle (Degree) ', fontsize=10)\n",
    "sub3.set_ylabel('P(Angle)')\n",
    "n1, bins1, rectangles1 = sub3.hist(data_h_db1_x3m,100, normed=True, color='black',histtype='step', linewidth=3)\n",
    "n2, bins2, rectangles2 = sub3.hist(data_h_db2_x3m,100, normed=True, color='red',histtype='step', linewidth=3)\n",
    "x1,x2,y1,y2=sub3.axis()\n",
    "hist_escale_y.append(y2)\n",
    "\n",
    "sub4 = fig.add_subplot(254) # instead of plt.subplot(2, 2, 1)\n",
    "sub4.set_xlabel('Angle (Degree) ', fontsize=10)\n",
    "sub4.set_ylabel('P(Angle)')\n",
    "n1, bins1, rectangles1 = sub4.hist(data_h_db1_x2r,100, normed=True, color='black',histtype='step', linewidth=3)\n",
    "n2, bins2, rectangles2 = sub4.hist(data_h_db2_x2r,100, normed=True, color='red',histtype='step', linewidth=3)\n",
    "x1,x2,y1,y2=sub4.axis()\n",
    "hist_escale_y.append(y2)\n",
    "\n",
    "sub5 = fig.add_subplot(255) # instead of plt.subplot(2, 2, 1)\n",
    "sub5.set_xlabel('Angle (Degree) ', fontsize=10)\n",
    "sub5.set_ylabel('P(Angle)')\n",
    "n1, bins1, rectangles1 = sub5.hist(data_h_db1_x1r,100, normed=True, color='black',histtype='step', linewidth=3)\n",
    "n2, bins2, rectangles2 = sub5.hist(data_h_db2_x1r,100, normed=True, color='red',histtype='step', linewidth=3)\n",
    "x1,x2,y1,y2=sub5.axis()\n",
    "hist_escale_y.append(y2)\n",
    "\n",
    "#escale_y\n",
    "hist_escale_y.sort(reverse=True)\n",
    "hist_escale_y\n",
    "##Cambiando los ejes de las y\n",
    "sub1.axis((x1,x2,y1,hist_escale_y[0]))\n",
    "sub2.axis((x1,x2,y1,hist_escale_y[0]))\n",
    "sub3.axis((x1,x2,y1,hist_escale_y[0]))\n",
    "sub4.axis((x1,x2,y1,hist_escale_y[0]))\n",
    "sub5.axis((x1,x2,y1,hist_escale_y[0]))\n"
   ]
  },
  {
   "cell_type": "markdown",
   "metadata": {
    "collapsed": false
   },
   "source": [
    "\n",
    "---\n",
    "\n",
    "# Ángulos de Enlace de los puentes Intermolecular\n",
    "\n",
    "---"
   ]
  },
  {
   "cell_type": "code",
   "execution_count": null,
   "metadata": {
    "collapsed": false
   },
   "outputs": [],
   "source": [
    "### Creando el directorio para el análisis de las distancias de enlace de los puentes INTERMOLECULAR\n",
    "\n",
    "ruta_bonds_puentes = nuevaruta+'/bonds_puentes'\n",
    "print ( ruta_bonds_puentes )\n",
    "if not os.path.exists(ruta_bonds_puentes): \n",
    "    os.makedirs(ruta_bonds_puentes)\n",
    "    print ('Se ha creado la ruta ===>',ruta_bonds_puentes)\n",
    "else:\n",
    "        print (\"La ruta \"+ruta_bonds_puentes+\" existe..!!!\")\n",
    "\n",
    "print ( 'Nos vamos a ....', ruta_bonds_puentes)\n",
    "os.chdir( ruta_bonds_puentes )"
   ]
  },
  {
   "cell_type": "markdown",
   "metadata": {
    "collapsed": true
   },
   "source": [
    "## Copiando el archivo de generación de FES"
   ]
  },
  {
   "cell_type": "code",
   "execution_count": null,
   "metadata": {
    "collapsed": false
   },
   "outputs": [],
   "source": [
    "print ('\\nCopiando el archivo generateFES.py a '+ruta_bonds_puentes)\n",
    "source_file=ruta_scripts+'/free_energy/generateFES.py'\n",
    "dest_file=ruta_bonds_puentes+'/generateFES.py'\n",
    "shutil.copy(source_file,dest_file)\n",
    "#Cambiando permisos de ejecución\n",
    "!chmod +x generateFES.py"
   ]
  },
  {
   "cell_type": "markdown",
   "metadata": {},
   "source": [
    "## Generando los archivos Tcl para el cálculo de los ángulos."
   ]
  },
  {
   "cell_type": "code",
   "execution_count": null,
   "metadata": {
    "collapsed": false
   },
   "outputs": [],
   "source": [
    "psf=ruta_old_traj+'/'+psf_file\n",
    "dcd=ruta_old_traj+'/'+dcd_file\n",
    "print ('Puente DB1=>',DB1_N)\n",
    "print ('Puente DB1=>',DB1_i)\n",
    "print ('Puente DB2=>',DB2_N)\n",
    "print ('Puente DB2=>',DB2_i)\n",
    "\n",
    "puente=2\n",
    "if (int(puente)==2):\n",
    "  \n",
    "    #Creando script para Bond X1 Left\n",
    "    b1 = open('bond_DB1_left.tcl', 'w')\n",
    "    print(b1)\n",
    "    b1.write('set psfFile '+ psf+' \\n')\n",
    "    b1.write('set dcdFile '+ dcd+' \\n')\n",
    "    b1.write('\\nmol load psf $psfFile dcd $dcdFile\\n')\n",
    "    b1.write('set outfile ' +'[open ' +'bond_db1_left.dat'+' w]\\n')\n",
    "    b1.write('set nf [molinfo top get numframes]\\n')\n",
    "    b1.write(' \\n')\n",
    "    b1.write('set selatoms1 [[atomselect top \"protein and chain A and '+DB1_i[1]+'\"] get index]\\n')\n",
    "    b1.write('set selatoms2 [[atomselect top \"protein and chain A and '+DB1_i[2]+'\"] get index]\\n')\n",
    "    b1.write('set selatoms3 [[atomselect top \"protein and chain A and '+DB1_i[3]+'\"] get index]\\n')\n",
    "    b1.write('set angle [list [lindex $selatoms1] [lindex $selatoms2] [lindex $selatoms3] ]\\n')\n",
    "    b1.write('for {set i 0} {$i < $nf} {incr i 1} {\\n')\n",
    "    b1.write('    set x [measure angle $angle frame $i]\\n')\n",
    "    b1.write('    set time [expr {$i +1}]\\n')\n",
    "    b1.write('    puts $outfile \"$time     $x\"\\n')\n",
    "    b1.write('}\\n')\n",
    "    b1.close()\n",
    "    \n",
    "    #Creando script para Bond X1 Right\n",
    "    b2 = open('bond_DB1_right.tcl', 'w')\n",
    "    print(b2)\n",
    "    b2.write('set psfFile '+ psf+' \\n')\n",
    "    b2.write('set dcdFile '+ dcd+' \\n')\n",
    "    b2.write('\\nmol load psf $psfFile dcd $dcdFile\\n')\n",
    "    b2.write('set outfile ' +'[open ' +'bond_db1_right.dat'+' w]\\n')\n",
    "    b2.write('set nf [molinfo top get numframes]\\n')\n",
    "    b2.write(' \\n')\n",
    "    b2.write('set selatoms1 [[atomselect top \"protein and chain A and '+DB1_i[4]+'\"] get index]\\n')\n",
    "    b2.write('set selatoms2 [[atomselect top \"protein and chain A and '+DB1_i[5]+'\"] get index]\\n')\n",
    "    b2.write('set selatoms3 [[atomselect top \"protein and chain A and '+DB1_i[6]+'\"] get index]\\n')\n",
    "    b2.write('set angle [list [lindex $selatoms1] [lindex $selatoms2] [lindex $selatoms3] ]\\n')\n",
    "    b2.write('for {set i 0} {$i < $nf} {incr i 1} {\\n')\n",
    "    b2.write('    set x [measure angle $angle frame $i]\\n')\n",
    "    b2.write('    set time [expr {$i +1}]\\n')\n",
    "    b2.write('    puts $outfile \"$time     $x\"\\n')\n",
    "    b2.write('}\\n')\n",
    "    b2.close()\n",
    "    \n",
    "    #Creando script para Bond DB2 X1 Left\n",
    "    b3 = open('bond_DB2_left.tcl', 'w')\n",
    "    print(b3)\n",
    "    b3.write('set psfFile '+ psf+' \\n')\n",
    "    b3.write('set dcdFile '+ dcd+' \\n')\n",
    "    b3.write('\\nmol load psf $psfFile dcd $dcdFile\\n')\n",
    "    b3.write('set outfile ' +'[open ' +'bond_db2_left.dat'+' w]\\n')\n",
    "    b3.write('set nf [molinfo top get numframes]\\n')\n",
    "    b3.write(' \\n')\n",
    "    b3.write('set selatoms1 [[atomselect top \"protein and chain A and '+DB2_i[1]+'\"] get index]\\n')\n",
    "    b3.write('set selatoms2 [[atomselect top \"protein and chain A and '+DB2_i[2]+'\"] get index]\\n')\n",
    "    b3.write('set selatoms3 [[atomselect top \"protein and chain A and '+DB2_i[3]+'\"] get index]\\n')\n",
    "    b3.write('set angle [list [lindex $selatoms1] [lindex $selatoms2] [lindex $selatoms3] ]\\n')\n",
    "    b3.write('for {set i 0} {$i < $nf} {incr i 1} {\\n')\n",
    "    b3.write('    set x [measure angle $angle frame $i]\\n')\n",
    "    b3.write('    set time [expr {$i +1}]\\n')\n",
    "    b3.write('    puts $outfile \"$time     $x\"\\n')\n",
    "    b3.write('}\\n')\n",
    "    b3.close()\n",
    "    \n",
    "    #Creando script para Bond DB2 X1 Right\n",
    "    b4 = open('bond_DB2_right.tcl', 'w')\n",
    "    print(b4)\n",
    "    b4.write('set psfFile '+ psf+' \\n')\n",
    "    b4.write('set dcdFile '+ dcd+' \\n')\n",
    "    b4.write('\\nmol load psf $psfFile dcd $dcdFile\\n')\n",
    "    b4.write('set outfile ' +'[open ' +'bond_db2_right.dat'+' w]\\n')\n",
    "    b4.write('set nf [molinfo top get numframes]\\n')\n",
    "    b4.write(' \\n')\n",
    "    b4.write('set selatoms1 [[atomselect top \"protein and chain A and '+DB2_i[4]+'\"] get index]\\n')\n",
    "    b4.write('set selatoms2 [[atomselect top \"protein and chain A and '+DB2_i[5]+'\"] get index]\\n')\n",
    "    b4.write('set selatoms3 [[atomselect top \"protein and chain A and '+DB2_i[6]+'\"] get index]\\n')\n",
    "    b4.write('set angle [list [lindex $selatoms1] [lindex $selatoms2] [lindex $selatoms3] ]\\n')\n",
    "    b4.write('for {set i 0} {$i < $nf} {incr i 1} {\\n')\n",
    "    b4.write('    set x [measure angle $angle frame $i]\\n')\n",
    "    b4.write('    set time [expr {$i +1}]\\n')\n",
    "    b4.write('    puts $outfile \"$time     $x\"\\n')\n",
    "    b4.write('}\\n')\n",
    "    b4.close()"
   ]
  },
  {
   "cell_type": "markdown",
   "metadata": {},
   "source": [
    "## Ejecutando los archivos tcl generados con VMD"
   ]
  },
  {
   "cell_type": "code",
   "execution_count": null,
   "metadata": {
    "collapsed": false
   },
   "outputs": [],
   "source": [
    "#Calculando con VMD bond DB1 Left\n",
    "!vmd -dispdev text < bond_DB1_left.tcl\n",
    "\n",
    "#Calculando con VMD bond DB1 Right\n",
    "!vmd -dispdev text < bond_DB1_right.tcl\n",
    "\n",
    "#Calculando con VMD bond DB2 Left\n",
    "!vmd -dispdev text < bond_DB2_left.tcl\n",
    "\n",
    "#Calculando con VMD bond DB2 Right\n",
    "!vmd -dispdev text < bond_DB2_right.tcl"
   ]
  },
  {
   "cell_type": "markdown",
   "metadata": {},
   "source": [
    "## Calculando la Free Energy de los Bonds de los puentes"
   ]
  },
  {
   "cell_type": "code",
   "execution_count": null,
   "metadata": {
    "collapsed": false
   },
   "outputs": [],
   "source": [
    "#Cargando valores del DB1\n",
    "data_bond_db1_left=np.loadtxt('bond_db1_left.dat',comments=['#', '@'])\n",
    "#Cargando valores del DB1_X1R\n",
    "data_bond_db1_right=np.loadtxt('bond_db1_right.dat',comments=['#', '@'])\n",
    "\n",
    "#Obteniendo los valores máximo y mínimo del DB1 Left\n",
    "min_bond1_left=np.amin(data_bond_db1_left[:,1])\n",
    "max_bond1_left=np.amax(data_bond_db1_left[:,1])\n",
    "print ('Minimo DB1_Left=>',min_bond1_left)\n",
    "print ('Máximo DB1_Left=>',max_bond1_left)\n",
    "#Obteniendo los valores máximo y mínimo del DB1 Right\n",
    "min_bond1_right=np.amin(data_bond_db1_right[:,1])\n",
    "max_bond1_right=np.amax(data_bond_db1_right[:,1])\n",
    "print ('Minimo DB1_Right=>',min_bond1_right)\n",
    "print ('Máximo DB1_Right=>',max_bond1_right)\n",
    "\n",
    "#Creando los archivos de entrada para el script\n",
    "np.savetxt('bond_DB1_left.dat',data_bond_db1_left[:,1], fmt='%1.14f')\n",
    "np.savetxt('bond_DB1_right.dat',data_bond_db1_right[:,1], fmt='%1.14f')\n",
    "!paste bond_DB1_left.dat bond_DB1_right.dat  > angles_DB1.dat\n",
    "\n",
    "#Ejecutando el script de FES\n",
    "!python generateFES.py angles_DB1.dat $min_bond1_left $max_bond1_left $min_bond1_right $max_bond1_right  200 200 $temperatura Angles_DB1.dat\n",
    "\n",
    "###################################################################3\n",
    "\n",
    "#Cargando valores del DB2\n",
    "data_bond_db2_left=np.loadtxt('bond_db2_left.dat',comments=['#', '@'])\n",
    "#Cargando valores del DB1_X1R\n",
    "data_bond_db2_right=np.loadtxt('bond_db2_right.dat',comments=['#', '@'])\n",
    "\n",
    "#Obteniendo los valores máximo y mínimo del DB2 Left\n",
    "min_bond2_left=np.amin(data_bond_db2_left[:,1])\n",
    "max_bond2_left=np.amax(data_bond_db2_left[:,1])\n",
    "print ('Minimo DB2_Left=>',min_bond2_left)\n",
    "print ('Máximo DB2_Left=>',max_bond2_left)\n",
    "#Obteniendo los valores máximo y mínimo del DB2 Right\n",
    "min_bond2_right=np.amin(data_bond_db2_right[:,1])\n",
    "max_bond2_right=np.amax(data_bond_db2_right[:,1])\n",
    "print ('Minimo DB2_Right=>',min_bond2_right)\n",
    "print ('Máximo DB2_Right=>',max_bond2_right)\n",
    "\n",
    "#Creando los archivos de entrada para el script\n",
    "np.savetxt('bond_DB2_left.dat',data_bond_db2_left[:,1], fmt='%1.14f')\n",
    "np.savetxt('bond_DB2_right.dat',data_bond_db2_right[:,1], fmt='%1.14f')\n",
    "!paste bond_DB2_left.dat bond_DB2_right.dat  > angles_DB2.dat\n",
    "\n",
    "#Ejecutando el script de FES\n",
    "!python generateFES.py angles_DB2.dat $min_bond2_left $max_bond2_left $min_bond2_right $max_bond2_right  200 200 $temperatura Angles_DB2.dat\n"
   ]
  },
  {
   "cell_type": "markdown",
   "metadata": {},
   "source": [
    "## Ploteando la Free Energy de los ángulos con gnuplot"
   ]
  },
  {
   "cell_type": "code",
   "execution_count": null,
   "metadata": {
    "collapsed": true
   },
   "outputs": [],
   "source": [
    "# This loads the magics for gnuplot\n",
    "%reload_ext gnuplot_kernel\n",
    "#Configurando la salida para GNUplot\n",
    "%gnuplot inline pngcairo  transparent enhanced font \"arial,20\" fontscale 1.0 size 1280,960; set zeroaxis;;"
   ]
  },
  {
   "cell_type": "code",
   "execution_count": null,
   "metadata": {
    "collapsed": false,
    "scrolled": false
   },
   "outputs": [],
   "source": [
    "%%gnuplot\n",
    "set output \"db1_a1_a2.png\"\n",
    "\n",
    "set palette model RGB\n",
    "set palette defined ( 0 '#000090',\\\n",
    "                      1 '#000fff',\\\n",
    "                      2 '#0090ff',\\\n",
    "                      3 '#0fffee',\\\n",
    "                      4 '#90ff70',\\\n",
    "                      5 '#ffee00',\\\n",
    "                      6 '#ff7000',\\\n",
    "                      7 '#ee0000',\\\n",
    "                      8 '#7f0000')\n",
    "set view map\n",
    "set dgrid3d\n",
    "set pm3d interpolate 0,0\n",
    "set xlabel \"{/=30 C@^1_{/Symbol a}}-{/=30 C@^1_{/Symbol b}}-{/=30 S@^1_{/Symbol g}}\"\n",
    "set ylabel \"{/=30 C@^2_{/Symbol a}}-{/=30 C@^2_{/Symbol b}}-{/=30 S@^2_{/Symbol g}}\"\n",
    "set title \"Free Energy Surface Angles DB1\"\n",
    "##Descomentar la siguiente línea de código en caso de que la escala comience con valor de 1 y ejecutar nuevamente\n",
    "#set cbrange[8:10]\n",
    "\n",
    "splot \"Angles_DB1.dat\" with pm3d\n",
    "\n"
   ]
  },
  {
   "cell_type": "code",
   "execution_count": null,
   "metadata": {
    "collapsed": true
   },
   "outputs": [],
   "source": [
    "# This loads the magics for gnuplot\n",
    "%reload_ext gnuplot_kernel\n",
    "#Configurando la salida para GNUplot\n",
    "%gnuplot inline pngcairo  transparent enhanced font \"arial,20\" fontscale 1.0 size 1280,960; set zeroaxis;;"
   ]
  },
  {
   "cell_type": "code",
   "execution_count": null,
   "metadata": {
    "collapsed": false,
    "scrolled": false
   },
   "outputs": [],
   "source": [
    "%%gnuplot\n",
    "set output \"db2_a1_a2.png\"\n",
    "\n",
    "set palette model RGB\n",
    "set palette defined ( 0 '#000090',\\\n",
    "                      1 '#000fff',\\\n",
    "                      2 '#0090ff',\\\n",
    "                      3 '#0fffee',\\\n",
    "                      4 '#90ff70',\\\n",
    "                      5 '#ffee00',\\\n",
    "                      6 '#ff7000',\\\n",
    "                      7 '#ee0000',\\\n",
    "                      8 '#7f0000')\n",
    "set view map\n",
    "set dgrid3d\n",
    "set pm3d interpolate 0,0\n",
    "set xlabel \"{/=30 C@^1_{/Symbol a}}-{/=30 C@^1_{/Symbol b}}-{/=30 S@^1_{/Symbol g}}\"\n",
    "set ylabel \"{/=30 C@^2_{/Symbol a}}-{/=30 C@^2_{/Symbol b}}-{/=30 S@^2_{/Symbol g}}\"\n",
    "set title \"Free Energy Surface Angles DB2\"\n",
    "##Descomentar la siguiente línea de código en caso de que la escala comience con valor de 1 y ejecutar nuevamente\n",
    "#set cbrange[8:10]\n",
    "\n",
    "splot \"Angles_DB2.dat\" with pm3d\n",
    "\n"
   ]
  },
  {
   "cell_type": "markdown",
   "metadata": {},
   "source": [
    "## Calculando los histogramas de los bonds "
   ]
  },
  {
   "cell_type": "code",
   "execution_count": null,
   "metadata": {
    "collapsed": false
   },
   "outputs": [],
   "source": [
    "bonds_escale_y=[]\n",
    "#Cargando valores del DB1\n",
    "data_h_db1_left=np.loadtxt('bond_DB1_left.dat',comments=['#', '@'])\n",
    "data_h_db1_right=np.loadtxt('bond_DB1_right.dat',comments=['#', '@'])\n",
    "#Cargando valores del DB2\n",
    "data_h_db2_left=np.loadtxt('bond_DB2_left.dat',comments=['#', '@'])\n",
    "data_h_db2_right=np.loadtxt('bond_DB2_right.dat',comments=['#', '@'])\n",
    "\n",
    "\n",
    "\n",
    "\n",
    "#Engrosar marco    \n",
    "figb=pl.figure(figsize=(12, 10), dpi=100, linewidth=3.0)\n",
    "figb.subplots_adjust(hspace=.5)\n",
    "ax = figb.add_subplot(221)\n",
    "for axis in ['top','bottom','left','right']:\n",
    "    ax.spines[axis].set_linewidth(4)\n",
    "ax = figb.add_subplot(222)\n",
    "for axis in ['top','bottom','left','right']:\n",
    "    ax.spines[axis].set_linewidth(4)\n",
    "ax = figb.add_subplot(223)\n",
    "for axis in ['top','bottom','left','right']:\n",
    "    ax.spines[axis].set_linewidth(4)\n",
    "ax = figb.add_subplot(224)\n",
    "for axis in ['top','bottom','left','right']:\n",
    "    ax.spines[axis].set_linewidth(4)\n",
    "\n",
    "#Formateando los valores de los ejes\n",
    "\n",
    "ax.yaxis.set_major_formatter(FormatStrFormatter('%.2f'))\n",
    "\n",
    "bond1 = figb.add_subplot(221) # instead of plt.subplot(2, 2, 1)\n",
    "#bond1.set_title('CA1 - CB1 - SY1') \n",
    "bond1.set_xlabel('Angle (Degree)')\n",
    "bond1.set_ylabel('P (Angle)')\n",
    "n, bins, rectangles = bond1.hist(data_h_db1_left,100, normed=True, color='black',histtype='step',linewidth=3)\n",
    "x1,x2,y1,y2=bond1.axis()\n",
    "bonds_escale_y.append(y2)\n",
    "\n",
    "\n",
    "\n",
    "bond2 = figb.add_subplot(222) # instead of plt.subplot(2, 2, 1)\n",
    "#bond2.set_title('CA2 - CB2 - SY2') \n",
    "bond2.set_xlabel('Angle (Degree)')\n",
    "bond2.set_ylabel('P (Angle)')\n",
    "n, bins, rectangles = bond2.hist(data_h_db1_right,100, normed=True, color='black',histtype='step', linewidth=3)\n",
    "x1,x2,y1,y2=bond2.axis()\n",
    "bonds_escale_y.append(y2)\n",
    "\n",
    "\n",
    "bond3 = figb.add_subplot(223) # instead of plt.subplot(2, 2, 1)\n",
    "#bond3.set_title('CA1 - CB1 - SY1') \n",
    "bond3.set_xlabel('Angle (Degree)')\n",
    "bond3.set_ylabel('P (Angle)')\n",
    "n, bins, rectangles = bond3.hist(data_h_db2_left,100, normed=True, color='red',histtype='step', linewidth=3)\n",
    "x1,x2,y1,y2=bond3.axis()\n",
    "bonds_escale_y.append(y2)\n",
    "\n",
    "\n",
    "bond4 = figb.add_subplot(224) # instead of plt.subplot(2, 2, 1)\n",
    "#bond4.set_title('CA2 - CB2 - SY2') \n",
    "bond4.set_xlabel('Angle (Degree)')\n",
    "bond4.set_ylabel('P (Angle)')\n",
    "n, bins, rectangles = bond4.hist(data_h_db2_right,100, normed=True, color='red',histtype='step', linewidth=3)\n",
    "x1,x2,y1,y2=bond4.axis()\n",
    "bonds_escale_y.append(y2)\n",
    "\n",
    "#escale_y\n",
    "bonds_escale_y.sort(reverse=True)\n",
    "bonds_escale_y\n",
    "##Cambiando los ejes de las y\n",
    "sub1.axis((x1,x2,y1,bonds_escale_y[0]))\n",
    "sub2.axis((x1,x2,y1,bonds_escale_y[0]))\n",
    "sub3.axis((x1,x2,y1,bonds_escale_y[0]))\n",
    "sub4.axis((x1,x2,y1,bonds_escale_y[0]))\n"
   ]
  },
  {
   "cell_type": "markdown",
   "metadata": {
    "collapsed": true
   },
   "source": [
    "\n",
    "---\n",
    "\n",
    "# Generación de clusters\n",
    "\n",
    "---"
   ]
  },
  {
   "cell_type": "markdown",
   "metadata": {},
   "source": [
    "## Crear la nueva ruta para calcular los clusters"
   ]
  },
  {
   "cell_type": "code",
   "execution_count": null,
   "metadata": {
    "collapsed": false
   },
   "outputs": [],
   "source": [
    "### Creando el directorio para el análisis de los puentes\n",
    "\n",
    "ruta_clusters = nuevaruta+'/clusters'\n",
    "print ( ruta_clusters )\n",
    "if not os.path.exists(ruta_clusters): \n",
    "    os.makedirs(ruta_clusters)\n",
    "    print ('Se ha creado la ruta ===>',ruta_clusters)\n",
    "else:\n",
    "        print (\"La ruta \"+ruta_clusters+\" existe..!!!\")\n",
    "\n",
    "print ( 'Nos vamos a ....', ruta_clusters)\n",
    "os.chdir( ruta_clusters )\n",
    "    "
   ]
  },
  {
   "cell_type": "markdown",
   "metadata": {},
   "source": [
    "## Calculando los clusters con la opción (1= Protein)"
   ]
  },
  {
   "cell_type": "code",
   "execution_count": null,
   "metadata": {
    "collapsed": false
   },
   "outputs": [],
   "source": [
    " !echo 1 1 | g_cluster -f ../output.xtc -s ../ionized.pdb  -method gromos -cl out.pdb -g out.log -cutoff 0.2"
   ]
  },
  {
   "cell_type": "markdown",
   "metadata": {},
   "source": [
    "## Cargando los clusters para su visualización en VMD\n",
    "Se cargan los clusters en VMD y se guardan sus coordenadas para cada uno de ellos haciendo uso de VMD"
   ]
  },
  {
   "cell_type": "code",
   "execution_count": null,
   "metadata": {
    "collapsed": false
   },
   "outputs": [],
   "source": [
    "!vmd out.pdb"
   ]
  },
  {
   "cell_type": "markdown",
   "metadata": {
    "collapsed": true
   },
   "source": [
    "\n",
    "---\n",
    "\n",
    "# colorByRMSF\n",
    "\n",
    "---"
   ]
  },
  {
   "cell_type": "markdown",
   "metadata": {},
   "source": [
    "## Creando la carpeta para salida de datos"
   ]
  },
  {
   "cell_type": "code",
   "execution_count": null,
   "metadata": {
    "collapsed": false
   },
   "outputs": [],
   "source": [
    "### Creando el directorio para el análisis de colorByRMSF\n",
    "\n",
    "ruta_colorByRMSF = nuevaruta+'/colorByRMSF'\n",
    "print ( ruta_colorByRMSF )\n",
    "if not os.path.exists(ruta_colorByRMSF): \n",
    "    os.makedirs(ruta_colorByRMSF)\n",
    "    print ('Se ha creado la ruta ===>',ruta_colorByRMSF)\n",
    "else:\n",
    "        print (\"La ruta \"+ruta_colorByRMSF+\" existe..!!!\")\n",
    "\n",
    "print ( 'Nos vamos a ....', ruta_colorByRMSF)\n",
    "os.chdir( ruta_colorByRMSF )\n",
    "    "
   ]
  },
  {
   "cell_type": "markdown",
   "metadata": {},
   "source": [
    "## Copiando el archivo a la carpeta de datos"
   ]
  },
  {
   "cell_type": "code",
   "execution_count": null,
   "metadata": {
    "collapsed": false
   },
   "outputs": [],
   "source": [
    "print ('\\nCopiando el archivo colorByRMSF.vmd  a '+ruta_colorByRMSF)\n",
    "source_file=ruta_scripts+'/colorByRMSF/colorByRMSF.vmd'\n",
    "dest_file=ruta_colorByRMSF+'/colorByRMSF.vmd'\n",
    "shutil.copy(source_file,dest_file)\n"
   ]
  },
  {
   "cell_type": "markdown",
   "metadata": {},
   "source": [
    "## Calculando el RMSF para el análisis de la proteína con la opción (1) Protein"
   ]
  },
  {
   "cell_type": "code",
   "execution_count": null,
   "metadata": {
    "collapsed": false
   },
   "outputs": [],
   "source": [
    "\n",
    "print ('Ejecutando el análisis de rmsf...')\n",
    "!echo 1 | g_rmsf -f ../output.xtc -s ../ionized.pdb -oq bfac.pdb -o rmsf.xvg"
   ]
  },
  {
   "cell_type": "code",
   "execution_count": null,
   "metadata": {
    "collapsed": false
   },
   "outputs": [],
   "source": [
    "#Calculando el mínimo y máximo del rmsf\n",
    "#Cargando valores del RMSF\n",
    "data_rmsf_gcolor=np.loadtxt('rmsf.xvg',comments=['#', '@'])\n",
    "\n",
    "#Obteniendo los valores máximo y mínimo del RMSF\n",
    "min_rmsf_gcolor=np.amin(data_rmsf_gcolor[:,1])\n",
    "max_rmsf_gcolor=np.amax(data_rmsf_gcolor[:,1])\n",
    "print ('Minimo_RMSF=>',min_rmsf_gcolor)\n",
    "print ('Máximo_RMSF=>',max_rmsf_gcolor)"
   ]
  },
  {
   "cell_type": "markdown",
   "metadata": {},
   "source": [
    "## Cargar el scrit colorByRMSF.vmd en VMD\n",
    "\n",
    "---\n",
    "\n",
    "Arrancar VMD, dirigirse al menú **Extensions -> Tk Console**, copiar y ejecutar la siguiente secuencia de comandos en el cual pondremos los valores del Mínimo_RMSF y Máximo_RMSF calculado en la celda anterior:\n",
    "```tcl\n",
    "source colorByRMSF.vmd\n",
    "colorByRMSF top rmsf.xvg Mínimo_RMSF Máximo_RMSF\n",
    "```\n",
    "\n",
    "---\n",
    "\n",
    "**ESCALA DE COLOR**\n",
    "\n",
    "Dirigirse al menú **Extensions -> Visualization -> Color Scale Bar** y cambiar los valores de los siguientes campos:\n",
    "1. Colocar el valor calculado de **Mínimo_RMSF** en el campo **Mínimum scale value**\n",
    "2. Colocar el valor calculado de **Máximo_RMSF** en el campo **Maximum scale value**.\n",
    "3. Seleccionar el color **Black** en el campo **Color of labels**.\n",
    "\n",
    "---\n",
    "\n",
    "**CAMBIAR EL COLOR DE FONDO**\n",
    "\n",
    "Dirigirse al menú **Graphics -> Colors **, y realizar las siguientes selecciones:\n",
    "1. **Categories** seleccionar **Display**\n",
    "2. **Names ** seleccionar **Background**\n",
    "3. **Colors** seleccionar **8 White**\n",
    "\n",
    "---\n",
    "\n",
    "**REMOVER EJE X,Y,Z**\n",
    "\n",
    "Dirigirse al menú **Display -> Axes -> Off**, con el cual eliminaremos el eje de X,Y,Z."
   ]
  },
  {
   "cell_type": "code",
   "execution_count": null,
   "metadata": {
    "collapsed": false
   },
   "outputs": [],
   "source": [
    "# Cargando el pdb con VMD\n",
    "!vmd ../ionized.pdb"
   ]
  },
  {
   "cell_type": "markdown",
   "metadata": {},
   "source": [
    "\n",
    "---\n",
    "\n",
    "# Graficando B-Factors con Chimera\n",
    "\n",
    "---\n"
   ]
  },
  {
   "cell_type": "code",
   "execution_count": null,
   "metadata": {
    "collapsed": false
   },
   "outputs": [],
   "source": [
    "print ( 'Nos vamos a ....', ruta_colorByRMSF )\n",
    "os.chdir( ruta_colorByRMSF )"
   ]
  },
  {
   "cell_type": "markdown",
   "metadata": {},
   "source": [
    "## Adecuando archivo bfac.pdb para obtener la columna de B-factors"
   ]
  },
  {
   "cell_type": "code",
   "execution_count": null,
   "metadata": {
    "collapsed": false
   },
   "outputs": [],
   "source": [
    "#Inicializando vector\n",
    "rmsf=[]\n",
    "rmsf_x=[]\n",
    "rmsf_y=[]\n",
    "try:\n",
    "    file_Bfactor = open( 'bfac.pdb' )\n",
    "    new_bfactor=open('bfac_new.pdb','w')\n",
    "    \n",
    "except IOError:\n",
    "     print ('No se pudo abrir el archivo o no existe·..')\n",
    "\n",
    "i=0\n",
    "for linea in file_Bfactor.readlines():\n",
    "    fila = linea.strip()\n",
    "    sl = fila.split()\n",
    "    cadena=sl[0]\n",
    "    if (cadena=='ATOM'):\n",
    "        if (len(sl)==12):\n",
    "            new_bfactor.write(linea)\n",
    "        else:\n",
    "            x=linea[0:60]\n",
    "            tempFactor=linea[60:66]\n",
    "            #print (x)\n",
    "            #print(tempFactor)\n",
    "            y=fila[67:]\n",
    "            #print (y)\n",
    "            enviar=x+' '+tempFactor+y\n",
    "            new_bfactor.write(enviar+'\\n')\n",
    "            #print(enviar)\n",
    "            \n",
    "    else:\n",
    "        #print (linea)\n",
    "        new_bfactor.write(linea)\n",
    "\n",
    "new_bfactor.close()"
   ]
  },
  {
   "cell_type": "markdown",
   "metadata": {},
   "source": [
    "## Revisando la estructura del archivo generado.\n",
    "Revisar que los campos se encuentren completamente alineados en la estructura de los campos.\n",
    "\n",
    "Guardar y salir."
   ]
  },
  {
   "cell_type": "code",
   "execution_count": null,
   "metadata": {
    "collapsed": false
   },
   "outputs": [],
   "source": [
    "!gedit bfac_new.pdb"
   ]
  },
  {
   "cell_type": "markdown",
   "metadata": {},
   "source": [
    "### Generando el archivo de Bfactors para todos los átomos FALTA ADECUAR PARA SACAR EL MAYOR POR RESIDUO"
   ]
  },
  {
   "cell_type": "code",
   "execution_count": null,
   "metadata": {
    "collapsed": false
   },
   "outputs": [],
   "source": [
    "#Inicializando vector\n",
    "bfactors_color=[]\n",
    "try:\n",
    "     file_bfactor_color = open( 'bfac_new.pdb' )\n",
    "except IOError:\n",
    "     print ('No se pudo abrir el archivo o no existe·..')\n",
    "\n",
    "i=0\n",
    "for linea in file_bfactor_color.readlines():\n",
    "    fila = linea.strip()\n",
    "    sl = fila.split()\n",
    "    if (sl[0]=='ATOM'):\n",
    "        #print (sl[0])\n",
    "        idresidue=fila[23:26]\n",
    "        bfactor=fila[60:66]\n",
    "        #print (idresidue + '\\t'+bfactor)\n",
    "        bfactors_color.append(idresidue+'\\t'+bfactor+'\\n')\n",
    "        #i=i+1\n",
    "\n",
    "\n",
    "#Escribiendo el archivo BFACTOR.dat\n",
    "f = open('protein_bfactor.dat', 'w')\n",
    "#f.write('@    title \"B-factors\" \\n')\n",
    "f.write('@    xaxis  label \" Residue\" \\n')\n",
    "f.write('@    xaxis  label char size 1.480000\\n')\n",
    "f.write('@    xaxis  bar linewidth 5.0\\n')\n",
    "f.write('@    xaxis  ticklabel char size 1.480000\\n')\n",
    "f.write('@    yaxis  label \"B-factors (' +\"\\\\\"+'cE'+\"\\\\\"+'C)\"\\n')\n",
    "f.write('@    yaxis  label char size 1.480000\\n')\n",
    "f.write('@    yaxis  bar linewidth 5.0\\n')\n",
    "f.write('@    yaxis  ticklabel char size 1.480000\\n')\n",
    "f.write('@    s0 line linewidth 7\\n')\n",
    "f.write('@    s0 symbol 1\\n')\n",
    "f.write('@    s0 symbol size 1.000000\\n')\n",
    "f.write('@    s0 symbol color 1\\n')\n",
    "f.write('@    s0 symbol pattern 1\\n')\n",
    "f.write('@    s0 symbol fill color 2\\n')\n",
    "f.write('@    s0 symbol fill pattern 1\\n')\n",
    "f.write('@    s0 symbol linewidth 1.0\\n')\n",
    "\n",
    "f.write('@TYPE xy \\n')\n",
    "f.write(\"\".join(bfactors_color))\n",
    "f.close()\n",
    "\n",
    "\n",
    "\n",
    "        "
   ]
  },
  {
   "cell_type": "code",
   "execution_count": null,
   "metadata": {
    "collapsed": true
   },
   "outputs": [],
   "source": [
    "!xmgrace protein_bfactor.dat"
   ]
  },
  {
   "cell_type": "code",
   "execution_count": null,
   "metadata": {
    "collapsed": false
   },
   "outputs": [],
   "source": [
    "#Cargando la imagen generada en xmgrace\n",
    "Image(filename='protein_bfactor.png')"
   ]
  },
  {
   "cell_type": "code",
   "execution_count": null,
   "metadata": {
    "collapsed": false
   },
   "outputs": [],
   "source": [
    "#Calculando el mínimo y máximo del rmsf\n",
    "#Cargando valores del RMSF\n",
    "data_bfactor_color=np.loadtxt('protein_bfactor.dat',comments=['#', '@'])\n",
    "#Obteniendo los valores máximo y mínimo del RMSF\n",
    "min_bfactor_color=np.amin(data_bfactor_color[:,1])\n",
    "max_bfactor_color=np.amax(data_bfactor_color[:,1])\n",
    "\n",
    "print ('Minimo_B-Factor=>',min_bfactor_color)\n",
    "print ('Máximo_B-Factor=>',max_bfactor_color)"
   ]
  },
  {
   "cell_type": "markdown",
   "metadata": {
    "collapsed": true
   },
   "source": [
    "### Cargando el archivo pdb con Chimera para realizar la coloración de Bfactors"
   ]
  },
  {
   "cell_type": "code",
   "execution_count": null,
   "metadata": {
    "collapsed": true
   },
   "outputs": [],
   "source": [
    "!chimera bfac_new.pdb"
   ]
  },
  {
   "cell_type": "markdown",
   "metadata": {},
   "source": [
    "## Instrucciones para generar la imagen de B-factors\n",
    "\n",
    "---\n",
    "\n",
    "** ESTABLECER EL MODO DE VISUALIZACIÓN**\n",
    "1. Seleccionar del menú principal **Presets -> Interactive 2 (all atoms)**.\n",
    "2. Seleccionar del menú principal **Actions -> Surface -> Show**.\n",
    "3. Ajustar el tamaño de la ventana principal.\n",
    "4. Ajustar el tamaño y posición de la figura haciendo uso de la tecla **CTRL+ Button wheel mouse**.\n",
    "\n",
    "---\n",
    "\n",
    "** COLOREAR LOS B-FACTORS **\n",
    "\n",
    "---\n",
    "\n",
    "Seleccionar ** Tools -> Depiction -> Render by Attribute**.\n",
    "\n",
    "\n",
    "Nos desplegará una ventana **Render/Select by Attribute**.\n",
    "  1. Del campo **Attribute** seleccionar **bfactor**.\n",
    "  2. En el histograma que se muestra, seleccionar la barra blanca y cambiar el color de blanco a amarillo en el campo color.\n",
    "  3. Pulsar el botón Apply para visualizar los cambios de coloración.\n",
    "  4. Pulsar OK para finalizar.\n",
    "\n",
    "---\n",
    "\n",
    "** FONDO BLANCO**\n",
    "\n",
    "Para aplicar el fondo blanco:\n",
    "1.  Seleccionar del menú principal **Presets->Publication_1**.\n",
    "\n",
    "---\n",
    "\n",
    "** SALVAR LA POSICIÓN DE LA IMAGEN**\n",
    "\n",
    "Una vez que se ha obtenido la imagen coloreada, ajustar la visualización rotando la imagen, con la finalidad de dejar los espacios adecuados para la inclusión de las etiquetas y la barra de color.\n",
    "\n",
    "Para salvar la posición final de la imagen:\n",
    "  1. Seleccionar **Favorites -> Command Line**.\n",
    "  2. En la línea de comando teclear **savepos p1**\n",
    "  \n",
    "Si por alguna razón movemos la posición, para restaurarla hacer lo siguiente:\n",
    "  1. Seleccionar **Favorites -> Command Line**.\n",
    "  2. En la línea de comando teclear **reset p1** \n",
    "\n",
    "---\n",
    "\n",
    "** TITULO Y BARRA DE COLOR **\n",
    "\n",
    "Seleccionar del menú principal **Tools -> Utilities -> Color Key**. El cual desplegará la ventana **2D Labels/Color Key**.\n",
    "\n",
    "\n",
    "Para desplegar la barra de color:\n",
    "\n",
    "1. Seleccionar la pestaña **Color Key**.\n",
    "2. Cambiar el color blanco por amarillo pulsando en el botón correspondiente.\n",
    "3. Cambiar la palabra **min** por el **valor mínimo calculado del bfactor**.\n",
    "4. Cambiar la palabra **max** por el **valor máximo calculado del bfactor**.\n",
    "5. Dar click con el mouse en la parte inferior de la imagen en donde se desea visualizar la escala. Arrastrar el mouse para definir el largo y ancho de la escala.\n",
    "\n",
    "Para desplegar el título de la barra:\n",
    "\n",
    "1. Seleccionar la pestaña ** Labels**.\n",
    "2. Dar click en la parte superior de barra de color para incrustar el título.\n",
    "3. Escribir el título de la barra como **B-Factors(Å)**.\n",
    "4. Para ajustar el tamaño de letra, en el campo **Font size** cambiar el valor adecuado.\n",
    "\n",
    "Para desplegar el título de la imagen:\n",
    "\n",
    "1. Seleccionar la pestaña ** Labels**.\n",
    "2. Dar click en la parte superior de la imagenr para incrustar el título.\n",
    "3. Escribir el título con el nombre correspondiente.\n",
    "4. Ajustar el tamaño de letra, en el campo **Font size** cambiar el valor adecuado.\n",
    "5. Para el título en negrita, en el campo **Font style** seleccionar **bold**.\n",
    "\n",
    "Notas:\n",
    "1. Si desea **cambiar una etiqueta de posición**, deberá estar en la pestaña **Labels**, mantener pulsado el botón izquierdo del mouse sobre la etiqueta y moverla a la posición deseada.\n",
    "2. Si desea **eliminar una etiqueta**, deberá seleccionarla en el campo de **Labels** y desmarcar la opción **Show**.\n",
    "\n",
    "---\n",
    "\n",
    "** SALVAR LA IMAGEN **\n",
    "\n",
    "Seleccionar del menú principal **File -> Save Image**. El cual desplegará la ventana **Save image**, en el cual en el campo **File name** dar el nombre de **image.png**.\n",
    "\n",
    "---\n",
    "\n",
    "**SALVAR LA SESIÓN DE QUIMERA**\n",
    "\n",
    "Seleccionar del menú principal **File -> Save Session as**. El cual desplegará la ventana **Choose Session Save File**, en el cual en el campo **File name** colocar el nombre con la extensión **.py**.\n"
   ]
  },
  {
   "cell_type": "code",
   "execution_count": null,
   "metadata": {
    "collapsed": false
   },
   "outputs": [],
   "source": [
    "##Cargando la imagen generada\n",
    "\n",
    "print ('Cargando el archivo...')\n",
    "Image(filename='image.png') "
   ]
  },
  {
   "cell_type": "markdown",
   "metadata": {
    "collapsed": true
   },
   "source": [
    "\n",
    "***\n",
    "\n",
    "# Graficando SASA\n",
    "\n",
    "***\n"
   ]
  },
  {
   "cell_type": "code",
   "execution_count": null,
   "metadata": {
    "collapsed": false
   },
   "outputs": [],
   "source": [
    "### Creando el directorio para el análisis del SASA en el directorio de VMD\n",
    "print ('Nos vamos a ', ruta)\n",
    "os.chdir( ruta )\n",
    "output_find=!find   /usr/local -maxdepth 2 -type d -name vmd\n",
    "print (output_find)\n",
    "ruta_vmd=output_find[0]\n",
    "print (ruta_vmd)\n",
    "ruta_vmd_sasa = ruta_vmd+'/plugins/noarch/tcl/iceVMD1.0'\n",
    "print ( ruta_vmd_sasa )\n",
    "if not os.path.exists(ruta_vmd_sasa): \n",
    "    os.makedirs(ruta_vmd_sasa)\n",
    "    print ('Se ha creado la ruta ===>',ruta_vmd_sasa)\n",
    "else:\n",
    "        print (\"La ruta \"+ruta_vmd_sasa+\" existe..!!!\")\n",
    "\n",
    "print ( 'Nos vamos a ....', ruta_vmd_sasa )\n",
    "os.chdir( ruta_vmd_sasa )"
   ]
  },
  {
   "cell_type": "code",
   "execution_count": null,
   "metadata": {
    "collapsed": false
   },
   "outputs": [],
   "source": [
    "#Copiando los archivos generados a la carpeta plugins de VMD\n",
    "print ('\\nCopiando los archivos generados a '+ruta_vmd_sasa)\n",
    "source_file=ruta_scripts+'/iceVMD1.0/colorplot.tcl'\n",
    "dest_file=ruta_vmd_sasa+'/colorplot.tcl'\n",
    "shutil.copy(source_file,dest_file)\n",
    "source_file=ruta_scripts+'/iceVMD1.0/multiplot.tcl'\n",
    "dest_file=ruta_vmd_sasa+'/multiplot.tcl'\n",
    "shutil.copy(source_file,dest_file)\n",
    "source_file=ruta_scripts+'/iceVMD1.0/pkgIndex.tcl'\n",
    "dest_file=ruta_vmd_sasa+'/pkgIndex.tcl'\n",
    "shutil.copy(source_file,dest_file)\n",
    "source_file=ruta_scripts+'/iceVMD1.0/vmdICE.tcl'\n",
    "dest_file=ruta_vmd_sasa+'/vmdICE.tcl'\n",
    "shutil.copy(source_file,dest_file)\n",
    "print('\\nArchivos copiados.. Regresando a... '+nuevaruta)\n",
    "os.chdir( nuevaruta )"
   ]
  },
  {
   "cell_type": "code",
   "execution_count": null,
   "metadata": {
    "collapsed": false
   },
   "outputs": [],
   "source": [
    "### Creando el directorio para la graficación del sasa\n",
    "ruta_sasaColor = nuevaruta+'/sasaColor'\n",
    "print ( ruta_sasaColor )\n",
    "if not os.path.exists(ruta_sasaColor): \n",
    "    os.makedirs(ruta_sasaColor)\n",
    "    print ('Se ha creado la ruta ===>',ruta_sasaColor)\n",
    "else:\n",
    "        print (\"La ruta \"+ruta_sasaColor+\" existe..!!!\")\n",
    "    \n",
    "print ( 'Nos vamos a ....', ruta_sasaColor )\n",
    "os.chdir( ruta_sasaColor )"
   ]
  },
  {
   "cell_type": "code",
   "execution_count": null,
   "metadata": {
    "collapsed": false
   },
   "outputs": [],
   "source": [
    "print ('\\nCopiando el archivo de configuracion a '+ruta_sasaColor)\n",
    "source_file=ruta_scripts+'/iceVMD1.0/vmdrc'\n",
    "dest_file=ruta_sasaColor+'/.vmdrc'\n",
    "shutil.copy(source_file,dest_file)"
   ]
  },
  {
   "cell_type": "markdown",
   "metadata": {},
   "source": [
    "## Coloreando el SASA\n",
    "\n",
    "---\n",
    "\n",
    "Arrancar VMD.\n",
    "\n",
    "**Ventana vmdICE**\n",
    "\n",
    "Dirigirse al menú **Extensions -> Analysis -> vmdICE**, se presentará una ventana y se deberán cambiar los valores de los siguientes campos:\n",
    "1. **To:** Colocar el rango máximo de frames de la trayectoria.\n",
    "2. **Selection for Calculation:** agregar a chain A **and protein**.\n",
    "3. Pulsar en el botón **SASA Single Atom** y esperar a que termine el cálculo.\n",
    "\n",
    "---\n",
    "\n",
    "**CAMBIAR EL COLOR DE FONDO**\n",
    "\n",
    "Dirigirse al menú **Graphics -> Colors **, y realizar las siguientes selecciones:\n",
    "1. **Categories** seleccionar **Display**\n",
    "2. **Names ** seleccionar **Background**\n",
    "3. **Colors** seleccionar **8 White**\n",
    "\n",
    "---\n",
    "\n",
    "**CAMBIAR RESOLUCIÓN DE ESFERAS**\n",
    "\n",
    "Dirigirse al menú **Graphics - Representations**, y en el campo **Sphere Resolution** cambiamos al valor de **50**.\n",
    "\n",
    "**ROTAR LA IMAGEN PARA PRESENTAR UNA MEJOR VISTA Y GUARDARLA**."
   ]
  },
  {
   "cell_type": "code",
   "execution_count": null,
   "metadata": {
    "collapsed": false
   },
   "outputs": [],
   "source": [
    "!vmd ../ionized.psf ../output.xtc"
   ]
  },
  {
   "cell_type": "markdown",
   "metadata": {},
   "source": [
    "## Restaurando configuración default de VMD"
   ]
  },
  {
   "cell_type": "code",
   "execution_count": null,
   "metadata": {
    "collapsed": true
   },
   "outputs": [],
   "source": [
    "#Borrando los archivos del vmd\n",
    "\n",
    "!rm -r $ruta_vmd_sasa"
   ]
  },
  {
   "cell_type": "markdown",
   "metadata": {},
   "source": [
    "\n",
    "---\n",
    "\n",
    "# Graficando el RGYRO\n",
    "\n",
    "---\n"
   ]
  },
  {
   "cell_type": "code",
   "execution_count": null,
   "metadata": {
    "collapsed": false
   },
   "outputs": [],
   "source": [
    "### Creando el directorio para la graficación del rgyro\n",
    "ruta_gyroColor = nuevaruta+'/color_rgyro'\n",
    "print ( ruta_gyroColor )\n",
    "if not os.path.exists(ruta_gyroColor): \n",
    "    os.makedirs(ruta_gyroColor)\n",
    "    print ('Se ha creado la ruta ===>',ruta_gyroColor)\n",
    "else:\n",
    "        print (\"La ruta \"+ruta_gyroColor+\" existe..!!!\")\n",
    "    \n",
    "print ( 'Nos vamos a ....', ruta_gyroColor )\n",
    "os.chdir( ruta_gyroColor )"
   ]
  },
  {
   "cell_type": "code",
   "execution_count": null,
   "metadata": {
    "collapsed": false
   },
   "outputs": [],
   "source": [
    "print ('\\nCopiando el script colorRgyro.tcl a '+ruta_gyroColor)\n",
    "source_file=ruta_scripts+'/colorRgyro/colorRgyro.tcl'\n",
    "dest_file=ruta_gyroColor+'/colorRgyro.tcl'\n",
    "shutil.copy(source_file,dest_file)"
   ]
  },
  {
   "cell_type": "markdown",
   "metadata": {},
   "source": [
    "## Coloreando el RGYRO\n",
    "\n",
    "---\n",
    "\n",
    "Arrancar VMD, dirigirse al manú Extensions -> Tk Console, copiar y ejecutar la siguiente secuencia de comandos:\n",
    "```tcl\n",
    "source colorRgyro.tcl\n",
    "```\n",
    "\n",
    "---\n",
    "\n",
    "**CAMBIAR EL COLOR DE FONDO**\n",
    "\n",
    "Dirigirse al menú **Graphics -> Colors **, y realizar las siguientes selecciones:\n",
    "1. **Categories** seleccionar **Display**\n",
    "2. **Names ** seleccionar **Background**\n",
    "3. **Colors** seleccionar **8 White**\n",
    "\n",
    "---\n",
    "\n",
    "**ROTAR LA IMAGEN PARA PRESENTAR UNA MEJOR VISTA Y GUARDARLA**."
   ]
  },
  {
   "cell_type": "code",
   "execution_count": null,
   "metadata": {
    "collapsed": false
   },
   "outputs": [],
   "source": [
    "!vmd ../ionized.psf ../output.xtc"
   ]
  },
  {
   "cell_type": "code",
   "execution_count": null,
   "metadata": {
    "collapsed": true
   },
   "outputs": [],
   "source": []
  }
 ],
 "metadata": {
  "kernelspec": {
   "display_name": "Python 3",
   "language": "python",
   "name": "python3"
  },
  "language_info": {
   "codemirror_mode": {
    "name": "ipython",
    "version": 3
   },
   "file_extension": ".py",
   "mimetype": "text/x-python",
   "name": "python",
   "nbconvert_exporter": "python",
   "pygments_lexer": "ipython3",
   "version": "3.5.1"
  }
 },
 "nbformat": 4,
 "nbformat_minor": 0
}
